{
 "cells": [
  {
   "cell_type": "markdown",
   "metadata": {
    "id": "wlbGBjqwKypy"
   },
   "source": [
    "# Cleaning and Formatting my data\n",
    "\n",
    "\n"
   ]
  },
  {
   "cell_type": "markdown",
   "metadata": {
    "id": "cg4rmYL1L7RR"
   },
   "source": [
    "This is my data:"
   ]
  },
  {
   "cell_type": "code",
   "execution_count": 76,
   "metadata": {
    "colab": {
     "base_uri": "https://localhost:8080/",
     "height": 325
    },
    "id": "1mt7eLQXLsZ0",
    "outputId": "ea1d11d1-ed7d-459a-bbb7-798dc6702666"
   },
   "outputs": [
    {
     "data": {
      "text/html": [
       "<iframe width=\"700\" height=\"300\" src=\"https://docs.google.com/spreadsheets/d/e/2PACX-1vR-ubcCBaveg-58jcVmbErpO5kZswjFyHN5YlB8tB1a8B4fzU4sqZ08jkOKx4kBz1qtDNkJJWH8vBYF/pubhtml?gid=2024244899&single=true\"></iframe>"
      ]
     },
     "metadata": {},
     "output_type": "display_data"
    }
   ],
   "source": [
    "IRdisplay::display_html('<iframe width=\"700\" height=\"300\" src=\"https://docs.google.com/spreadsheets/d/e/2PACX-1vR-ubcCBaveg-58jcVmbErpO5kZswjFyHN5YlB8tB1a8B4fzU4sqZ08jkOKx4kBz1qtDNkJJWH8vBYF/pubhtml?gid=2024244899&single=true\"></iframe>')"
   ]
  },
  {
   "cell_type": "markdown",
   "metadata": {
    "id": "MQQGVvxRMKp1"
   },
   "source": [
    "You can find it [here](https://docs.google.com/spreadsheets/d/1e1Pll_MGF6dVi4KJTXTiLfRXzkjf7ZdBhd58yt3Vkl8/edit?usp=sharing) too, on GoogleDrive.\n",
    "\n",
    "**FOR this STEP, you should read from GitHub**.\n",
    "\n",
    "This is the link to my CSV:"
   ]
  },
  {
   "cell_type": "code",
   "execution_count": 77,
   "metadata": {
    "id": "yi6mdO0qE9Bh"
   },
   "outputs": [],
   "source": [
    "# the link as CSV\n",
    "linkToData=\"https://docs.google.com/spreadsheets/d/e/2PACX-1vR-ubcCBaveg-58jcVmbErpO5kZswjFyHN5YlB8tB1a8B4fzU4sqZ08jkOKx4kBz1qtDNkJJWH8vBYF/pub?gid=0&single=true&output=csv\""
   ]
  },
  {
   "cell_type": "markdown",
   "metadata": {
    "id": "LCPBKFXjMvlC"
   },
   "source": [
    "Read the data:"
   ]
  },
  {
   "cell_type": "code",
   "execution_count": null,
   "metadata": {
    "id": "vDesgoI8MuIC"
   },
   "outputs": [],
   "source": [
    "dirty=read.csv(linkToData,check.names=F)"
   ]
  },
  {
   "cell_type": "markdown",
   "metadata": {
    "id": "yqClhkWnM6mF"
   },
   "source": [
    "As usual, I check the data types:"
   ]
  },
  {
   "cell_type": "code",
   "execution_count": null,
   "metadata": {
    "id": "F5Ao2B4dM2OS"
   },
   "outputs": [],
   "source": [
    "str(dirty)"
   ]
  },
  {
   "cell_type": "markdown",
   "metadata": {
    "id": "W-XVdq5pNIvM"
   },
   "source": [
    "Now, I identify which are textual, numerical, or categorical.\n",
    "\n",
    "* Columns **identification1** and **identification2** are *textual*.\n",
    "* The columns from **var1** to **var@3** are all *numerical*. But if the type is _object_ the column should have some non numerical characters.\n",
    "* Column **category** is *categorical*. Keep in mind that categorical types will NEVER be recognised as such when read from a CSV. They will always be understood as text (_object_).\n",
    "\n",
    "The **column names** are always *textual*.\n",
    "\n"
   ]
  },
  {
   "cell_type": "markdown",
   "metadata": {
    "id": "klvayVChRX-B"
   },
   "source": [
    "# PART 1. EXPLORATION"
   ]
  },
  {
   "cell_type": "markdown",
   "metadata": {
    "id": "_uE5Gq0svCMP"
   },
   "source": [
    "\n",
    "\n",
    "### 1.1. **Exploring TEXT**\n",
    "\n",
    "\n",
    "When data is textual, you need to explore the cells to verify all the characters are part of the **alphabet**.\n",
    "\n",
    "Let me use R's **grep()** function:"
   ]
  },
  {
   "cell_type": "code",
   "execution_count": null,
   "metadata": {
    "id": "p6MfTGHNO9pY"
   },
   "outputs": [],
   "source": [
    "# show me the cells that have a character outside the alphabet\n",
    "dirty$identification[grep(\"[^a-zA-Z]\",dirty$identification)]"
   ]
  },
  {
   "cell_type": "markdown",
   "metadata": {
    "id": "XnxVoC-tQtRn"
   },
   "source": [
    "United Kingdom is not dirty. But the space is outside the alphabet. What about:"
   ]
  },
  {
   "cell_type": "code",
   "execution_count": null,
   "metadata": {
    "id": "64Ek8f1AQhyo"
   },
   "outputs": [],
   "source": [
    "dirty$identification[grep(\"\\\\W\",dirty$identification)]"
   ]
  },
  {
   "cell_type": "markdown",
   "metadata": {
    "id": "kKiv8YhpTu2r"
   },
   "source": [
    "or..."
   ]
  },
  {
   "cell_type": "code",
   "execution_count": null,
   "metadata": {
    "id": "azFOFPfTQ6a5"
   },
   "outputs": [],
   "source": [
    "dirty$identification[grep(\"[^\\\\w\\\\s]\",dirty$identification,perl=T)]"
   ]
  },
  {
   "cell_type": "markdown",
   "metadata": {
    "id": "CNVtHTXKO5IB"
   },
   "source": [
    "\n",
    "Then the safe option is:"
   ]
  },
  {
   "cell_type": "code",
   "execution_count": null,
   "metadata": {
    "id": "I6XJAxeWsIGb"
   },
   "outputs": [],
   "source": [
    "dirty$identification[grep(\"[^a-zA-Z\\\\s]\",dirty$identification,perl = T)]"
   ]
  },
  {
   "cell_type": "markdown",
   "metadata": {
    "id": "wZMsX-9isV4E"
   },
   "source": [
    "A similar exploration should be done in the **column names**:"
   ]
  },
  {
   "cell_type": "code",
   "execution_count": null,
   "metadata": {
    "id": "PBhk9jgoO1Pt"
   },
   "outputs": [],
   "source": [
    "# allowing numbers, not spaces\n",
    "names(dirty)[grep(\"[^0-9a-zA-Z]\",names(dirty),perl = T)]"
   ]
  },
  {
   "cell_type": "markdown",
   "metadata": {
    "id": "FLieVB59VnLy"
   },
   "source": [
    "And in the case of the column with **categorical data**:"
   ]
  },
  {
   "cell_type": "code",
   "execution_count": null,
   "metadata": {
    "id": "PmZvPFAOVb2j"
   },
   "outputs": [],
   "source": [
    "dirty$category[grep(\"[^a-zA-Z]\",dirty$category,perl = T)]"
   ]
  },
  {
   "cell_type": "markdown",
   "metadata": {
    "id": "rZtluc7CV3cA"
   },
   "source": [
    "### 1.2. **Exploring NUMBERS**\n",
    "\n",
    "If numbers are recognised as so, there is no cleaning needed. But if not, it means it has been recognised as text, then we use the regex **\\d** (and its variations):"
   ]
  },
  {
   "cell_type": "code",
   "execution_count": null,
   "metadata": {
    "id": "ccHsRJmGVsww"
   },
   "outputs": [],
   "source": [
    "dirty$var1[grep(\"\\\\D\",dirty$var1,perl = T)]"
   ]
  },
  {
   "cell_type": "code",
   "execution_count": null,
   "metadata": {
    "id": "yJ6yQY-uWMIt"
   },
   "outputs": [],
   "source": [
    "dirty$'var 2'[grep(\"\\\\D\",dirty$'var 2',perl = T)]"
   ]
  },
  {
   "cell_type": "code",
   "execution_count": null,
   "metadata": {
    "id": "sZaGGk-zWZ6K"
   },
   "outputs": [],
   "source": [
    "### Why the error?\n",
    "# dirty$var@3[grep(\"\\\\D\",dirty$var@3,perl = T)]"
   ]
  },
  {
   "cell_type": "markdown",
   "metadata": {
    "id": "dLMdQ1uaWjU0"
   },
   "source": [
    "Notice I need to use **\"\"** to access the variables with dirty names (space between words, and the **@** special character). That is why you clean the column names first:"
   ]
  },
  {
   "cell_type": "code",
   "execution_count": null,
   "metadata": {
    "id": "q2Iecxi_WUj7"
   },
   "outputs": [],
   "source": [
    "dirty$'var@3'[grep(\"\\\\D\",dirty$'var@3',perl=T)]"
   ]
  },
  {
   "cell_type": "markdown",
   "metadata": {
    "id": "YBlSuvGcuLYN"
   },
   "source": [
    "There are cells with good values, but other values can not be kept. Use **\\D** with care, numbers are complex. So I prefer something like this:"
   ]
  },
  {
   "cell_type": "code",
   "execution_count": null,
   "metadata": {
    "id": "uGvlJx57uZcW"
   },
   "outputs": [],
   "source": [
    "dirty$'var@3'[grep(\"[^\\\\d+\\\\.*\\\\d*]\", dirty$'var@3', perl=T,invert = F)]"
   ]
  },
  {
   "cell_type": "markdown",
   "metadata": {
    "id": "gXqbdwHLWmY7"
   },
   "source": [
    "# PART 2. CLEANING\n",
    "\n",
    "As mentioned, cleaning may mean:\n",
    "\n",
    "a. Making bad characters disappear.\n",
    "\n",
    "b. Keeping good characters stay.\n",
    "\n",
    "\n",
    "Let's start with the _column names_:"
   ]
  },
  {
   "cell_type": "markdown",
   "metadata": {
    "id": "0RbmIvvGR-rJ"
   },
   "source": [
    "## 2.1  The Column names"
   ]
  },
  {
   "cell_type": "code",
   "execution_count": null,
   "metadata": {
    "id": "08lZ2YJJWePM"
   },
   "outputs": [],
   "source": [
    "names(dirty)[grep(\"[^0-9a-zA-Z]\",names(dirty),perl = T)]"
   ]
  },
  {
   "cell_type": "markdown",
   "metadata": {
    "id": "swjrz_7ia4p-"
   },
   "source": [
    "How can you say: if \"a space\" or a \"weird character\", disappear? (that is *replace* by \"\")"
   ]
  },
  {
   "cell_type": "code",
   "execution_count": null,
   "metadata": {
    "id": "xBKjgb3Dar_V"
   },
   "outputs": [],
   "source": [
    "# option 1\n",
    "gsub(\"\\\\W\",'',names(dirty), perl=T )\n"
   ]
  },
  {
   "cell_type": "code",
   "execution_count": null,
   "metadata": {
    "id": "Yqb4_4FRbLKU"
   },
   "outputs": [],
   "source": [
    "# option 2\n",
    "gsub(\"[^\\\\w]\",'',names(dirty), perl=T )"
   ]
  },
  {
   "cell_type": "code",
   "execution_count": null,
   "metadata": {
    "id": "gNQGMLeGbdcG"
   },
   "outputs": [],
   "source": [
    "# # option 3\n",
    "gsub(\"[^0-9a-zA-Z]\",'',names(dirty), perl=T )"
   ]
  },
  {
   "cell_type": "markdown",
   "metadata": {
    "id": "qrCiL6PIcOB3"
   },
   "source": [
    "Choose any and make the change:"
   ]
  },
  {
   "cell_type": "code",
   "execution_count": null,
   "metadata": {
    "id": "VJkm5i-0b0EN"
   },
   "outputs": [],
   "source": [
    "names(dirty)=gsub(\"[^0-9a-zA-Z]\",'',names(dirty), perl=T )\n",
    "dirty"
   ]
  },
  {
   "cell_type": "markdown",
   "metadata": {
    "id": "agZwI0HPc_x3"
   },
   "source": [
    "The column names were cleaned by **Making bad characters disappear** 🙂\n",
    "\n",
    "## 2.2  The dataframe contents\n",
    "\n",
    "The contents include:\n",
    "* The data columns. Generally numbers and categories.\n",
    "* The identifier column(s). Generally text.\n",
    "\n"
   ]
  },
  {
   "cell_type": "markdown",
   "metadata": {
    "id": "e45D-e81SrEj"
   },
   "source": [
    "### 2.2.1 The idientifier column(s)\n",
    "\n",
    "We have two of those. Let's check the **identification** column:"
   ]
  },
  {
   "cell_type": "code",
   "execution_count": null,
   "metadata": {
    "id": "FHtLX5V3cYW3"
   },
   "outputs": [],
   "source": [
    "dirty$identification[grep(\"[^a-zA-Z\\\\s]\",dirty$identification,perl = T)]"
   ]
  },
  {
   "cell_type": "markdown",
   "metadata": {
    "id": "Cz5flS9necoL"
   },
   "source": [
    "Not all characters detected are invalid. The **only** problem here is the brackets. Then:\n",
    "\n",
    "* Option 1: Whatever inside brackets (including the brackets) have to go!"
   ]
  },
  {
   "cell_type": "code",
   "execution_count": null,
   "metadata": {
    "id": "qdXe3HrjeMKC"
   },
   "outputs": [],
   "source": [
    "gsub(\"\\\\[.*\\\\]\",'',dirty$identification,perl = T)"
   ]
  },
  {
   "cell_type": "markdown",
   "metadata": {
    "id": "yQdqE96uhlak"
   },
   "source": [
    "* Option 2: Splitting"
   ]
  },
  {
   "cell_type": "code",
   "execution_count": null,
   "metadata": {
    "id": "qp1d-xVkfHPl"
   },
   "outputs": [],
   "source": [
    "strsplit(dirty$identification,split = '[',fixed=T)"
   ]
  },
  {
   "cell_type": "markdown",
   "metadata": {
    "id": "atTpYtx6K4tE"
   },
   "source": [
    "You got a list. BUT you need a data frame column. Then:"
   ]
  },
  {
   "cell_type": "code",
   "execution_count": null,
   "metadata": {
    "id": "cl4MNOXyLEGB"
   },
   "outputs": [],
   "source": [
    "## saving result\n",
    "resultSplitIn2=strsplit(dirty$identification,split = '[',fixed=T)\n",
    "# as matrix\n",
    "goodColumn=c()\n",
    "for (elements in resultSplitIn2){\n",
    "  goodColumn=c(goodColumn,elements[1])\n",
    "\n",
    "}\n",
    "goodColumn"
   ]
  },
  {
   "cell_type": "markdown",
   "metadata": {
    "id": "_2kBZazbjhk1"
   },
   "source": [
    "When you are happy, make the change:"
   ]
  },
  {
   "cell_type": "code",
   "execution_count": null,
   "metadata": {
    "id": "4aBjngydiiom"
   },
   "outputs": [],
   "source": [
    "dirty$identification=goodColumn\n",
    "dirty"
   ]
  },
  {
   "cell_type": "markdown",
   "metadata": {
    "id": "nKA-BIx8jt8S"
   },
   "source": [
    "The **splitting** option seems very convenient for **identification2**:"
   ]
  },
  {
   "cell_type": "code",
   "execution_count": null,
   "metadata": {
    "id": "1F6gVTxEj6MS"
   },
   "outputs": [],
   "source": [
    "## you want to keep [2]:\n",
    "## saving result\n",
    "resultSplitIn2=strsplit(dirty$identification2,split = ',', fixed = T)\n",
    "# as matrix\n",
    "goodColumn=c()\n",
    "for (elements in resultSplitIn2){\n",
    "  goodColumn=c(goodColumn,elements[2]) #keepig the right part!\n",
    "\n",
    "}\n",
    "goodColumn"
   ]
  },
  {
   "cell_type": "markdown",
   "metadata": {
    "id": "EprMk2H1kCUi"
   },
   "source": [
    "If this is OK, then:"
   ]
  },
  {
   "cell_type": "code",
   "execution_count": null,
   "metadata": {
    "id": "Kma4R2vVkAUJ"
   },
   "outputs": [],
   "source": [
    "dirty$identification2=goodColumn\n",
    "dirty"
   ]
  },
  {
   "cell_type": "markdown",
   "metadata": {
    "id": "hhMKBXwmS1or"
   },
   "source": [
    "### 2.2.2 The Categorical columns"
   ]
  },
  {
   "cell_type": "markdown",
   "metadata": {
    "id": "aXuEiiq-k3ZF"
   },
   "source": [
    "The **category** requires a frequency table:"
   ]
  },
  {
   "cell_type": "code",
   "execution_count": null,
   "metadata": {
    "id": "l8kG5BVykLOK"
   },
   "outputs": [],
   "source": [
    "table(dirty$category)"
   ]
  },
  {
   "cell_type": "markdown",
   "metadata": {
    "id": "S0_2UxwBlE15"
   },
   "source": [
    "You can conclude that the **a** is wrong, it should be **A**."
   ]
  },
  {
   "cell_type": "code",
   "execution_count": null,
   "metadata": {
    "id": "Eq2akJqAlRxx"
   },
   "outputs": [],
   "source": [
    "#what about:\n",
    "gsub('a','A', dirty$category,fixed=T) #fixed uses NO REGEX"
   ]
  },
  {
   "cell_type": "markdown",
   "metadata": {
    "id": "mpxv6ldOo21_"
   },
   "source": [
    "That changed **Ba** to **BA**!"
   ]
  },
  {
   "cell_type": "code",
   "execution_count": null,
   "metadata": {
    "id": "Sbt0sI9_mLqV"
   },
   "outputs": [],
   "source": [
    "## maybe\n",
    "## ^: start of string\n",
    "## $: end  of string\n",
    "gsub('^a$','A', dirty$category)"
   ]
  },
  {
   "cell_type": "markdown",
   "metadata": {
    "id": "s4q-Far4pCPU"
   },
   "source": [
    "The simpler way:"
   ]
  },
  {
   "cell_type": "code",
   "execution_count": null,
   "metadata": {
    "id": "H3G2J2xWlBEs"
   },
   "outputs": [],
   "source": [
    "dirty[dirty$category=='a','category']='A'\n",
    "\n",
    "dirty"
   ]
  },
  {
   "cell_type": "markdown",
   "metadata": {
    "id": "QGf_qIBJopIh"
   },
   "source": [
    "\n",
    "As you seem there are some symbols for missing. We could change it now. Or later.\n",
    "\n",
    "Let me first check the **numeric columns**"
   ]
  },
  {
   "cell_type": "markdown",
   "metadata": {
    "id": "EX4dAXpiTFhx"
   },
   "source": [
    "### 2.2.3. The numerical columns"
   ]
  },
  {
   "cell_type": "code",
   "execution_count": null,
   "metadata": {
    "id": "KoaKd7jlm9cN"
   },
   "outputs": [],
   "source": [
    "gsub(',','',dirty$var1)\n"
   ]
  },
  {
   "cell_type": "markdown",
   "metadata": {
    "id": "MPTeOLYfsf2H"
   },
   "source": [
    "Then,"
   ]
  },
  {
   "cell_type": "code",
   "execution_count": null,
   "metadata": {
    "id": "CtPZW6z3sh0a"
   },
   "outputs": [],
   "source": [
    "dirty$var1=gsub(',','',dirty$var1)\n",
    "dirty\n"
   ]
  },
  {
   "cell_type": "markdown",
   "metadata": {
    "id": "oIipm3TVqX1G"
   },
   "source": [
    "The **var2** is more complicated."
   ]
  },
  {
   "cell_type": "code",
   "execution_count": null,
   "metadata": {
    "id": "6Tkgr57Hp9Nw"
   },
   "outputs": [],
   "source": [
    "# save where you have the issue\n",
    "dirty$var2_temp=grepl(\"\\\\'|k\",dirty$var2,fixed=F)\n",
    "dirty"
   ]
  },
  {
   "cell_type": "code",
   "execution_count": null,
   "metadata": {
    "id": "SWrmthe9pdRB"
   },
   "outputs": [],
   "source": [
    "## now replace\n",
    "dirty$var2=gsub(\"\\\\'|k\",'',dirty$var2)\n",
    "dirty"
   ]
  },
  {
   "cell_type": "code",
   "execution_count": null,
   "metadata": {
    "id": "4oYE45wUrAE_"
   },
   "outputs": [],
   "source": [
    "# now the real value\n",
    "ifelse(dirty$var2_temp,paste0(dirty$var2,'000'),dirty$var2)"
   ]
  },
  {
   "cell_type": "code",
   "execution_count": null,
   "metadata": {
    "id": "BvTllTaxrbDS"
   },
   "outputs": [],
   "source": [
    "# then\n",
    "dirty$var2=ifelse(dirty$var2_temp,paste0(dirty$var2,'000'),dirty$var2)\n",
    "dirty$var2_temp=NULL\n",
    "dirty"
   ]
  },
  {
   "cell_type": "markdown",
   "metadata": {
    "id": "5umWO2Ffsqa_"
   },
   "source": [
    "The **var3** can be solved like this:"
   ]
  },
  {
   "cell_type": "code",
   "execution_count": null,
   "metadata": {
    "id": "jqPoWWBSsXJf"
   },
   "outputs": [],
   "source": [
    "dirty['var3']=gsub(\"\\\\$|\\\\s\",'',dirty$var3)\n",
    "dirty"
   ]
  },
  {
   "cell_type": "markdown",
   "metadata": {
    "id": "_62chrRs3Pc_"
   },
   "source": [
    "## 2.3. Detecting missing values:\n",
    "\n",
    "\n",
    "Wrong missing values representation should be replace with care. Do it according to the data type.\n",
    "\n",
    "Then, let's start with the **categorical** column:"
   ]
  },
  {
   "cell_type": "code",
   "execution_count": null,
   "metadata": {
    "id": "4IsFiRwAsy3E"
   },
   "outputs": [],
   "source": [
    "badSymbolCat=grep('\\\\W+',dirty$category,value = T)\n",
    "badSymbolCat"
   ]
  },
  {
   "cell_type": "markdown",
   "metadata": {
    "id": "7UoB_zvf6xbP"
   },
   "source": [
    "Once found:"
   ]
  },
  {
   "cell_type": "code",
   "execution_count": null,
   "metadata": {
    "id": "c9QHCqGX6zqO"
   },
   "outputs": [],
   "source": [
    "dirty$category=gsub(badSymbolCat,NA,dirty$category,fixed = T)\n",
    "dirty"
   ]
  },
  {
   "cell_type": "markdown",
   "metadata": {
    "id": "1C04RJnc7L7X"
   },
   "source": [
    "Let's go for the **numerical** cases:"
   ]
  },
  {
   "cell_type": "code",
   "execution_count": null,
   "metadata": {
    "id": "ChdHDwPX1wbE"
   },
   "outputs": [],
   "source": [
    "dirty$var1[grep(\"[^\\\\d+\\\\.*\\\\d*]\",dirty$var1,perl = T)]"
   ]
  },
  {
   "cell_type": "code",
   "execution_count": null,
   "metadata": {
    "id": "5Fgv5eCCQtgZ"
   },
   "outputs": [],
   "source": [
    "dirty$var2[grep(\"[^\\\\d+\\\\.*\\\\d*]\",dirty$var2,perl = T)]"
   ]
  },
  {
   "cell_type": "code",
   "execution_count": null,
   "metadata": {
    "id": "1PC1cAvx2fsw"
   },
   "outputs": [],
   "source": [
    "dirty$var3[grep(\"[^\\\\d+\\\\.*\\\\d*]\", dirty$var3, perl=T,invert = F)]"
   ]
  },
  {
   "cell_type": "markdown",
   "metadata": {
    "id": "YCxykWkyQaSb"
   },
   "source": [
    "Here I apply a function to several columns, instead of one by one:"
   ]
  },
  {
   "cell_type": "code",
   "execution_count": null,
   "metadata": {
    "id": "vTSDc1F8tVZh"
   },
   "outputs": [],
   "source": [
    "sapply(dirty[, c('var1','var2','var3')], function(col){col[grep(\"[^\\\\d+\\\\.*\\\\d*]\", col, perl=T,invert = F)]})"
   ]
  },
  {
   "cell_type": "markdown",
   "metadata": {
    "id": "5_Mtggm1Qjdw"
   },
   "source": [
    "Nice output:"
   ]
  },
  {
   "cell_type": "code",
   "execution_count": null,
   "metadata": {
    "id": "tMXgcGddt2DX"
   },
   "outputs": [],
   "source": [
    "unlist(sapply(dirty[, c('var1','var2','var3')], function(col){col[grep(\"[^\\\\d+\\\\.*\\\\d*]\", col, perl=T,invert = F)]}))"
   ]
  },
  {
   "cell_type": "code",
   "execution_count": null,
   "metadata": {
    "id": "3KsiG0Yn3k2S"
   },
   "outputs": [],
   "source": [
    "unique(unlist(sapply(dirty[, c('var1','var2','var3')], function(col){col[grep(\"[^\\\\d+\\\\.*\\\\d*]\", col, perl=T,invert = F)]})))"
   ]
  },
  {
   "cell_type": "markdown",
   "metadata": {
    "id": "IatCR1Gk4oa0"
   },
   "source": [
    "Let's improve readability:"
   ]
  },
  {
   "cell_type": "code",
   "execution_count": null,
   "metadata": {
    "id": "5em1bv4h4j3W"
   },
   "outputs": [],
   "source": [
    "detectWrongNA= function(col){col[grep(\"[^\\\\d+\\\\.*\\\\d*]\", col, perl=T,invert = F)]}\n",
    "badSymbolNum=sapply(dirty[, c('var1','var2','var3')],detectWrongNA)\n",
    "badSymbolNum_unlist=unlist(badSymbolNum)\n",
    "badSymbolNum_vector=unique(badSymbolNum_unlist)\n",
    "badSymbolNum_vector"
   ]
  },
  {
   "cell_type": "markdown",
   "metadata": {
    "id": "0-5BEdm58nzG"
   },
   "source": [
    "Let's clean those columns:"
   ]
  },
  {
   "cell_type": "code",
   "execution_count": null,
   "metadata": {
    "id": "Sl9Mv_N85BsC"
   },
   "outputs": [],
   "source": [
    "\n",
    "\n",
    "dirty[, c('var1','var2','var3')]=lapply(dirty[, c('var1','var2','var3')],function(col) ifelse((col %in% badSymbolNum_vector), NA, col))\n",
    "\n",
    "dirty\n"
   ]
  },
  {
   "cell_type": "code",
   "execution_count": null,
   "metadata": {
    "id": "W7BfGcVW9FY1"
   },
   "outputs": [],
   "source": [
    "str(dirty)"
   ]
  },
  {
   "cell_type": "markdown",
   "metadata": {
    "id": "bo2y1wJv9bT1"
   },
   "source": [
    "Always be preventive with leading and trailing spaces!"
   ]
  },
  {
   "cell_type": "code",
   "execution_count": null,
   "metadata": {
    "id": "mnlQwq6k9MTQ"
   },
   "outputs": [],
   "source": [
    "dirty[,]=sapply(dirty[,],trimws) #use it when all are CHR!\n",
    "nowClean=dirty[,]\n",
    "str(nowClean)"
   ]
  },
  {
   "cell_type": "code",
   "execution_count": null,
   "metadata": {
    "id": "ZeoBfZOfeJCl"
   },
   "outputs": [],
   "source": [
    "nowClean"
   ]
  },
  {
   "cell_type": "markdown",
   "metadata": {
    "id": "Czx5ZCdo95MV"
   },
   "source": [
    "## 2.4. Saving the cleaned data\n",
    "\n",
    "I will save the cleaned dataframe **locally**:"
   ]
  },
  {
   "cell_type": "code",
   "execution_count": null,
   "metadata": {
    "id": "KlvJJMnv9yEk"
   },
   "outputs": [],
   "source": [
    "folder <- \"DataCleanAndFormatted\"\n",
    "\n",
    "# Check if the folder exists\n",
    "if (!dir.exists(folder)) {\n",
    "  # Create the folder\n",
    "  dir.create(folder)\n",
    "  write.csv(nowClean,file.path(folder,\"nowClean.csv\"),row.names=F)\n",
    "\n",
    "} else {\n",
    "  write.csv(nowClean,file.path(folder,\"nowClean.csv\"),row.names=F)}"
   ]
  },
  {
   "cell_type": "markdown",
   "metadata": {
    "id": "ViLiR7F8Tr9U"
   },
   "source": [
    "**The cleaned fill will be sent to Github**\n",
    "\n",
    "The formatting part will read this file from GitHub."
   ]
  },
  {
   "cell_type": "markdown",
   "metadata": {
    "id": "AxXwB5s4U9u-"
   },
   "source": [
    "# PART 3. FORMATTING\n",
    "\n",
    "Let me read the cleaned data from **GITHUB**"
   ]
  },
  {
   "cell_type": "code",
   "execution_count": null,
   "metadata": {
    "id": "YpETWqYViCnu"
   },
   "outputs": [],
   "source": [
    "linkCleanData='https://github.com/MAGALLANESJoseManuel/deli2_test/raw/refs/heads/main/DataCleanAndFormatted/nowClean.csv'\n",
    "cleanData=read.csv(linkCleanData)\n",
    "str(cleanData)"
   ]
  },
  {
   "cell_type": "code",
   "execution_count": null,
   "metadata": {
    "id": "46-026_bYN4a"
   },
   "outputs": [],
   "source": [
    "cleanData"
   ]
  },
  {
   "cell_type": "markdown",
   "metadata": {
    "id": "VkjQ7F0ihdJy"
   },
   "source": [
    "## The numerical data\n",
    "\n",
    "Since the numeric data was clean, you need not format those columns."
   ]
  },
  {
   "cell_type": "markdown",
   "metadata": {
    "id": "qAU_8FrfhhpV"
   },
   "source": [
    "## The categorical data\n",
    "\n",
    "We have one categorical column, currently as text."
   ]
  },
  {
   "cell_type": "code",
   "execution_count": null,
   "metadata": {
    "id": "xOwInEU-h1MC"
   },
   "outputs": [],
   "source": [
    "cleanData$category"
   ]
  },
  {
   "cell_type": "markdown",
   "metadata": {
    "id": "4R1PQ0Rrh6qD"
   },
   "source": [
    "Create a column of labels as categorical. If the levels are NOT ordinal, just use letters (if you had ordinal levels, you should add numbers at the beginning)."
   ]
  },
  {
   "cell_type": "code",
   "execution_count": null,
   "metadata": {
    "id": "E-BJ3UoGjaj4"
   },
   "outputs": [],
   "source": [
    "# create and rename\n",
    "\n",
    "cleanData$category_label=factor(cleanData$category,\n",
    "                                levels = c('A','Ba'),\n",
    "                                labels = c('Not Allied', 'Allied'))\n",
    "\n",
    "# result\n",
    "cleanData"
   ]
  },
  {
   "cell_type": "code",
   "execution_count": null,
   "metadata": {
    "id": "UEn3inAIiTVs"
   },
   "outputs": [],
   "source": [
    "# verifying\n",
    "str(cleanData)"
   ]
  },
  {
   "cell_type": "markdown",
   "metadata": {
    "id": "NE0J6NOikYgA"
   },
   "source": [
    "Now create a representation of the categories using numbers:"
   ]
  },
  {
   "cell_type": "code",
   "execution_count": null,
   "metadata": {
    "id": "HJvLJoZOlJ81"
   },
   "outputs": [],
   "source": [
    "RENAME_category <- c(\"Not Allied\"=0 ,\"Allied\"=1)\n",
    "cleanData$category_int=RENAME_category[cleanData$category_label]\n",
    "\n",
    "#result\n",
    "cleanData"
   ]
  },
  {
   "cell_type": "code",
   "execution_count": null,
   "metadata": {
    "id": "ZZ7qpnHuE5iM"
   },
   "outputs": [],
   "source": [
    "# verifying\n",
    "str(cleanData)"
   ]
  },
  {
   "cell_type": "markdown",
   "metadata": {
    "id": "ehnyVw8ylJVs"
   },
   "source": [
    "## The TEXT data\n",
    "\n",
    "We have two columns of text data."
   ]
  },
  {
   "cell_type": "code",
   "execution_count": null,
   "metadata": {
    "id": "cpSjRlDwlJr3"
   },
   "outputs": [],
   "source": [
    "cleanData[,1:2]"
   ]
  },
  {
   "cell_type": "markdown",
   "metadata": {
    "id": "1PKyvraeln6u"
   },
   "source": [
    "The text format should have all characters in lower or upper case. This will be needed during the **integration** stage. Let me choose upper case:"
   ]
  },
  {
   "cell_type": "code",
   "execution_count": null,
   "metadata": {
    "id": "AE2cWU7ylN-g"
   },
   "outputs": [],
   "source": [
    "lapply(cleanData[,1:2],toupper)"
   ]
  },
  {
   "cell_type": "markdown",
   "metadata": {
    "id": "eanbMiWLof-k"
   },
   "source": [
    "We need to get rid of non-ASCII characters."
   ]
  },
  {
   "cell_type": "code",
   "execution_count": null,
   "metadata": {
    "id": "6B8FmRaplsSd"
   },
   "outputs": [],
   "source": [
    "lapply(lapply(cleanData[,1:2],toupper),iconv,from=\"UTF-8\",to=\"ASCII\")"
   ]
  },
  {
   "cell_type": "markdown",
   "metadata": {
    "id": "sJjFs2fmomz2"
   },
   "source": [
    "Let's create a function to improve readability:"
   ]
  },
  {
   "cell_type": "code",
   "execution_count": null,
   "metadata": {
    "id": "nsAPSlMYnSgY"
   },
   "outputs": [],
   "source": [
    "formatText=function(column){iconv(toupper(column),from=\"UTF-8\",to=\"ASCII\")}\n",
    "cleanData[,1:2]=lapply(cleanData[,1:2],formatText)\n",
    "\n",
    "# result\n",
    "cleanData"
   ]
  },
  {
   "cell_type": "code",
   "execution_count": null,
   "metadata": {},
   "outputs": [],
   "source": [
    "str(cleanData)"
   ]
  },
  {
   "cell_type": "markdown",
   "metadata": {
    "id": "Dt0sRGLnpBsZ"
   },
   "source": [
    "## Saving\n",
    "\n",
    "The data formatted **SHOULD NOT** be saved as CSV. In R, choose **RDS**:"
   ]
  },
  {
   "cell_type": "code",
   "execution_count": null,
   "metadata": {
    "id": "5hX91Pdqmvcb"
   },
   "outputs": [],
   "source": [
    "folder = \"DataCleanAndFormatted\"\n",
    "\n",
    "# Check if the folder exists\n",
    "if (!dir.exists(folder)) {\n",
    "  # Create the folder\n",
    "  dir.create(folder)\n",
    "  saveRDS(cleanData,file.path(folder,\"formatted_Data.RDS\"))\n",
    "  write.csv(cleanData,file.path(folder,\"formatted_Data.csv\"),row.names=F)\n",
    "\n",
    "} else {\n",
    "  saveRDS(cleanData,file.path(folder,\"formatted_Data.RDS\"))\n",
    "  write.csv(cleanData,file.path(folder,\"formatted_Data.csv\"),row.names=F)\n",
    "\n",
    "}"
   ]
  },
  {
   "cell_type": "markdown",
   "metadata": {
    "id": "gBT_lfy4F8SR"
   },
   "source": [
    "Which can be read like this:"
   ]
  },
  {
   "cell_type": "code",
   "execution_count": null,
   "metadata": {
    "id": "Vt_fRl85pXiv"
   },
   "outputs": [],
   "source": [
    "formatted_Data=readRDS(file.path(folder,\"formatted_Data.RDS\"))\n",
    "str(formatted_Data)"
   ]
  },
  {
   "cell_type": "code",
   "execution_count": null,
   "metadata": {
    "id": "8B0DSzAxFtAq"
   },
   "outputs": [],
   "source": [
    "formatted_Data_csv=read.csv(file.path(folder,\"formatted_Data.csv\"))\n",
    "str(formatted_Data_csv)"
   ]
  },
  {
   "cell_type": "code",
   "execution_count": null,
   "metadata": {},
   "outputs": [],
   "source": [
    "summary(formatted_Data_csv)"
   ]
  },
  {
   "cell_type": "code",
   "execution_count": null,
   "metadata": {},
   "outputs": [],
   "source": [
    "summary(formatted_Data)"
   ]
  },
  {
   "cell_type": "code",
   "execution_count": null,
   "metadata": {},
   "outputs": [],
   "source": []
  }
 ],
 "metadata": {
  "colab": {
   "provenance": []
  },
  "kernelspec": {
   "display_name": "R",
   "language": "R",
   "name": "ir"
  },
  "language_info": {
   "codemirror_mode": "r",
   "file_extension": ".r",
   "mimetype": "text/x-r-source",
   "name": "R",
   "pygments_lexer": "r",
   "version": "4.3.3"
  }
 },
 "nbformat": 4,
 "nbformat_minor": 4
}
