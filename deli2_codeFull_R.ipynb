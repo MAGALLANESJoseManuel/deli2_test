{
 "cells": [
  {
   "cell_type": "markdown",
   "metadata": {
    "id": "wlbGBjqwKypy"
   },
   "source": [
    "# Cleaning and Formatting my data\n",
    "\n",
    "\n"
   ]
  },
  {
   "cell_type": "markdown",
   "metadata": {
    "id": "cg4rmYL1L7RR"
   },
   "source": [
    "This is my data:"
   ]
  },
  {
   "cell_type": "code",
   "execution_count": 1,
   "metadata": {
    "colab": {
     "base_uri": "https://localhost:8080/",
     "height": 325
    },
    "id": "1mt7eLQXLsZ0",
    "outputId": "ea1d11d1-ed7d-459a-bbb7-798dc6702666"
   },
   "outputs": [
    {
     "data": {
      "text/html": [
       "<iframe width=\"700\" height=\"300\" src=\"https://docs.google.com/spreadsheets/d/e/2PACX-1vR-ubcCBaveg-58jcVmbErpO5kZswjFyHN5YlB8tB1a8B4fzU4sqZ08jkOKx4kBz1qtDNkJJWH8vBYF/pubhtml?gid=2024244899&single=true\"></iframe>"
      ]
     },
     "metadata": {},
     "output_type": "display_data"
    }
   ],
   "source": [
    "IRdisplay::display_html('<iframe width=\"700\" height=\"300\" src=\"https://docs.google.com/spreadsheets/d/e/2PACX-1vR-ubcCBaveg-58jcVmbErpO5kZswjFyHN5YlB8tB1a8B4fzU4sqZ08jkOKx4kBz1qtDNkJJWH8vBYF/pubhtml?gid=2024244899&single=true\"></iframe>')"
   ]
  },
  {
   "cell_type": "markdown",
   "metadata": {
    "id": "MQQGVvxRMKp1"
   },
   "source": [
    "You can find it [here](https://docs.google.com/spreadsheets/d/1e1Pll_MGF6dVi4KJTXTiLfRXzkjf7ZdBhd58yt3Vkl8/edit?usp=sharing) too, on GoogleDrive.\n",
    "\n",
    "**FOR this STEP, you should read from GitHub**.\n",
    "\n",
    "This is the link to my CSV:"
   ]
  },
  {
   "cell_type": "code",
   "execution_count": 2,
   "metadata": {
    "id": "yi6mdO0qE9Bh"
   },
   "outputs": [],
   "source": [
    "# the link as CSV\n",
    "linkToData=\"https://docs.google.com/spreadsheets/d/e/2PACX-1vR-ubcCBaveg-58jcVmbErpO5kZswjFyHN5YlB8tB1a8B4fzU4sqZ08jkOKx4kBz1qtDNkJJWH8vBYF/pub?gid=0&single=true&output=csv\""
   ]
  },
  {
   "cell_type": "markdown",
   "metadata": {
    "id": "LCPBKFXjMvlC"
   },
   "source": [
    "Read the data:"
   ]
  },
  {
   "cell_type": "code",
   "execution_count": 3,
   "metadata": {
    "id": "vDesgoI8MuIC"
   },
   "outputs": [],
   "source": [
    "dirty=read.csv(linkToData,check.names=F)"
   ]
  },
  {
   "cell_type": "markdown",
   "metadata": {
    "id": "yqClhkWnM6mF"
   },
   "source": [
    "As usual, I check the data types:"
   ]
  },
  {
   "cell_type": "code",
   "execution_count": 4,
   "metadata": {
    "id": "F5Ao2B4dM2OS"
   },
   "outputs": [
    {
     "name": "stdout",
     "output_type": "stream",
     "text": [
      "'data.frame':\t6 obs. of  6 variables:\n",
      " $ identification : chr  \"Perú\" \"USA\" \"Canada\" \"Côte D'Ivoire\" ...\n",
      " $ identification2: chr  \"Peru, South America\" \"USA, North America\" \"Canada, North America\" \"Côte D'Ivoire, Africa\" ...\n",
      " $ var1           : chr  \"1500\" \"2500\" \"3500\" \"2500\" ...\n",
      " $ var 2          : chr  \"1'200\" \"1'300\" \"--\" \"\" ...\n",
      " $ var@3          : chr  \"500\" \"$1 500\" \"1.5\" \"_\" ...\n",
      " $ category       : chr  \"a\" \"A\" \"Ba\" \"Ba\" ...\n"
     ]
    }
   ],
   "source": [
    "str(dirty)"
   ]
  },
  {
   "cell_type": "markdown",
   "metadata": {
    "id": "W-XVdq5pNIvM"
   },
   "source": [
    "Now, I identify which are textual, numerical, or categorical.\n",
    "\n",
    "* Columns **identification1** and **identification2** are *textual*.\n",
    "* The columns from **var1** to **var@3** are all *numerical*. But if the type is _object_ the column should have some non numerical characters.\n",
    "* Column **category** is *categorical*. Keep in mind that categorical types will NEVER be recognised as such when read from a CSV. They will always be understood as text (_object_).\n",
    "\n",
    "The **column names** are always *textual*.\n",
    "\n"
   ]
  },
  {
   "cell_type": "markdown",
   "metadata": {
    "id": "klvayVChRX-B"
   },
   "source": [
    "# PART 1. EXPLORATION"
   ]
  },
  {
   "cell_type": "markdown",
   "metadata": {
    "id": "_uE5Gq0svCMP"
   },
   "source": [
    "\n",
    "\n",
    "### 1.1. **Exploring TEXT**\n",
    "\n",
    "\n",
    "When data is textual, you need to explore the cells to verify all the characters are part of the **alphabet**.\n",
    "\n",
    "Let me use R's **grep()** function:"
   ]
  },
  {
   "cell_type": "code",
   "execution_count": 5,
   "metadata": {
    "id": "p6MfTGHNO9pY"
   },
   "outputs": [
    {
     "data": {
      "text/html": [
       "<style>\n",
       ".list-inline {list-style: none; margin:0; padding: 0}\n",
       ".list-inline>li {display: inline-block}\n",
       ".list-inline>li:not(:last-child)::after {content: \"\\00b7\"; padding: 0 .5ex}\n",
       "</style>\n",
       "<ol class=list-inline><li>'Perú'</li><li>'Côte D\\'Ivoire'</li><li>'Israel [note]'</li><li>'United Kingdom'</li></ol>\n"
      ],
      "text/latex": [
       "\\begin{enumerate*}\n",
       "\\item 'Perú'\n",
       "\\item 'Côte D\\textbackslash{}'Ivoire'\n",
       "\\item 'Israel {[}note{]}'\n",
       "\\item 'United Kingdom'\n",
       "\\end{enumerate*}\n"
      ],
      "text/markdown": [
       "1. 'Perú'\n",
       "2. 'Côte D\\'Ivoire'\n",
       "3. 'Israel [note]'\n",
       "4. 'United Kingdom'\n",
       "\n",
       "\n"
      ],
      "text/plain": [
       "[1] \"Perú\"           \"Côte D'Ivoire\"  \"Israel [note]\"  \"United Kingdom\""
      ]
     },
     "metadata": {},
     "output_type": "display_data"
    }
   ],
   "source": [
    "# show me the cells that have a character outside the alphabet\n",
    "dirty$identification[grep(\"[^a-zA-Z]\",dirty$identification)]"
   ]
  },
  {
   "cell_type": "markdown",
   "metadata": {
    "id": "XnxVoC-tQtRn"
   },
   "source": [
    "United Kingdom is not dirty. But the space is outside the alphabet. What about:"
   ]
  },
  {
   "cell_type": "code",
   "execution_count": 6,
   "metadata": {
    "id": "64Ek8f1AQhyo"
   },
   "outputs": [
    {
     "data": {
      "text/html": [
       "<style>\n",
       ".list-inline {list-style: none; margin:0; padding: 0}\n",
       ".list-inline>li {display: inline-block}\n",
       ".list-inline>li:not(:last-child)::after {content: \"\\00b7\"; padding: 0 .5ex}\n",
       "</style>\n",
       "<ol class=list-inline><li>'Côte D\\'Ivoire'</li><li>'Israel [note]'</li><li>'United Kingdom'</li></ol>\n"
      ],
      "text/latex": [
       "\\begin{enumerate*}\n",
       "\\item 'Côte D\\textbackslash{}'Ivoire'\n",
       "\\item 'Israel {[}note{]}'\n",
       "\\item 'United Kingdom'\n",
       "\\end{enumerate*}\n"
      ],
      "text/markdown": [
       "1. 'Côte D\\'Ivoire'\n",
       "2. 'Israel [note]'\n",
       "3. 'United Kingdom'\n",
       "\n",
       "\n"
      ],
      "text/plain": [
       "[1] \"Côte D'Ivoire\"  \"Israel [note]\"  \"United Kingdom\""
      ]
     },
     "metadata": {},
     "output_type": "display_data"
    }
   ],
   "source": [
    "dirty$identification[grep(\"\\\\W\",dirty$identification)]"
   ]
  },
  {
   "cell_type": "markdown",
   "metadata": {
    "id": "kKiv8YhpTu2r"
   },
   "source": [
    "or..."
   ]
  },
  {
   "cell_type": "code",
   "execution_count": 7,
   "metadata": {
    "id": "azFOFPfTQ6a5"
   },
   "outputs": [
    {
     "data": {
      "text/html": [
       "<style>\n",
       ".list-inline {list-style: none; margin:0; padding: 0}\n",
       ".list-inline>li {display: inline-block}\n",
       ".list-inline>li:not(:last-child)::after {content: \"\\00b7\"; padding: 0 .5ex}\n",
       "</style>\n",
       "<ol class=list-inline><li>'Perú'</li><li>'Côte D\\'Ivoire'</li><li>'Israel [note]'</li></ol>\n"
      ],
      "text/latex": [
       "\\begin{enumerate*}\n",
       "\\item 'Perú'\n",
       "\\item 'Côte D\\textbackslash{}'Ivoire'\n",
       "\\item 'Israel {[}note{]}'\n",
       "\\end{enumerate*}\n"
      ],
      "text/markdown": [
       "1. 'Perú'\n",
       "2. 'Côte D\\'Ivoire'\n",
       "3. 'Israel [note]'\n",
       "\n",
       "\n"
      ],
      "text/plain": [
       "[1] \"Perú\"          \"Côte D'Ivoire\" \"Israel [note]\""
      ]
     },
     "metadata": {},
     "output_type": "display_data"
    }
   ],
   "source": [
    "dirty$identification[grep(\"[^\\\\w\\\\s]\",dirty$identification,perl=T)]"
   ]
  },
  {
   "cell_type": "markdown",
   "metadata": {
    "id": "CNVtHTXKO5IB"
   },
   "source": [
    "\n",
    "Then the safe option is:"
   ]
  },
  {
   "cell_type": "code",
   "execution_count": 8,
   "metadata": {
    "id": "I6XJAxeWsIGb"
   },
   "outputs": [
    {
     "data": {
      "text/html": [
       "<style>\n",
       ".list-inline {list-style: none; margin:0; padding: 0}\n",
       ".list-inline>li {display: inline-block}\n",
       ".list-inline>li:not(:last-child)::after {content: \"\\00b7\"; padding: 0 .5ex}\n",
       "</style>\n",
       "<ol class=list-inline><li>'Perú'</li><li>'Côte D\\'Ivoire'</li><li>'Israel [note]'</li></ol>\n"
      ],
      "text/latex": [
       "\\begin{enumerate*}\n",
       "\\item 'Perú'\n",
       "\\item 'Côte D\\textbackslash{}'Ivoire'\n",
       "\\item 'Israel {[}note{]}'\n",
       "\\end{enumerate*}\n"
      ],
      "text/markdown": [
       "1. 'Perú'\n",
       "2. 'Côte D\\'Ivoire'\n",
       "3. 'Israel [note]'\n",
       "\n",
       "\n"
      ],
      "text/plain": [
       "[1] \"Perú\"          \"Côte D'Ivoire\" \"Israel [note]\""
      ]
     },
     "metadata": {},
     "output_type": "display_data"
    }
   ],
   "source": [
    "dirty$identification[grep(\"[^a-zA-Z\\\\s]\",dirty$identification,perl = T)]"
   ]
  },
  {
   "cell_type": "markdown",
   "metadata": {
    "id": "wZMsX-9isV4E"
   },
   "source": [
    "A similar exploration should be done in the **column names**:"
   ]
  },
  {
   "cell_type": "code",
   "execution_count": 9,
   "metadata": {
    "id": "PBhk9jgoO1Pt"
   },
   "outputs": [
    {
     "data": {
      "text/html": [
       "<style>\n",
       ".list-inline {list-style: none; margin:0; padding: 0}\n",
       ".list-inline>li {display: inline-block}\n",
       ".list-inline>li:not(:last-child)::after {content: \"\\00b7\"; padding: 0 .5ex}\n",
       "</style>\n",
       "<ol class=list-inline><li>'var 2'</li><li>'var@3'</li></ol>\n"
      ],
      "text/latex": [
       "\\begin{enumerate*}\n",
       "\\item 'var 2'\n",
       "\\item 'var@3'\n",
       "\\end{enumerate*}\n"
      ],
      "text/markdown": [
       "1. 'var 2'\n",
       "2. 'var@3'\n",
       "\n",
       "\n"
      ],
      "text/plain": [
       "[1] \"var 2\" \"var@3\""
      ]
     },
     "metadata": {},
     "output_type": "display_data"
    }
   ],
   "source": [
    "# allowing numbers, not spaces\n",
    "names(dirty)[grep(\"[^0-9a-zA-Z]\",names(dirty),perl = T)]"
   ]
  },
  {
   "cell_type": "markdown",
   "metadata": {
    "id": "FLieVB59VnLy"
   },
   "source": [
    "And in the case of the column with **categorical data**:"
   ]
  },
  {
   "cell_type": "code",
   "execution_count": 10,
   "metadata": {
    "id": "PmZvPFAOVb2j"
   },
   "outputs": [
    {
     "data": {
      "text/html": [
       "'?'"
      ],
      "text/latex": [
       "'?'"
      ],
      "text/markdown": [
       "'?'"
      ],
      "text/plain": [
       "[1] \"?\""
      ]
     },
     "metadata": {},
     "output_type": "display_data"
    }
   ],
   "source": [
    "dirty$category[grep(\"[^a-zA-Z]\",dirty$category,perl = T)]"
   ]
  },
  {
   "cell_type": "markdown",
   "metadata": {
    "id": "rZtluc7CV3cA"
   },
   "source": [
    "### 1.2. **Exploring NUMBERS**\n",
    "\n",
    "If numbers are recognised as so, there is no cleaning needed. But if not, it means it has been recognised as text, then we use the regex **\\d** (and its variations):"
   ]
  },
  {
   "cell_type": "code",
   "execution_count": 11,
   "metadata": {
    "id": "ccHsRJmGVsww"
   },
   "outputs": [
    {
     "data": {
      "text/html": [
       "'Dk'"
      ],
      "text/latex": [
       "'Dk'"
      ],
      "text/markdown": [
       "'Dk'"
      ],
      "text/plain": [
       "[1] \"Dk\""
      ]
     },
     "metadata": {},
     "output_type": "display_data"
    }
   ],
   "source": [
    "dirty$var1[grep(\"\\\\D\",dirty$var1,perl = T)]"
   ]
  },
  {
   "cell_type": "code",
   "execution_count": 12,
   "metadata": {
    "id": "yJ6yQY-uWMIt"
   },
   "outputs": [
    {
     "data": {
      "text/html": [
       "<style>\n",
       ".list-inline {list-style: none; margin:0; padding: 0}\n",
       ".list-inline>li {display: inline-block}\n",
       ".list-inline>li:not(:last-child)::after {content: \"\\00b7\"; padding: 0 .5ex}\n",
       "</style>\n",
       "<ol class=list-inline><li>'1\\'200'</li><li>'1\\'300'</li><li>'--'</li><li>'250k'</li></ol>\n"
      ],
      "text/latex": [
       "\\begin{enumerate*}\n",
       "\\item '1\\textbackslash{}'200'\n",
       "\\item '1\\textbackslash{}'300'\n",
       "\\item '--'\n",
       "\\item '250k'\n",
       "\\end{enumerate*}\n"
      ],
      "text/markdown": [
       "1. '1\\'200'\n",
       "2. '1\\'300'\n",
       "3. '--'\n",
       "4. '250k'\n",
       "\n",
       "\n"
      ],
      "text/plain": [
       "[1] \"1'200\" \"1'300\" \"--\"    \"250k\" "
      ]
     },
     "metadata": {},
     "output_type": "display_data"
    }
   ],
   "source": [
    "dirty$'var 2'[grep(\"\\\\D\",dirty$'var 2',perl = T)]"
   ]
  },
  {
   "cell_type": "code",
   "execution_count": 13,
   "metadata": {
    "id": "sZaGGk-zWZ6K"
   },
   "outputs": [],
   "source": [
    "### Why the error?\n",
    "# dirty$var@3[grep(\"\\\\D\",dirty$var@3,perl = T)]"
   ]
  },
  {
   "cell_type": "markdown",
   "metadata": {
    "id": "dLMdQ1uaWjU0"
   },
   "source": [
    "Notice I need to use **\"\"** to access the variables with dirty names (space between words, and the **@** special character). That is why you clean the column names first:"
   ]
  },
  {
   "cell_type": "code",
   "execution_count": 14,
   "metadata": {
    "id": "q2Iecxi_WUj7"
   },
   "outputs": [
    {
     "data": {
      "text/html": [
       "<style>\n",
       ".list-inline {list-style: none; margin:0; padding: 0}\n",
       ".list-inline>li {display: inline-block}\n",
       ".list-inline>li:not(:last-child)::after {content: \"\\00b7\"; padding: 0 .5ex}\n",
       "</style>\n",
       "<ol class=list-inline><li>'$1 500'</li><li>'1.5'</li><li>'_'</li><li>'-'</li></ol>\n"
      ],
      "text/latex": [
       "\\begin{enumerate*}\n",
       "\\item '\\$1 500'\n",
       "\\item '1.5'\n",
       "\\item '\\_'\n",
       "\\item '-'\n",
       "\\end{enumerate*}\n"
      ],
      "text/markdown": [
       "1. '$1 500'\n",
       "2. '1.5'\n",
       "3. '_'\n",
       "4. '-'\n",
       "\n",
       "\n"
      ],
      "text/plain": [
       "[1] \"$1 500\" \"1.5\"    \"_\"      \"-\"     "
      ]
     },
     "metadata": {},
     "output_type": "display_data"
    }
   ],
   "source": [
    "dirty$'var@3'[grep(\"\\\\D\",dirty$'var@3',perl=T)]"
   ]
  },
  {
   "cell_type": "markdown",
   "metadata": {
    "id": "YBlSuvGcuLYN"
   },
   "source": [
    "There are cells with good values, but other values can not be kept. Use **\\D** with care, numbers are complex. So I prefer something like this:"
   ]
  },
  {
   "cell_type": "code",
   "execution_count": 15,
   "metadata": {
    "id": "uGvlJx57uZcW"
   },
   "outputs": [
    {
     "data": {
      "text/html": [
       "<style>\n",
       ".list-inline {list-style: none; margin:0; padding: 0}\n",
       ".list-inline>li {display: inline-block}\n",
       ".list-inline>li:not(:last-child)::after {content: \"\\00b7\"; padding: 0 .5ex}\n",
       "</style>\n",
       "<ol class=list-inline><li>'$1 500'</li><li>'_'</li><li>'-'</li></ol>\n"
      ],
      "text/latex": [
       "\\begin{enumerate*}\n",
       "\\item '\\$1 500'\n",
       "\\item '\\_'\n",
       "\\item '-'\n",
       "\\end{enumerate*}\n"
      ],
      "text/markdown": [
       "1. '$1 500'\n",
       "2. '_'\n",
       "3. '-'\n",
       "\n",
       "\n"
      ],
      "text/plain": [
       "[1] \"$1 500\" \"_\"      \"-\"     "
      ]
     },
     "metadata": {},
     "output_type": "display_data"
    }
   ],
   "source": [
    "dirty$'var@3'[grep(\"[^\\\\d+\\\\.*\\\\d*]\", dirty$'var@3', perl=T,invert = F)]"
   ]
  },
  {
   "cell_type": "markdown",
   "metadata": {
    "id": "gXqbdwHLWmY7"
   },
   "source": [
    "# PART 2. CLEANING\n",
    "\n",
    "As mentioned, cleaning may mean:\n",
    "\n",
    "a. Making bad characters disappear.\n",
    "\n",
    "b. Keeping good characters stay.\n",
    "\n",
    "\n",
    "Let's start with the _column names_:"
   ]
  },
  {
   "cell_type": "markdown",
   "metadata": {
    "id": "0RbmIvvGR-rJ"
   },
   "source": [
    "## 2.1  The Column names"
   ]
  },
  {
   "cell_type": "code",
   "execution_count": 16,
   "metadata": {
    "id": "08lZ2YJJWePM"
   },
   "outputs": [
    {
     "data": {
      "text/html": [
       "<style>\n",
       ".list-inline {list-style: none; margin:0; padding: 0}\n",
       ".list-inline>li {display: inline-block}\n",
       ".list-inline>li:not(:last-child)::after {content: \"\\00b7\"; padding: 0 .5ex}\n",
       "</style>\n",
       "<ol class=list-inline><li>'var 2'</li><li>'var@3'</li></ol>\n"
      ],
      "text/latex": [
       "\\begin{enumerate*}\n",
       "\\item 'var 2'\n",
       "\\item 'var@3'\n",
       "\\end{enumerate*}\n"
      ],
      "text/markdown": [
       "1. 'var 2'\n",
       "2. 'var@3'\n",
       "\n",
       "\n"
      ],
      "text/plain": [
       "[1] \"var 2\" \"var@3\""
      ]
     },
     "metadata": {},
     "output_type": "display_data"
    }
   ],
   "source": [
    "names(dirty)[grep(\"[^0-9a-zA-Z]\",names(dirty),perl = T)]"
   ]
  },
  {
   "cell_type": "markdown",
   "metadata": {
    "id": "swjrz_7ia4p-"
   },
   "source": [
    "How can you say: if \"a space\" or a \"weird character\", disappear? (that is *replace* by \"\")"
   ]
  },
  {
   "cell_type": "code",
   "execution_count": 17,
   "metadata": {
    "id": "xBKjgb3Dar_V"
   },
   "outputs": [
    {
     "data": {
      "text/html": [
       "<style>\n",
       ".list-inline {list-style: none; margin:0; padding: 0}\n",
       ".list-inline>li {display: inline-block}\n",
       ".list-inline>li:not(:last-child)::after {content: \"\\00b7\"; padding: 0 .5ex}\n",
       "</style>\n",
       "<ol class=list-inline><li>'identification'</li><li>'identification2'</li><li>'var1'</li><li>'var2'</li><li>'var3'</li><li>'category'</li></ol>\n"
      ],
      "text/latex": [
       "\\begin{enumerate*}\n",
       "\\item 'identification'\n",
       "\\item 'identification2'\n",
       "\\item 'var1'\n",
       "\\item 'var2'\n",
       "\\item 'var3'\n",
       "\\item 'category'\n",
       "\\end{enumerate*}\n"
      ],
      "text/markdown": [
       "1. 'identification'\n",
       "2. 'identification2'\n",
       "3. 'var1'\n",
       "4. 'var2'\n",
       "5. 'var3'\n",
       "6. 'category'\n",
       "\n",
       "\n"
      ],
      "text/plain": [
       "[1] \"identification\"  \"identification2\" \"var1\"            \"var2\"           \n",
       "[5] \"var3\"            \"category\"       "
      ]
     },
     "metadata": {},
     "output_type": "display_data"
    }
   ],
   "source": [
    "# option 1\n",
    "gsub(\"\\\\W\",'',names(dirty), perl=T )\n"
   ]
  },
  {
   "cell_type": "code",
   "execution_count": 18,
   "metadata": {
    "id": "Yqb4_4FRbLKU"
   },
   "outputs": [
    {
     "data": {
      "text/html": [
       "<style>\n",
       ".list-inline {list-style: none; margin:0; padding: 0}\n",
       ".list-inline>li {display: inline-block}\n",
       ".list-inline>li:not(:last-child)::after {content: \"\\00b7\"; padding: 0 .5ex}\n",
       "</style>\n",
       "<ol class=list-inline><li>'identification'</li><li>'identification2'</li><li>'var1'</li><li>'var2'</li><li>'var3'</li><li>'category'</li></ol>\n"
      ],
      "text/latex": [
       "\\begin{enumerate*}\n",
       "\\item 'identification'\n",
       "\\item 'identification2'\n",
       "\\item 'var1'\n",
       "\\item 'var2'\n",
       "\\item 'var3'\n",
       "\\item 'category'\n",
       "\\end{enumerate*}\n"
      ],
      "text/markdown": [
       "1. 'identification'\n",
       "2. 'identification2'\n",
       "3. 'var1'\n",
       "4. 'var2'\n",
       "5. 'var3'\n",
       "6. 'category'\n",
       "\n",
       "\n"
      ],
      "text/plain": [
       "[1] \"identification\"  \"identification2\" \"var1\"            \"var2\"           \n",
       "[5] \"var3\"            \"category\"       "
      ]
     },
     "metadata": {},
     "output_type": "display_data"
    }
   ],
   "source": [
    "# option 2\n",
    "gsub(\"[^\\\\w]\",'',names(dirty), perl=T )"
   ]
  },
  {
   "cell_type": "code",
   "execution_count": 19,
   "metadata": {
    "id": "gNQGMLeGbdcG"
   },
   "outputs": [
    {
     "data": {
      "text/html": [
       "<style>\n",
       ".list-inline {list-style: none; margin:0; padding: 0}\n",
       ".list-inline>li {display: inline-block}\n",
       ".list-inline>li:not(:last-child)::after {content: \"\\00b7\"; padding: 0 .5ex}\n",
       "</style>\n",
       "<ol class=list-inline><li>'identification'</li><li>'identification2'</li><li>'var1'</li><li>'var2'</li><li>'var3'</li><li>'category'</li></ol>\n"
      ],
      "text/latex": [
       "\\begin{enumerate*}\n",
       "\\item 'identification'\n",
       "\\item 'identification2'\n",
       "\\item 'var1'\n",
       "\\item 'var2'\n",
       "\\item 'var3'\n",
       "\\item 'category'\n",
       "\\end{enumerate*}\n"
      ],
      "text/markdown": [
       "1. 'identification'\n",
       "2. 'identification2'\n",
       "3. 'var1'\n",
       "4. 'var2'\n",
       "5. 'var3'\n",
       "6. 'category'\n",
       "\n",
       "\n"
      ],
      "text/plain": [
       "[1] \"identification\"  \"identification2\" \"var1\"            \"var2\"           \n",
       "[5] \"var3\"            \"category\"       "
      ]
     },
     "metadata": {},
     "output_type": "display_data"
    }
   ],
   "source": [
    "# # option 3\n",
    "gsub(\"[^0-9a-zA-Z]\",'',names(dirty), perl=T )"
   ]
  },
  {
   "cell_type": "markdown",
   "metadata": {
    "id": "qrCiL6PIcOB3"
   },
   "source": [
    "Choose any and make the change:"
   ]
  },
  {
   "cell_type": "code",
   "execution_count": 20,
   "metadata": {
    "id": "VJkm5i-0b0EN"
   },
   "outputs": [
    {
     "data": {
      "text/html": [
       "<table class=\"dataframe\">\n",
       "<caption>A data.frame: 6 × 6</caption>\n",
       "<thead>\n",
       "\t<tr><th scope=col>identification</th><th scope=col>identification2</th><th scope=col>var1</th><th scope=col>var2</th><th scope=col>var3</th><th scope=col>category</th></tr>\n",
       "\t<tr><th scope=col>&lt;chr&gt;</th><th scope=col>&lt;chr&gt;</th><th scope=col>&lt;chr&gt;</th><th scope=col>&lt;chr&gt;</th><th scope=col>&lt;chr&gt;</th><th scope=col>&lt;chr&gt;</th></tr>\n",
       "</thead>\n",
       "<tbody>\n",
       "\t<tr><td>Perú          </td><td>Peru, South America   </td><td>1500</td><td>1'200 </td><td>500   </td><td>a </td></tr>\n",
       "\t<tr><td>USA           </td><td>USA, North America    </td><td>2500</td><td>1'300 </td><td>$1 500</td><td>A </td></tr>\n",
       "\t<tr><td>Canada        </td><td>Canada, North America </td><td>3500</td><td>--    </td><td>1.5   </td><td>Ba</td></tr>\n",
       "\t<tr><td>Côte D'Ivoire </td><td>Côte D'Ivoire, Africa </td><td>2500</td><td>      </td><td>_     </td><td>Ba</td></tr>\n",
       "\t<tr><td>Israel [note] </td><td>Israel [note], Asia   </td><td>Dk  </td><td>250k  </td><td>-     </td><td>? </td></tr>\n",
       "\t<tr><td>United Kingdom</td><td>United Kingdom, Europe</td><td>2550</td><td>310000</td><td>330   </td><td>Ba</td></tr>\n",
       "</tbody>\n",
       "</table>\n"
      ],
      "text/latex": [
       "A data.frame: 6 × 6\n",
       "\\begin{tabular}{llllll}\n",
       " identification & identification2 & var1 & var2 & var3 & category\\\\\n",
       " <chr> & <chr> & <chr> & <chr> & <chr> & <chr>\\\\\n",
       "\\hline\n",
       "\t Perú           & Peru, South America    & 1500 & 1'200  & 500    & a \\\\\n",
       "\t USA            & USA, North America     & 2500 & 1'300  & \\$1 500 & A \\\\\n",
       "\t Canada         & Canada, North America  & 3500 & --     & 1.5    & Ba\\\\\n",
       "\t Côte D'Ivoire  & Côte D'Ivoire, Africa  & 2500 &        & \\_      & Ba\\\\\n",
       "\t Israel {[}note{]}  & Israel {[}note{]}, Asia    & Dk   & 250k   & -      & ? \\\\\n",
       "\t United Kingdom & United Kingdom, Europe & 2550 & 310000 & 330    & Ba\\\\\n",
       "\\end{tabular}\n"
      ],
      "text/markdown": [
       "\n",
       "A data.frame: 6 × 6\n",
       "\n",
       "| identification &lt;chr&gt; | identification2 &lt;chr&gt; | var1 &lt;chr&gt; | var2 &lt;chr&gt; | var3 &lt;chr&gt; | category &lt;chr&gt; |\n",
       "|---|---|---|---|---|---|\n",
       "| Perú           | Peru, South America    | 1500 | 1'200  | 500    | a  |\n",
       "| USA            | USA, North America     | 2500 | 1'300  | $1 500 | A  |\n",
       "| Canada         | Canada, North America  | 3500 | --     | 1.5    | Ba |\n",
       "| Côte D'Ivoire  | Côte D'Ivoire, Africa  | 2500 | <!----> | _      | Ba |\n",
       "| Israel [note]  | Israel [note], Asia    | Dk   | 250k   | -      | ?  |\n",
       "| United Kingdom | United Kingdom, Europe | 2550 | 310000 | 330    | Ba |\n",
       "\n"
      ],
      "text/plain": [
       "  identification identification2        var1 var2   var3   category\n",
       "1 Perú           Peru, South America    1500 1'200  500    a       \n",
       "2 USA            USA, North America     2500 1'300  $1 500 A       \n",
       "3 Canada         Canada, North America  3500 --     1.5    Ba      \n",
       "4 Côte D'Ivoire  Côte D'Ivoire, Africa  2500        _      Ba      \n",
       "5 Israel [note]  Israel [note], Asia    Dk   250k   -      ?       \n",
       "6 United Kingdom United Kingdom, Europe 2550 310000 330    Ba      "
      ]
     },
     "metadata": {},
     "output_type": "display_data"
    }
   ],
   "source": [
    "names(dirty)=gsub(\"[^0-9a-zA-Z]\",'',names(dirty), perl=T )\n",
    "dirty"
   ]
  },
  {
   "cell_type": "markdown",
   "metadata": {
    "id": "agZwI0HPc_x3"
   },
   "source": [
    "The column names were cleaned by **Making bad characters disappear** 🙂\n",
    "\n",
    "## 2.2  The dataframe contents\n",
    "\n",
    "The contents include:\n",
    "* The data columns. Generally numbers and categories.\n",
    "* The identifier column(s). Generally text.\n",
    "\n"
   ]
  },
  {
   "cell_type": "markdown",
   "metadata": {
    "id": "e45D-e81SrEj"
   },
   "source": [
    "### 2.2.1 The idientifier column(s)\n",
    "\n",
    "We have two of those. Let's check the **identification** column:"
   ]
  },
  {
   "cell_type": "code",
   "execution_count": 21,
   "metadata": {
    "id": "FHtLX5V3cYW3"
   },
   "outputs": [
    {
     "data": {
      "text/html": [
       "<style>\n",
       ".list-inline {list-style: none; margin:0; padding: 0}\n",
       ".list-inline>li {display: inline-block}\n",
       ".list-inline>li:not(:last-child)::after {content: \"\\00b7\"; padding: 0 .5ex}\n",
       "</style>\n",
       "<ol class=list-inline><li>'Perú'</li><li>'Côte D\\'Ivoire'</li><li>'Israel [note]'</li></ol>\n"
      ],
      "text/latex": [
       "\\begin{enumerate*}\n",
       "\\item 'Perú'\n",
       "\\item 'Côte D\\textbackslash{}'Ivoire'\n",
       "\\item 'Israel {[}note{]}'\n",
       "\\end{enumerate*}\n"
      ],
      "text/markdown": [
       "1. 'Perú'\n",
       "2. 'Côte D\\'Ivoire'\n",
       "3. 'Israel [note]'\n",
       "\n",
       "\n"
      ],
      "text/plain": [
       "[1] \"Perú\"          \"Côte D'Ivoire\" \"Israel [note]\""
      ]
     },
     "metadata": {},
     "output_type": "display_data"
    }
   ],
   "source": [
    "dirty$identification[grep(\"[^a-zA-Z\\\\s]\",dirty$identification,perl = T)]"
   ]
  },
  {
   "cell_type": "markdown",
   "metadata": {
    "id": "Cz5flS9necoL"
   },
   "source": [
    "Not all characters detected are invalid. The **only** problem here is the brackets. Then:\n",
    "\n",
    "* Option 1: Whatever inside brackets (including the brackets) have to go!"
   ]
  },
  {
   "cell_type": "code",
   "execution_count": 22,
   "metadata": {
    "id": "qdXe3HrjeMKC"
   },
   "outputs": [
    {
     "data": {
      "text/html": [
       "<style>\n",
       ".list-inline {list-style: none; margin:0; padding: 0}\n",
       ".list-inline>li {display: inline-block}\n",
       ".list-inline>li:not(:last-child)::after {content: \"\\00b7\"; padding: 0 .5ex}\n",
       "</style>\n",
       "<ol class=list-inline><li>'Perú'</li><li>'USA'</li><li>'Canada'</li><li>'Côte D\\'Ivoire'</li><li>'Israel '</li><li>'United Kingdom'</li></ol>\n"
      ],
      "text/latex": [
       "\\begin{enumerate*}\n",
       "\\item 'Perú'\n",
       "\\item 'USA'\n",
       "\\item 'Canada'\n",
       "\\item 'Côte D\\textbackslash{}'Ivoire'\n",
       "\\item 'Israel '\n",
       "\\item 'United Kingdom'\n",
       "\\end{enumerate*}\n"
      ],
      "text/markdown": [
       "1. 'Perú'\n",
       "2. 'USA'\n",
       "3. 'Canada'\n",
       "4. 'Côte D\\'Ivoire'\n",
       "5. 'Israel '\n",
       "6. 'United Kingdom'\n",
       "\n",
       "\n"
      ],
      "text/plain": [
       "[1] \"Perú\"           \"USA\"            \"Canada\"         \"Côte D'Ivoire\" \n",
       "[5] \"Israel \"        \"United Kingdom\""
      ]
     },
     "metadata": {},
     "output_type": "display_data"
    }
   ],
   "source": [
    "gsub(\"\\\\[.*\\\\]\",'',dirty$identification,perl = T)"
   ]
  },
  {
   "cell_type": "markdown",
   "metadata": {
    "id": "yQdqE96uhlak"
   },
   "source": [
    "* Option 2: Splitting"
   ]
  },
  {
   "cell_type": "code",
   "execution_count": 23,
   "metadata": {
    "id": "qp1d-xVkfHPl"
   },
   "outputs": [
    {
     "data": {
      "text/html": [
       "<ol>\n",
       "\t<li>'Perú'</li>\n",
       "\t<li>'USA'</li>\n",
       "\t<li>'Canada'</li>\n",
       "\t<li>'Côte D\\'Ivoire'</li>\n",
       "\t<li><style>\n",
       ".list-inline {list-style: none; margin:0; padding: 0}\n",
       ".list-inline>li {display: inline-block}\n",
       ".list-inline>li:not(:last-child)::after {content: \"\\00b7\"; padding: 0 .5ex}\n",
       "</style>\n",
       "<ol class=list-inline><li>'Israel '</li><li>'note]'</li></ol>\n",
       "</li>\n",
       "\t<li>'United Kingdom'</li>\n",
       "</ol>\n"
      ],
      "text/latex": [
       "\\begin{enumerate}\n",
       "\\item 'Perú'\n",
       "\\item 'USA'\n",
       "\\item 'Canada'\n",
       "\\item 'Côte D\\textbackslash{}'Ivoire'\n",
       "\\item \\begin{enumerate*}\n",
       "\\item 'Israel '\n",
       "\\item 'note{]}'\n",
       "\\end{enumerate*}\n",
       "\n",
       "\\item 'United Kingdom'\n",
       "\\end{enumerate}\n"
      ],
      "text/markdown": [
       "1. 'Perú'\n",
       "2. 'USA'\n",
       "3. 'Canada'\n",
       "4. 'Côte D\\'Ivoire'\n",
       "5. 1. 'Israel '\n",
       "2. 'note]'\n",
       "\n",
       "\n",
       "\n",
       "6. 'United Kingdom'\n",
       "\n",
       "\n"
      ],
      "text/plain": [
       "[[1]]\n",
       "[1] \"Perú\"\n",
       "\n",
       "[[2]]\n",
       "[1] \"USA\"\n",
       "\n",
       "[[3]]\n",
       "[1] \"Canada\"\n",
       "\n",
       "[[4]]\n",
       "[1] \"Côte D'Ivoire\"\n",
       "\n",
       "[[5]]\n",
       "[1] \"Israel \" \"note]\"  \n",
       "\n",
       "[[6]]\n",
       "[1] \"United Kingdom\"\n"
      ]
     },
     "metadata": {},
     "output_type": "display_data"
    }
   ],
   "source": [
    "strsplit(dirty$identification,split = '[',fixed=T)"
   ]
  },
  {
   "cell_type": "markdown",
   "metadata": {
    "id": "atTpYtx6K4tE"
   },
   "source": [
    "You got a list. BUT you need a data frame column. Then:"
   ]
  },
  {
   "cell_type": "code",
   "execution_count": 24,
   "metadata": {
    "id": "cl4MNOXyLEGB"
   },
   "outputs": [
    {
     "data": {
      "text/html": [
       "<style>\n",
       ".list-inline {list-style: none; margin:0; padding: 0}\n",
       ".list-inline>li {display: inline-block}\n",
       ".list-inline>li:not(:last-child)::after {content: \"\\00b7\"; padding: 0 .5ex}\n",
       "</style>\n",
       "<ol class=list-inline><li>'Perú'</li><li>'USA'</li><li>'Canada'</li><li>'Côte D\\'Ivoire'</li><li>'Israel '</li><li>'United Kingdom'</li></ol>\n"
      ],
      "text/latex": [
       "\\begin{enumerate*}\n",
       "\\item 'Perú'\n",
       "\\item 'USA'\n",
       "\\item 'Canada'\n",
       "\\item 'Côte D\\textbackslash{}'Ivoire'\n",
       "\\item 'Israel '\n",
       "\\item 'United Kingdom'\n",
       "\\end{enumerate*}\n"
      ],
      "text/markdown": [
       "1. 'Perú'\n",
       "2. 'USA'\n",
       "3. 'Canada'\n",
       "4. 'Côte D\\'Ivoire'\n",
       "5. 'Israel '\n",
       "6. 'United Kingdom'\n",
       "\n",
       "\n"
      ],
      "text/plain": [
       "[1] \"Perú\"           \"USA\"            \"Canada\"         \"Côte D'Ivoire\" \n",
       "[5] \"Israel \"        \"United Kingdom\""
      ]
     },
     "metadata": {},
     "output_type": "display_data"
    }
   ],
   "source": [
    "## saving result\n",
    "resultSplitIn2=strsplit(dirty$identification,split = '[',fixed=T)\n",
    "# as matrix\n",
    "goodColumn=c()\n",
    "for (elements in resultSplitIn2){\n",
    "  goodColumn=c(goodColumn,elements[1])\n",
    "\n",
    "}\n",
    "goodColumn"
   ]
  },
  {
   "cell_type": "markdown",
   "metadata": {
    "id": "_2kBZazbjhk1"
   },
   "source": [
    "When you are happy, make the change:"
   ]
  },
  {
   "cell_type": "code",
   "execution_count": 25,
   "metadata": {
    "id": "4aBjngydiiom"
   },
   "outputs": [
    {
     "data": {
      "text/html": [
       "<table class=\"dataframe\">\n",
       "<caption>A data.frame: 6 × 6</caption>\n",
       "<thead>\n",
       "\t<tr><th scope=col>identification</th><th scope=col>identification2</th><th scope=col>var1</th><th scope=col>var2</th><th scope=col>var3</th><th scope=col>category</th></tr>\n",
       "\t<tr><th scope=col>&lt;chr&gt;</th><th scope=col>&lt;chr&gt;</th><th scope=col>&lt;chr&gt;</th><th scope=col>&lt;chr&gt;</th><th scope=col>&lt;chr&gt;</th><th scope=col>&lt;chr&gt;</th></tr>\n",
       "</thead>\n",
       "<tbody>\n",
       "\t<tr><td>Perú          </td><td>Peru, South America   </td><td>1500</td><td>1'200 </td><td>500   </td><td>a </td></tr>\n",
       "\t<tr><td>USA           </td><td>USA, North America    </td><td>2500</td><td>1'300 </td><td>$1 500</td><td>A </td></tr>\n",
       "\t<tr><td>Canada        </td><td>Canada, North America </td><td>3500</td><td>--    </td><td>1.5   </td><td>Ba</td></tr>\n",
       "\t<tr><td>Côte D'Ivoire </td><td>Côte D'Ivoire, Africa </td><td>2500</td><td>      </td><td>_     </td><td>Ba</td></tr>\n",
       "\t<tr><td>Israel        </td><td>Israel [note], Asia   </td><td>Dk  </td><td>250k  </td><td>-     </td><td>? </td></tr>\n",
       "\t<tr><td>United Kingdom</td><td>United Kingdom, Europe</td><td>2550</td><td>310000</td><td>330   </td><td>Ba</td></tr>\n",
       "</tbody>\n",
       "</table>\n"
      ],
      "text/latex": [
       "A data.frame: 6 × 6\n",
       "\\begin{tabular}{llllll}\n",
       " identification & identification2 & var1 & var2 & var3 & category\\\\\n",
       " <chr> & <chr> & <chr> & <chr> & <chr> & <chr>\\\\\n",
       "\\hline\n",
       "\t Perú           & Peru, South America    & 1500 & 1'200  & 500    & a \\\\\n",
       "\t USA            & USA, North America     & 2500 & 1'300  & \\$1 500 & A \\\\\n",
       "\t Canada         & Canada, North America  & 3500 & --     & 1.5    & Ba\\\\\n",
       "\t Côte D'Ivoire  & Côte D'Ivoire, Africa  & 2500 &        & \\_      & Ba\\\\\n",
       "\t Israel         & Israel {[}note{]}, Asia    & Dk   & 250k   & -      & ? \\\\\n",
       "\t United Kingdom & United Kingdom, Europe & 2550 & 310000 & 330    & Ba\\\\\n",
       "\\end{tabular}\n"
      ],
      "text/markdown": [
       "\n",
       "A data.frame: 6 × 6\n",
       "\n",
       "| identification &lt;chr&gt; | identification2 &lt;chr&gt; | var1 &lt;chr&gt; | var2 &lt;chr&gt; | var3 &lt;chr&gt; | category &lt;chr&gt; |\n",
       "|---|---|---|---|---|---|\n",
       "| Perú           | Peru, South America    | 1500 | 1'200  | 500    | a  |\n",
       "| USA            | USA, North America     | 2500 | 1'300  | $1 500 | A  |\n",
       "| Canada         | Canada, North America  | 3500 | --     | 1.5    | Ba |\n",
       "| Côte D'Ivoire  | Côte D'Ivoire, Africa  | 2500 | <!----> | _      | Ba |\n",
       "| Israel         | Israel [note], Asia    | Dk   | 250k   | -      | ?  |\n",
       "| United Kingdom | United Kingdom, Europe | 2550 | 310000 | 330    | Ba |\n",
       "\n"
      ],
      "text/plain": [
       "  identification identification2        var1 var2   var3   category\n",
       "1 Perú           Peru, South America    1500 1'200  500    a       \n",
       "2 USA            USA, North America     2500 1'300  $1 500 A       \n",
       "3 Canada         Canada, North America  3500 --     1.5    Ba      \n",
       "4 Côte D'Ivoire  Côte D'Ivoire, Africa  2500        _      Ba      \n",
       "5 Israel         Israel [note], Asia    Dk   250k   -      ?       \n",
       "6 United Kingdom United Kingdom, Europe 2550 310000 330    Ba      "
      ]
     },
     "metadata": {},
     "output_type": "display_data"
    }
   ],
   "source": [
    "dirty$identification=goodColumn\n",
    "dirty"
   ]
  },
  {
   "cell_type": "markdown",
   "metadata": {
    "id": "nKA-BIx8jt8S"
   },
   "source": [
    "The **splitting** option seems very convenient for **identification2**:"
   ]
  },
  {
   "cell_type": "code",
   "execution_count": 26,
   "metadata": {
    "id": "1F6gVTxEj6MS"
   },
   "outputs": [
    {
     "data": {
      "text/html": [
       "<style>\n",
       ".list-inline {list-style: none; margin:0; padding: 0}\n",
       ".list-inline>li {display: inline-block}\n",
       ".list-inline>li:not(:last-child)::after {content: \"\\00b7\"; padding: 0 .5ex}\n",
       "</style>\n",
       "<ol class=list-inline><li>' South America'</li><li>' North America'</li><li>' North America'</li><li>' Africa'</li><li>' Asia'</li><li>' Europe'</li></ol>\n"
      ],
      "text/latex": [
       "\\begin{enumerate*}\n",
       "\\item ' South America'\n",
       "\\item ' North America'\n",
       "\\item ' North America'\n",
       "\\item ' Africa'\n",
       "\\item ' Asia'\n",
       "\\item ' Europe'\n",
       "\\end{enumerate*}\n"
      ],
      "text/markdown": [
       "1. ' South America'\n",
       "2. ' North America'\n",
       "3. ' North America'\n",
       "4. ' Africa'\n",
       "5. ' Asia'\n",
       "6. ' Europe'\n",
       "\n",
       "\n"
      ],
      "text/plain": [
       "[1] \" South America\" \" North America\" \" North America\" \" Africa\"       \n",
       "[5] \" Asia\"          \" Europe\"       "
      ]
     },
     "metadata": {},
     "output_type": "display_data"
    }
   ],
   "source": [
    "## you want to keep [2]:\n",
    "## saving result\n",
    "resultSplitIn2=strsplit(dirty$identification2,split = ',', fixed = T)\n",
    "# as matrix\n",
    "goodColumn=c()\n",
    "for (elements in resultSplitIn2){\n",
    "  goodColumn=c(goodColumn,elements[2]) #keepig the right part!\n",
    "\n",
    "}\n",
    "goodColumn"
   ]
  },
  {
   "cell_type": "markdown",
   "metadata": {
    "id": "EprMk2H1kCUi"
   },
   "source": [
    "If this is OK, then:"
   ]
  },
  {
   "cell_type": "code",
   "execution_count": 27,
   "metadata": {
    "id": "Kma4R2vVkAUJ"
   },
   "outputs": [
    {
     "data": {
      "text/html": [
       "<table class=\"dataframe\">\n",
       "<caption>A data.frame: 6 × 6</caption>\n",
       "<thead>\n",
       "\t<tr><th scope=col>identification</th><th scope=col>identification2</th><th scope=col>var1</th><th scope=col>var2</th><th scope=col>var3</th><th scope=col>category</th></tr>\n",
       "\t<tr><th scope=col>&lt;chr&gt;</th><th scope=col>&lt;chr&gt;</th><th scope=col>&lt;chr&gt;</th><th scope=col>&lt;chr&gt;</th><th scope=col>&lt;chr&gt;</th><th scope=col>&lt;chr&gt;</th></tr>\n",
       "</thead>\n",
       "<tbody>\n",
       "\t<tr><td>Perú          </td><td> South America</td><td>1500</td><td>1'200 </td><td>500   </td><td>a </td></tr>\n",
       "\t<tr><td>USA           </td><td> North America</td><td>2500</td><td>1'300 </td><td>$1 500</td><td>A </td></tr>\n",
       "\t<tr><td>Canada        </td><td> North America</td><td>3500</td><td>--    </td><td>1.5   </td><td>Ba</td></tr>\n",
       "\t<tr><td>Côte D'Ivoire </td><td> Africa       </td><td>2500</td><td>      </td><td>_     </td><td>Ba</td></tr>\n",
       "\t<tr><td>Israel        </td><td> Asia         </td><td>Dk  </td><td>250k  </td><td>-     </td><td>? </td></tr>\n",
       "\t<tr><td>United Kingdom</td><td> Europe       </td><td>2550</td><td>310000</td><td>330   </td><td>Ba</td></tr>\n",
       "</tbody>\n",
       "</table>\n"
      ],
      "text/latex": [
       "A data.frame: 6 × 6\n",
       "\\begin{tabular}{llllll}\n",
       " identification & identification2 & var1 & var2 & var3 & category\\\\\n",
       " <chr> & <chr> & <chr> & <chr> & <chr> & <chr>\\\\\n",
       "\\hline\n",
       "\t Perú           &  South America & 1500 & 1'200  & 500    & a \\\\\n",
       "\t USA            &  North America & 2500 & 1'300  & \\$1 500 & A \\\\\n",
       "\t Canada         &  North America & 3500 & --     & 1.5    & Ba\\\\\n",
       "\t Côte D'Ivoire  &  Africa        & 2500 &        & \\_      & Ba\\\\\n",
       "\t Israel         &  Asia          & Dk   & 250k   & -      & ? \\\\\n",
       "\t United Kingdom &  Europe        & 2550 & 310000 & 330    & Ba\\\\\n",
       "\\end{tabular}\n"
      ],
      "text/markdown": [
       "\n",
       "A data.frame: 6 × 6\n",
       "\n",
       "| identification &lt;chr&gt; | identification2 &lt;chr&gt; | var1 &lt;chr&gt; | var2 &lt;chr&gt; | var3 &lt;chr&gt; | category &lt;chr&gt; |\n",
       "|---|---|---|---|---|---|\n",
       "| Perú           |  South America | 1500 | 1'200  | 500    | a  |\n",
       "| USA            |  North America | 2500 | 1'300  | $1 500 | A  |\n",
       "| Canada         |  North America | 3500 | --     | 1.5    | Ba |\n",
       "| Côte D'Ivoire  |  Africa        | 2500 | <!----> | _      | Ba |\n",
       "| Israel         |  Asia          | Dk   | 250k   | -      | ?  |\n",
       "| United Kingdom |  Europe        | 2550 | 310000 | 330    | Ba |\n",
       "\n"
      ],
      "text/plain": [
       "  identification identification2 var1 var2   var3   category\n",
       "1 Perú            South America  1500 1'200  500    a       \n",
       "2 USA             North America  2500 1'300  $1 500 A       \n",
       "3 Canada          North America  3500 --     1.5    Ba      \n",
       "4 Côte D'Ivoire   Africa         2500        _      Ba      \n",
       "5 Israel          Asia           Dk   250k   -      ?       \n",
       "6 United Kingdom  Europe         2550 310000 330    Ba      "
      ]
     },
     "metadata": {},
     "output_type": "display_data"
    }
   ],
   "source": [
    "dirty$identification2=goodColumn\n",
    "dirty"
   ]
  },
  {
   "cell_type": "markdown",
   "metadata": {
    "id": "hhMKBXwmS1or"
   },
   "source": [
    "### 2.2.2 The Categorical columns"
   ]
  },
  {
   "cell_type": "markdown",
   "metadata": {
    "id": "aXuEiiq-k3ZF"
   },
   "source": [
    "The **category** requires a frequency table:"
   ]
  },
  {
   "cell_type": "code",
   "execution_count": 28,
   "metadata": {
    "id": "l8kG5BVykLOK"
   },
   "outputs": [
    {
     "data": {
      "text/plain": [
       "\n",
       " ?  A Ba  a \n",
       " 1  1  3  1 "
      ]
     },
     "metadata": {},
     "output_type": "display_data"
    }
   ],
   "source": [
    "table(dirty$category)"
   ]
  },
  {
   "cell_type": "markdown",
   "metadata": {
    "id": "S0_2UxwBlE15"
   },
   "source": [
    "You can conclude that the **a** is wrong, it should be **A**."
   ]
  },
  {
   "cell_type": "code",
   "execution_count": 29,
   "metadata": {
    "id": "Eq2akJqAlRxx"
   },
   "outputs": [
    {
     "data": {
      "text/html": [
       "<style>\n",
       ".list-inline {list-style: none; margin:0; padding: 0}\n",
       ".list-inline>li {display: inline-block}\n",
       ".list-inline>li:not(:last-child)::after {content: \"\\00b7\"; padding: 0 .5ex}\n",
       "</style>\n",
       "<ol class=list-inline><li>'A'</li><li>'A'</li><li>'BA'</li><li>'BA'</li><li>'?'</li><li>'BA'</li></ol>\n"
      ],
      "text/latex": [
       "\\begin{enumerate*}\n",
       "\\item 'A'\n",
       "\\item 'A'\n",
       "\\item 'BA'\n",
       "\\item 'BA'\n",
       "\\item '?'\n",
       "\\item 'BA'\n",
       "\\end{enumerate*}\n"
      ],
      "text/markdown": [
       "1. 'A'\n",
       "2. 'A'\n",
       "3. 'BA'\n",
       "4. 'BA'\n",
       "5. '?'\n",
       "6. 'BA'\n",
       "\n",
       "\n"
      ],
      "text/plain": [
       "[1] \"A\"  \"A\"  \"BA\" \"BA\" \"?\"  \"BA\""
      ]
     },
     "metadata": {},
     "output_type": "display_data"
    }
   ],
   "source": [
    "#what about:\n",
    "gsub('a','A', dirty$category,fixed=T) #fixed uses NO REGEX"
   ]
  },
  {
   "cell_type": "markdown",
   "metadata": {
    "id": "mpxv6ldOo21_"
   },
   "source": [
    "That changed **Ba** to **BA**!"
   ]
  },
  {
   "cell_type": "code",
   "execution_count": 30,
   "metadata": {
    "id": "Sbt0sI9_mLqV"
   },
   "outputs": [
    {
     "data": {
      "text/html": [
       "<style>\n",
       ".list-inline {list-style: none; margin:0; padding: 0}\n",
       ".list-inline>li {display: inline-block}\n",
       ".list-inline>li:not(:last-child)::after {content: \"\\00b7\"; padding: 0 .5ex}\n",
       "</style>\n",
       "<ol class=list-inline><li>'A'</li><li>'A'</li><li>'Ba'</li><li>'Ba'</li><li>'?'</li><li>'Ba'</li></ol>\n"
      ],
      "text/latex": [
       "\\begin{enumerate*}\n",
       "\\item 'A'\n",
       "\\item 'A'\n",
       "\\item 'Ba'\n",
       "\\item 'Ba'\n",
       "\\item '?'\n",
       "\\item 'Ba'\n",
       "\\end{enumerate*}\n"
      ],
      "text/markdown": [
       "1. 'A'\n",
       "2. 'A'\n",
       "3. 'Ba'\n",
       "4. 'Ba'\n",
       "5. '?'\n",
       "6. 'Ba'\n",
       "\n",
       "\n"
      ],
      "text/plain": [
       "[1] \"A\"  \"A\"  \"Ba\" \"Ba\" \"?\"  \"Ba\""
      ]
     },
     "metadata": {},
     "output_type": "display_data"
    }
   ],
   "source": [
    "## maybe\n",
    "## ^: start of string\n",
    "## $: end  of string\n",
    "gsub('^a$','A', dirty$category)"
   ]
  },
  {
   "cell_type": "markdown",
   "metadata": {
    "id": "s4q-Far4pCPU"
   },
   "source": [
    "The simpler way:"
   ]
  },
  {
   "cell_type": "code",
   "execution_count": 31,
   "metadata": {
    "id": "H3G2J2xWlBEs"
   },
   "outputs": [
    {
     "data": {
      "text/html": [
       "<table class=\"dataframe\">\n",
       "<caption>A data.frame: 6 × 6</caption>\n",
       "<thead>\n",
       "\t<tr><th scope=col>identification</th><th scope=col>identification2</th><th scope=col>var1</th><th scope=col>var2</th><th scope=col>var3</th><th scope=col>category</th></tr>\n",
       "\t<tr><th scope=col>&lt;chr&gt;</th><th scope=col>&lt;chr&gt;</th><th scope=col>&lt;chr&gt;</th><th scope=col>&lt;chr&gt;</th><th scope=col>&lt;chr&gt;</th><th scope=col>&lt;chr&gt;</th></tr>\n",
       "</thead>\n",
       "<tbody>\n",
       "\t<tr><td>Perú          </td><td> South America</td><td>1500</td><td>1'200 </td><td>500   </td><td>A </td></tr>\n",
       "\t<tr><td>USA           </td><td> North America</td><td>2500</td><td>1'300 </td><td>$1 500</td><td>A </td></tr>\n",
       "\t<tr><td>Canada        </td><td> North America</td><td>3500</td><td>--    </td><td>1.5   </td><td>Ba</td></tr>\n",
       "\t<tr><td>Côte D'Ivoire </td><td> Africa       </td><td>2500</td><td>      </td><td>_     </td><td>Ba</td></tr>\n",
       "\t<tr><td>Israel        </td><td> Asia         </td><td>Dk  </td><td>250k  </td><td>-     </td><td>? </td></tr>\n",
       "\t<tr><td>United Kingdom</td><td> Europe       </td><td>2550</td><td>310000</td><td>330   </td><td>Ba</td></tr>\n",
       "</tbody>\n",
       "</table>\n"
      ],
      "text/latex": [
       "A data.frame: 6 × 6\n",
       "\\begin{tabular}{llllll}\n",
       " identification & identification2 & var1 & var2 & var3 & category\\\\\n",
       " <chr> & <chr> & <chr> & <chr> & <chr> & <chr>\\\\\n",
       "\\hline\n",
       "\t Perú           &  South America & 1500 & 1'200  & 500    & A \\\\\n",
       "\t USA            &  North America & 2500 & 1'300  & \\$1 500 & A \\\\\n",
       "\t Canada         &  North America & 3500 & --     & 1.5    & Ba\\\\\n",
       "\t Côte D'Ivoire  &  Africa        & 2500 &        & \\_      & Ba\\\\\n",
       "\t Israel         &  Asia          & Dk   & 250k   & -      & ? \\\\\n",
       "\t United Kingdom &  Europe        & 2550 & 310000 & 330    & Ba\\\\\n",
       "\\end{tabular}\n"
      ],
      "text/markdown": [
       "\n",
       "A data.frame: 6 × 6\n",
       "\n",
       "| identification &lt;chr&gt; | identification2 &lt;chr&gt; | var1 &lt;chr&gt; | var2 &lt;chr&gt; | var3 &lt;chr&gt; | category &lt;chr&gt; |\n",
       "|---|---|---|---|---|---|\n",
       "| Perú           |  South America | 1500 | 1'200  | 500    | A  |\n",
       "| USA            |  North America | 2500 | 1'300  | $1 500 | A  |\n",
       "| Canada         |  North America | 3500 | --     | 1.5    | Ba |\n",
       "| Côte D'Ivoire  |  Africa        | 2500 | <!----> | _      | Ba |\n",
       "| Israel         |  Asia          | Dk   | 250k   | -      | ?  |\n",
       "| United Kingdom |  Europe        | 2550 | 310000 | 330    | Ba |\n",
       "\n"
      ],
      "text/plain": [
       "  identification identification2 var1 var2   var3   category\n",
       "1 Perú            South America  1500 1'200  500    A       \n",
       "2 USA             North America  2500 1'300  $1 500 A       \n",
       "3 Canada          North America  3500 --     1.5    Ba      \n",
       "4 Côte D'Ivoire   Africa         2500        _      Ba      \n",
       "5 Israel          Asia           Dk   250k   -      ?       \n",
       "6 United Kingdom  Europe         2550 310000 330    Ba      "
      ]
     },
     "metadata": {},
     "output_type": "display_data"
    }
   ],
   "source": [
    "dirty[dirty$category=='a','category']='A'\n",
    "\n",
    "dirty"
   ]
  },
  {
   "cell_type": "markdown",
   "metadata": {
    "id": "QGf_qIBJopIh"
   },
   "source": [
    "\n",
    "As you seem there are some symbols for missing. We could change it now. Or later.\n",
    "\n",
    "Let me first check the **numeric columns**"
   ]
  },
  {
   "cell_type": "markdown",
   "metadata": {
    "id": "EX4dAXpiTFhx"
   },
   "source": [
    "### 2.2.3. The numerical columns"
   ]
  },
  {
   "cell_type": "code",
   "execution_count": 32,
   "metadata": {
    "id": "KoaKd7jlm9cN"
   },
   "outputs": [
    {
     "data": {
      "text/html": [
       "<style>\n",
       ".list-inline {list-style: none; margin:0; padding: 0}\n",
       ".list-inline>li {display: inline-block}\n",
       ".list-inline>li:not(:last-child)::after {content: \"\\00b7\"; padding: 0 .5ex}\n",
       "</style>\n",
       "<ol class=list-inline><li>'1500'</li><li>'2500'</li><li>'3500'</li><li>'2500'</li><li>'Dk'</li><li>'2550'</li></ol>\n"
      ],
      "text/latex": [
       "\\begin{enumerate*}\n",
       "\\item '1500'\n",
       "\\item '2500'\n",
       "\\item '3500'\n",
       "\\item '2500'\n",
       "\\item 'Dk'\n",
       "\\item '2550'\n",
       "\\end{enumerate*}\n"
      ],
      "text/markdown": [
       "1. '1500'\n",
       "2. '2500'\n",
       "3. '3500'\n",
       "4. '2500'\n",
       "5. 'Dk'\n",
       "6. '2550'\n",
       "\n",
       "\n"
      ],
      "text/plain": [
       "[1] \"1500\" \"2500\" \"3500\" \"2500\" \"Dk\"   \"2550\""
      ]
     },
     "metadata": {},
     "output_type": "display_data"
    }
   ],
   "source": [
    "gsub(',','',dirty$var1)\n"
   ]
  },
  {
   "cell_type": "markdown",
   "metadata": {
    "id": "MPTeOLYfsf2H"
   },
   "source": [
    "Then,"
   ]
  },
  {
   "cell_type": "code",
   "execution_count": 33,
   "metadata": {
    "id": "CtPZW6z3sh0a"
   },
   "outputs": [
    {
     "data": {
      "text/html": [
       "<table class=\"dataframe\">\n",
       "<caption>A data.frame: 6 × 6</caption>\n",
       "<thead>\n",
       "\t<tr><th scope=col>identification</th><th scope=col>identification2</th><th scope=col>var1</th><th scope=col>var2</th><th scope=col>var3</th><th scope=col>category</th></tr>\n",
       "\t<tr><th scope=col>&lt;chr&gt;</th><th scope=col>&lt;chr&gt;</th><th scope=col>&lt;chr&gt;</th><th scope=col>&lt;chr&gt;</th><th scope=col>&lt;chr&gt;</th><th scope=col>&lt;chr&gt;</th></tr>\n",
       "</thead>\n",
       "<tbody>\n",
       "\t<tr><td>Perú          </td><td> South America</td><td>1500</td><td>1'200 </td><td>500   </td><td>A </td></tr>\n",
       "\t<tr><td>USA           </td><td> North America</td><td>2500</td><td>1'300 </td><td>$1 500</td><td>A </td></tr>\n",
       "\t<tr><td>Canada        </td><td> North America</td><td>3500</td><td>--    </td><td>1.5   </td><td>Ba</td></tr>\n",
       "\t<tr><td>Côte D'Ivoire </td><td> Africa       </td><td>2500</td><td>      </td><td>_     </td><td>Ba</td></tr>\n",
       "\t<tr><td>Israel        </td><td> Asia         </td><td>Dk  </td><td>250k  </td><td>-     </td><td>? </td></tr>\n",
       "\t<tr><td>United Kingdom</td><td> Europe       </td><td>2550</td><td>310000</td><td>330   </td><td>Ba</td></tr>\n",
       "</tbody>\n",
       "</table>\n"
      ],
      "text/latex": [
       "A data.frame: 6 × 6\n",
       "\\begin{tabular}{llllll}\n",
       " identification & identification2 & var1 & var2 & var3 & category\\\\\n",
       " <chr> & <chr> & <chr> & <chr> & <chr> & <chr>\\\\\n",
       "\\hline\n",
       "\t Perú           &  South America & 1500 & 1'200  & 500    & A \\\\\n",
       "\t USA            &  North America & 2500 & 1'300  & \\$1 500 & A \\\\\n",
       "\t Canada         &  North America & 3500 & --     & 1.5    & Ba\\\\\n",
       "\t Côte D'Ivoire  &  Africa        & 2500 &        & \\_      & Ba\\\\\n",
       "\t Israel         &  Asia          & Dk   & 250k   & -      & ? \\\\\n",
       "\t United Kingdom &  Europe        & 2550 & 310000 & 330    & Ba\\\\\n",
       "\\end{tabular}\n"
      ],
      "text/markdown": [
       "\n",
       "A data.frame: 6 × 6\n",
       "\n",
       "| identification &lt;chr&gt; | identification2 &lt;chr&gt; | var1 &lt;chr&gt; | var2 &lt;chr&gt; | var3 &lt;chr&gt; | category &lt;chr&gt; |\n",
       "|---|---|---|---|---|---|\n",
       "| Perú           |  South America | 1500 | 1'200  | 500    | A  |\n",
       "| USA            |  North America | 2500 | 1'300  | $1 500 | A  |\n",
       "| Canada         |  North America | 3500 | --     | 1.5    | Ba |\n",
       "| Côte D'Ivoire  |  Africa        | 2500 | <!----> | _      | Ba |\n",
       "| Israel         |  Asia          | Dk   | 250k   | -      | ?  |\n",
       "| United Kingdom |  Europe        | 2550 | 310000 | 330    | Ba |\n",
       "\n"
      ],
      "text/plain": [
       "  identification identification2 var1 var2   var3   category\n",
       "1 Perú            South America  1500 1'200  500    A       \n",
       "2 USA             North America  2500 1'300  $1 500 A       \n",
       "3 Canada          North America  3500 --     1.5    Ba      \n",
       "4 Côte D'Ivoire   Africa         2500        _      Ba      \n",
       "5 Israel          Asia           Dk   250k   -      ?       \n",
       "6 United Kingdom  Europe         2550 310000 330    Ba      "
      ]
     },
     "metadata": {},
     "output_type": "display_data"
    }
   ],
   "source": [
    "dirty$var1=gsub(',','',dirty$var1)\n",
    "dirty\n"
   ]
  },
  {
   "cell_type": "markdown",
   "metadata": {
    "id": "oIipm3TVqX1G"
   },
   "source": [
    "The **var2** is more complicated."
   ]
  },
  {
   "cell_type": "code",
   "execution_count": 34,
   "metadata": {
    "id": "6Tkgr57Hp9Nw"
   },
   "outputs": [
    {
     "data": {
      "text/html": [
       "<table class=\"dataframe\">\n",
       "<caption>A data.frame: 6 × 7</caption>\n",
       "<thead>\n",
       "\t<tr><th scope=col>identification</th><th scope=col>identification2</th><th scope=col>var1</th><th scope=col>var2</th><th scope=col>var3</th><th scope=col>category</th><th scope=col>var2_temp</th></tr>\n",
       "\t<tr><th scope=col>&lt;chr&gt;</th><th scope=col>&lt;chr&gt;</th><th scope=col>&lt;chr&gt;</th><th scope=col>&lt;chr&gt;</th><th scope=col>&lt;chr&gt;</th><th scope=col>&lt;chr&gt;</th><th scope=col>&lt;lgl&gt;</th></tr>\n",
       "</thead>\n",
       "<tbody>\n",
       "\t<tr><td>Perú          </td><td> South America</td><td>1500</td><td>1'200 </td><td>500   </td><td>A </td><td> TRUE</td></tr>\n",
       "\t<tr><td>USA           </td><td> North America</td><td>2500</td><td>1'300 </td><td>$1 500</td><td>A </td><td> TRUE</td></tr>\n",
       "\t<tr><td>Canada        </td><td> North America</td><td>3500</td><td>--    </td><td>1.5   </td><td>Ba</td><td>FALSE</td></tr>\n",
       "\t<tr><td>Côte D'Ivoire </td><td> Africa       </td><td>2500</td><td>      </td><td>_     </td><td>Ba</td><td>FALSE</td></tr>\n",
       "\t<tr><td>Israel        </td><td> Asia         </td><td>Dk  </td><td>250k  </td><td>-     </td><td>? </td><td> TRUE</td></tr>\n",
       "\t<tr><td>United Kingdom</td><td> Europe       </td><td>2550</td><td>310000</td><td>330   </td><td>Ba</td><td>FALSE</td></tr>\n",
       "</tbody>\n",
       "</table>\n"
      ],
      "text/latex": [
       "A data.frame: 6 × 7\n",
       "\\begin{tabular}{lllllll}\n",
       " identification & identification2 & var1 & var2 & var3 & category & var2\\_temp\\\\\n",
       " <chr> & <chr> & <chr> & <chr> & <chr> & <chr> & <lgl>\\\\\n",
       "\\hline\n",
       "\t Perú           &  South America & 1500 & 1'200  & 500    & A  &  TRUE\\\\\n",
       "\t USA            &  North America & 2500 & 1'300  & \\$1 500 & A  &  TRUE\\\\\n",
       "\t Canada         &  North America & 3500 & --     & 1.5    & Ba & FALSE\\\\\n",
       "\t Côte D'Ivoire  &  Africa        & 2500 &        & \\_      & Ba & FALSE\\\\\n",
       "\t Israel         &  Asia          & Dk   & 250k   & -      & ?  &  TRUE\\\\\n",
       "\t United Kingdom &  Europe        & 2550 & 310000 & 330    & Ba & FALSE\\\\\n",
       "\\end{tabular}\n"
      ],
      "text/markdown": [
       "\n",
       "A data.frame: 6 × 7\n",
       "\n",
       "| identification &lt;chr&gt; | identification2 &lt;chr&gt; | var1 &lt;chr&gt; | var2 &lt;chr&gt; | var3 &lt;chr&gt; | category &lt;chr&gt; | var2_temp &lt;lgl&gt; |\n",
       "|---|---|---|---|---|---|---|\n",
       "| Perú           |  South America | 1500 | 1'200  | 500    | A  |  TRUE |\n",
       "| USA            |  North America | 2500 | 1'300  | $1 500 | A  |  TRUE |\n",
       "| Canada         |  North America | 3500 | --     | 1.5    | Ba | FALSE |\n",
       "| Côte D'Ivoire  |  Africa        | 2500 | <!----> | _      | Ba | FALSE |\n",
       "| Israel         |  Asia          | Dk   | 250k   | -      | ?  |  TRUE |\n",
       "| United Kingdom |  Europe        | 2550 | 310000 | 330    | Ba | FALSE |\n",
       "\n"
      ],
      "text/plain": [
       "  identification identification2 var1 var2   var3   category var2_temp\n",
       "1 Perú            South America  1500 1'200  500    A         TRUE    \n",
       "2 USA             North America  2500 1'300  $1 500 A         TRUE    \n",
       "3 Canada          North America  3500 --     1.5    Ba       FALSE    \n",
       "4 Côte D'Ivoire   Africa         2500        _      Ba       FALSE    \n",
       "5 Israel          Asia           Dk   250k   -      ?         TRUE    \n",
       "6 United Kingdom  Europe         2550 310000 330    Ba       FALSE    "
      ]
     },
     "metadata": {},
     "output_type": "display_data"
    }
   ],
   "source": [
    "# save where you have the issue\n",
    "dirty$var2_temp=grepl(\"\\\\'|k\",dirty$var2,fixed=F)\n",
    "dirty"
   ]
  },
  {
   "cell_type": "code",
   "execution_count": 35,
   "metadata": {
    "id": "SWrmthe9pdRB"
   },
   "outputs": [
    {
     "data": {
      "text/html": [
       "<table class=\"dataframe\">\n",
       "<caption>A data.frame: 6 × 7</caption>\n",
       "<thead>\n",
       "\t<tr><th scope=col>identification</th><th scope=col>identification2</th><th scope=col>var1</th><th scope=col>var2</th><th scope=col>var3</th><th scope=col>category</th><th scope=col>var2_temp</th></tr>\n",
       "\t<tr><th scope=col>&lt;chr&gt;</th><th scope=col>&lt;chr&gt;</th><th scope=col>&lt;chr&gt;</th><th scope=col>&lt;chr&gt;</th><th scope=col>&lt;chr&gt;</th><th scope=col>&lt;chr&gt;</th><th scope=col>&lt;lgl&gt;</th></tr>\n",
       "</thead>\n",
       "<tbody>\n",
       "\t<tr><td>Perú          </td><td> South America</td><td>1500</td><td>1200  </td><td>500   </td><td>A </td><td> TRUE</td></tr>\n",
       "\t<tr><td>USA           </td><td> North America</td><td>2500</td><td>1300  </td><td>$1 500</td><td>A </td><td> TRUE</td></tr>\n",
       "\t<tr><td>Canada        </td><td> North America</td><td>3500</td><td>--    </td><td>1.5   </td><td>Ba</td><td>FALSE</td></tr>\n",
       "\t<tr><td>Côte D'Ivoire </td><td> Africa       </td><td>2500</td><td>      </td><td>_     </td><td>Ba</td><td>FALSE</td></tr>\n",
       "\t<tr><td>Israel        </td><td> Asia         </td><td>Dk  </td><td>250   </td><td>-     </td><td>? </td><td> TRUE</td></tr>\n",
       "\t<tr><td>United Kingdom</td><td> Europe       </td><td>2550</td><td>310000</td><td>330   </td><td>Ba</td><td>FALSE</td></tr>\n",
       "</tbody>\n",
       "</table>\n"
      ],
      "text/latex": [
       "A data.frame: 6 × 7\n",
       "\\begin{tabular}{lllllll}\n",
       " identification & identification2 & var1 & var2 & var3 & category & var2\\_temp\\\\\n",
       " <chr> & <chr> & <chr> & <chr> & <chr> & <chr> & <lgl>\\\\\n",
       "\\hline\n",
       "\t Perú           &  South America & 1500 & 1200   & 500    & A  &  TRUE\\\\\n",
       "\t USA            &  North America & 2500 & 1300   & \\$1 500 & A  &  TRUE\\\\\n",
       "\t Canada         &  North America & 3500 & --     & 1.5    & Ba & FALSE\\\\\n",
       "\t Côte D'Ivoire  &  Africa        & 2500 &        & \\_      & Ba & FALSE\\\\\n",
       "\t Israel         &  Asia          & Dk   & 250    & -      & ?  &  TRUE\\\\\n",
       "\t United Kingdom &  Europe        & 2550 & 310000 & 330    & Ba & FALSE\\\\\n",
       "\\end{tabular}\n"
      ],
      "text/markdown": [
       "\n",
       "A data.frame: 6 × 7\n",
       "\n",
       "| identification &lt;chr&gt; | identification2 &lt;chr&gt; | var1 &lt;chr&gt; | var2 &lt;chr&gt; | var3 &lt;chr&gt; | category &lt;chr&gt; | var2_temp &lt;lgl&gt; |\n",
       "|---|---|---|---|---|---|---|\n",
       "| Perú           |  South America | 1500 | 1200   | 500    | A  |  TRUE |\n",
       "| USA            |  North America | 2500 | 1300   | $1 500 | A  |  TRUE |\n",
       "| Canada         |  North America | 3500 | --     | 1.5    | Ba | FALSE |\n",
       "| Côte D'Ivoire  |  Africa        | 2500 | <!----> | _      | Ba | FALSE |\n",
       "| Israel         |  Asia          | Dk   | 250    | -      | ?  |  TRUE |\n",
       "| United Kingdom |  Europe        | 2550 | 310000 | 330    | Ba | FALSE |\n",
       "\n"
      ],
      "text/plain": [
       "  identification identification2 var1 var2   var3   category var2_temp\n",
       "1 Perú            South America  1500 1200   500    A         TRUE    \n",
       "2 USA             North America  2500 1300   $1 500 A         TRUE    \n",
       "3 Canada          North America  3500 --     1.5    Ba       FALSE    \n",
       "4 Côte D'Ivoire   Africa         2500        _      Ba       FALSE    \n",
       "5 Israel          Asia           Dk   250    -      ?         TRUE    \n",
       "6 United Kingdom  Europe         2550 310000 330    Ba       FALSE    "
      ]
     },
     "metadata": {},
     "output_type": "display_data"
    }
   ],
   "source": [
    "## now replace\n",
    "dirty$var2=gsub(\"\\\\'|k\",'',dirty$var2)\n",
    "dirty"
   ]
  },
  {
   "cell_type": "code",
   "execution_count": 36,
   "metadata": {
    "id": "4oYE45wUrAE_"
   },
   "outputs": [
    {
     "data": {
      "text/html": [
       "<style>\n",
       ".list-inline {list-style: none; margin:0; padding: 0}\n",
       ".list-inline>li {display: inline-block}\n",
       ".list-inline>li:not(:last-child)::after {content: \"\\00b7\"; padding: 0 .5ex}\n",
       "</style>\n",
       "<ol class=list-inline><li>'1200000'</li><li>'1300000'</li><li>'--'</li><li>''</li><li>'250000'</li><li>'310000'</li></ol>\n"
      ],
      "text/latex": [
       "\\begin{enumerate*}\n",
       "\\item '1200000'\n",
       "\\item '1300000'\n",
       "\\item '--'\n",
       "\\item ''\n",
       "\\item '250000'\n",
       "\\item '310000'\n",
       "\\end{enumerate*}\n"
      ],
      "text/markdown": [
       "1. '1200000'\n",
       "2. '1300000'\n",
       "3. '--'\n",
       "4. ''\n",
       "5. '250000'\n",
       "6. '310000'\n",
       "\n",
       "\n"
      ],
      "text/plain": [
       "[1] \"1200000\" \"1300000\" \"--\"      \"\"        \"250000\"  \"310000\" "
      ]
     },
     "metadata": {},
     "output_type": "display_data"
    }
   ],
   "source": [
    "# now the real value\n",
    "ifelse(dirty$var2_temp,paste0(dirty$var2,'000'),dirty$var2)"
   ]
  },
  {
   "cell_type": "code",
   "execution_count": 37,
   "metadata": {
    "id": "BvTllTaxrbDS"
   },
   "outputs": [
    {
     "data": {
      "text/html": [
       "<table class=\"dataframe\">\n",
       "<caption>A data.frame: 6 × 6</caption>\n",
       "<thead>\n",
       "\t<tr><th scope=col>identification</th><th scope=col>identification2</th><th scope=col>var1</th><th scope=col>var2</th><th scope=col>var3</th><th scope=col>category</th></tr>\n",
       "\t<tr><th scope=col>&lt;chr&gt;</th><th scope=col>&lt;chr&gt;</th><th scope=col>&lt;chr&gt;</th><th scope=col>&lt;chr&gt;</th><th scope=col>&lt;chr&gt;</th><th scope=col>&lt;chr&gt;</th></tr>\n",
       "</thead>\n",
       "<tbody>\n",
       "\t<tr><td>Perú          </td><td> South America</td><td>1500</td><td>1200000</td><td>500   </td><td>A </td></tr>\n",
       "\t<tr><td>USA           </td><td> North America</td><td>2500</td><td>1300000</td><td>$1 500</td><td>A </td></tr>\n",
       "\t<tr><td>Canada        </td><td> North America</td><td>3500</td><td>--     </td><td>1.5   </td><td>Ba</td></tr>\n",
       "\t<tr><td>Côte D'Ivoire </td><td> Africa       </td><td>2500</td><td>       </td><td>_     </td><td>Ba</td></tr>\n",
       "\t<tr><td>Israel        </td><td> Asia         </td><td>Dk  </td><td>250000 </td><td>-     </td><td>? </td></tr>\n",
       "\t<tr><td>United Kingdom</td><td> Europe       </td><td>2550</td><td>310000 </td><td>330   </td><td>Ba</td></tr>\n",
       "</tbody>\n",
       "</table>\n"
      ],
      "text/latex": [
       "A data.frame: 6 × 6\n",
       "\\begin{tabular}{llllll}\n",
       " identification & identification2 & var1 & var2 & var3 & category\\\\\n",
       " <chr> & <chr> & <chr> & <chr> & <chr> & <chr>\\\\\n",
       "\\hline\n",
       "\t Perú           &  South America & 1500 & 1200000 & 500    & A \\\\\n",
       "\t USA            &  North America & 2500 & 1300000 & \\$1 500 & A \\\\\n",
       "\t Canada         &  North America & 3500 & --      & 1.5    & Ba\\\\\n",
       "\t Côte D'Ivoire  &  Africa        & 2500 &         & \\_      & Ba\\\\\n",
       "\t Israel         &  Asia          & Dk   & 250000  & -      & ? \\\\\n",
       "\t United Kingdom &  Europe        & 2550 & 310000  & 330    & Ba\\\\\n",
       "\\end{tabular}\n"
      ],
      "text/markdown": [
       "\n",
       "A data.frame: 6 × 6\n",
       "\n",
       "| identification &lt;chr&gt; | identification2 &lt;chr&gt; | var1 &lt;chr&gt; | var2 &lt;chr&gt; | var3 &lt;chr&gt; | category &lt;chr&gt; |\n",
       "|---|---|---|---|---|---|\n",
       "| Perú           |  South America | 1500 | 1200000 | 500    | A  |\n",
       "| USA            |  North America | 2500 | 1300000 | $1 500 | A  |\n",
       "| Canada         |  North America | 3500 | --      | 1.5    | Ba |\n",
       "| Côte D'Ivoire  |  Africa        | 2500 | <!----> | _      | Ba |\n",
       "| Israel         |  Asia          | Dk   | 250000  | -      | ?  |\n",
       "| United Kingdom |  Europe        | 2550 | 310000  | 330    | Ba |\n",
       "\n"
      ],
      "text/plain": [
       "  identification identification2 var1 var2    var3   category\n",
       "1 Perú            South America  1500 1200000 500    A       \n",
       "2 USA             North America  2500 1300000 $1 500 A       \n",
       "3 Canada          North America  3500 --      1.5    Ba      \n",
       "4 Côte D'Ivoire   Africa         2500         _      Ba      \n",
       "5 Israel          Asia           Dk   250000  -      ?       \n",
       "6 United Kingdom  Europe         2550 310000  330    Ba      "
      ]
     },
     "metadata": {},
     "output_type": "display_data"
    }
   ],
   "source": [
    "# then\n",
    "dirty$var2=ifelse(dirty$var2_temp,paste0(dirty$var2,'000'),dirty$var2)\n",
    "dirty$var2_temp=NULL\n",
    "dirty"
   ]
  },
  {
   "cell_type": "markdown",
   "metadata": {
    "id": "5umWO2Ffsqa_"
   },
   "source": [
    "The **var3** can be solved like this:"
   ]
  },
  {
   "cell_type": "code",
   "execution_count": 38,
   "metadata": {
    "id": "jqPoWWBSsXJf"
   },
   "outputs": [
    {
     "data": {
      "text/html": [
       "<table class=\"dataframe\">\n",
       "<caption>A data.frame: 6 × 6</caption>\n",
       "<thead>\n",
       "\t<tr><th scope=col>identification</th><th scope=col>identification2</th><th scope=col>var1</th><th scope=col>var2</th><th scope=col>var3</th><th scope=col>category</th></tr>\n",
       "\t<tr><th scope=col>&lt;chr&gt;</th><th scope=col>&lt;chr&gt;</th><th scope=col>&lt;chr&gt;</th><th scope=col>&lt;chr&gt;</th><th scope=col>&lt;chr&gt;</th><th scope=col>&lt;chr&gt;</th></tr>\n",
       "</thead>\n",
       "<tbody>\n",
       "\t<tr><td>Perú          </td><td> South America</td><td>1500</td><td>1200000</td><td>500 </td><td>A </td></tr>\n",
       "\t<tr><td>USA           </td><td> North America</td><td>2500</td><td>1300000</td><td>1500</td><td>A </td></tr>\n",
       "\t<tr><td>Canada        </td><td> North America</td><td>3500</td><td>--     </td><td>1.5 </td><td>Ba</td></tr>\n",
       "\t<tr><td>Côte D'Ivoire </td><td> Africa       </td><td>2500</td><td>       </td><td>_   </td><td>Ba</td></tr>\n",
       "\t<tr><td>Israel        </td><td> Asia         </td><td>Dk  </td><td>250000 </td><td>-   </td><td>? </td></tr>\n",
       "\t<tr><td>United Kingdom</td><td> Europe       </td><td>2550</td><td>310000 </td><td>330 </td><td>Ba</td></tr>\n",
       "</tbody>\n",
       "</table>\n"
      ],
      "text/latex": [
       "A data.frame: 6 × 6\n",
       "\\begin{tabular}{llllll}\n",
       " identification & identification2 & var1 & var2 & var3 & category\\\\\n",
       " <chr> & <chr> & <chr> & <chr> & <chr> & <chr>\\\\\n",
       "\\hline\n",
       "\t Perú           &  South America & 1500 & 1200000 & 500  & A \\\\\n",
       "\t USA            &  North America & 2500 & 1300000 & 1500 & A \\\\\n",
       "\t Canada         &  North America & 3500 & --      & 1.5  & Ba\\\\\n",
       "\t Côte D'Ivoire  &  Africa        & 2500 &         & \\_    & Ba\\\\\n",
       "\t Israel         &  Asia          & Dk   & 250000  & -    & ? \\\\\n",
       "\t United Kingdom &  Europe        & 2550 & 310000  & 330  & Ba\\\\\n",
       "\\end{tabular}\n"
      ],
      "text/markdown": [
       "\n",
       "A data.frame: 6 × 6\n",
       "\n",
       "| identification &lt;chr&gt; | identification2 &lt;chr&gt; | var1 &lt;chr&gt; | var2 &lt;chr&gt; | var3 &lt;chr&gt; | category &lt;chr&gt; |\n",
       "|---|---|---|---|---|---|\n",
       "| Perú           |  South America | 1500 | 1200000 | 500  | A  |\n",
       "| USA            |  North America | 2500 | 1300000 | 1500 | A  |\n",
       "| Canada         |  North America | 3500 | --      | 1.5  | Ba |\n",
       "| Côte D'Ivoire  |  Africa        | 2500 | <!----> | _    | Ba |\n",
       "| Israel         |  Asia          | Dk   | 250000  | -    | ?  |\n",
       "| United Kingdom |  Europe        | 2550 | 310000  | 330  | Ba |\n",
       "\n"
      ],
      "text/plain": [
       "  identification identification2 var1 var2    var3 category\n",
       "1 Perú            South America  1500 1200000 500  A       \n",
       "2 USA             North America  2500 1300000 1500 A       \n",
       "3 Canada          North America  3500 --      1.5  Ba      \n",
       "4 Côte D'Ivoire   Africa         2500         _    Ba      \n",
       "5 Israel          Asia           Dk   250000  -    ?       \n",
       "6 United Kingdom  Europe         2550 310000  330  Ba      "
      ]
     },
     "metadata": {},
     "output_type": "display_data"
    }
   ],
   "source": [
    "dirty['var3']=gsub(\"\\\\$|\\\\s\",'',dirty$var3)\n",
    "dirty"
   ]
  },
  {
   "cell_type": "markdown",
   "metadata": {
    "id": "_62chrRs3Pc_"
   },
   "source": [
    "## 2.3. Detecting missing values:\n",
    "\n",
    "\n",
    "Wrong missing values representation should be replace with care. Do it according to the data type.\n",
    "\n",
    "Then, let's start with the **categorical** column:"
   ]
  },
  {
   "cell_type": "code",
   "execution_count": 39,
   "metadata": {
    "id": "4IsFiRwAsy3E"
   },
   "outputs": [
    {
     "data": {
      "text/html": [
       "'?'"
      ],
      "text/latex": [
       "'?'"
      ],
      "text/markdown": [
       "'?'"
      ],
      "text/plain": [
       "[1] \"?\""
      ]
     },
     "metadata": {},
     "output_type": "display_data"
    }
   ],
   "source": [
    "badSymbolCat=grep('\\\\W+',dirty$category,value = T)\n",
    "badSymbolCat"
   ]
  },
  {
   "cell_type": "markdown",
   "metadata": {
    "id": "7UoB_zvf6xbP"
   },
   "source": [
    "Once found:"
   ]
  },
  {
   "cell_type": "code",
   "execution_count": 40,
   "metadata": {
    "id": "c9QHCqGX6zqO"
   },
   "outputs": [
    {
     "data": {
      "text/html": [
       "<table class=\"dataframe\">\n",
       "<caption>A data.frame: 6 × 6</caption>\n",
       "<thead>\n",
       "\t<tr><th scope=col>identification</th><th scope=col>identification2</th><th scope=col>var1</th><th scope=col>var2</th><th scope=col>var3</th><th scope=col>category</th></tr>\n",
       "\t<tr><th scope=col>&lt;chr&gt;</th><th scope=col>&lt;chr&gt;</th><th scope=col>&lt;chr&gt;</th><th scope=col>&lt;chr&gt;</th><th scope=col>&lt;chr&gt;</th><th scope=col>&lt;chr&gt;</th></tr>\n",
       "</thead>\n",
       "<tbody>\n",
       "\t<tr><td>Perú          </td><td> South America</td><td>1500</td><td>1200000</td><td>500 </td><td>A </td></tr>\n",
       "\t<tr><td>USA           </td><td> North America</td><td>2500</td><td>1300000</td><td>1500</td><td>A </td></tr>\n",
       "\t<tr><td>Canada        </td><td> North America</td><td>3500</td><td>--     </td><td>1.5 </td><td>Ba</td></tr>\n",
       "\t<tr><td>Côte D'Ivoire </td><td> Africa       </td><td>2500</td><td>       </td><td>_   </td><td>Ba</td></tr>\n",
       "\t<tr><td>Israel        </td><td> Asia         </td><td>Dk  </td><td>250000 </td><td>-   </td><td>NA</td></tr>\n",
       "\t<tr><td>United Kingdom</td><td> Europe       </td><td>2550</td><td>310000 </td><td>330 </td><td>Ba</td></tr>\n",
       "</tbody>\n",
       "</table>\n"
      ],
      "text/latex": [
       "A data.frame: 6 × 6\n",
       "\\begin{tabular}{llllll}\n",
       " identification & identification2 & var1 & var2 & var3 & category\\\\\n",
       " <chr> & <chr> & <chr> & <chr> & <chr> & <chr>\\\\\n",
       "\\hline\n",
       "\t Perú           &  South America & 1500 & 1200000 & 500  & A \\\\\n",
       "\t USA            &  North America & 2500 & 1300000 & 1500 & A \\\\\n",
       "\t Canada         &  North America & 3500 & --      & 1.5  & Ba\\\\\n",
       "\t Côte D'Ivoire  &  Africa        & 2500 &         & \\_    & Ba\\\\\n",
       "\t Israel         &  Asia          & Dk   & 250000  & -    & NA\\\\\n",
       "\t United Kingdom &  Europe        & 2550 & 310000  & 330  & Ba\\\\\n",
       "\\end{tabular}\n"
      ],
      "text/markdown": [
       "\n",
       "A data.frame: 6 × 6\n",
       "\n",
       "| identification &lt;chr&gt; | identification2 &lt;chr&gt; | var1 &lt;chr&gt; | var2 &lt;chr&gt; | var3 &lt;chr&gt; | category &lt;chr&gt; |\n",
       "|---|---|---|---|---|---|\n",
       "| Perú           |  South America | 1500 | 1200000 | 500  | A  |\n",
       "| USA            |  North America | 2500 | 1300000 | 1500 | A  |\n",
       "| Canada         |  North America | 3500 | --      | 1.5  | Ba |\n",
       "| Côte D'Ivoire  |  Africa        | 2500 | <!----> | _    | Ba |\n",
       "| Israel         |  Asia          | Dk   | 250000  | -    | NA |\n",
       "| United Kingdom |  Europe        | 2550 | 310000  | 330  | Ba |\n",
       "\n"
      ],
      "text/plain": [
       "  identification identification2 var1 var2    var3 category\n",
       "1 Perú            South America  1500 1200000 500  A       \n",
       "2 USA             North America  2500 1300000 1500 A       \n",
       "3 Canada          North America  3500 --      1.5  Ba      \n",
       "4 Côte D'Ivoire   Africa         2500         _    Ba      \n",
       "5 Israel          Asia           Dk   250000  -    NA      \n",
       "6 United Kingdom  Europe         2550 310000  330  Ba      "
      ]
     },
     "metadata": {},
     "output_type": "display_data"
    }
   ],
   "source": [
    "dirty$category=gsub(badSymbolCat,NA,dirty$category,fixed = T)\n",
    "dirty"
   ]
  },
  {
   "cell_type": "markdown",
   "metadata": {
    "id": "1C04RJnc7L7X"
   },
   "source": [
    "Let's go for the **numerical** cases:"
   ]
  },
  {
   "cell_type": "code",
   "execution_count": 41,
   "metadata": {
    "id": "ChdHDwPX1wbE"
   },
   "outputs": [
    {
     "data": {
      "text/html": [
       "'Dk'"
      ],
      "text/latex": [
       "'Dk'"
      ],
      "text/markdown": [
       "'Dk'"
      ],
      "text/plain": [
       "[1] \"Dk\""
      ]
     },
     "metadata": {},
     "output_type": "display_data"
    }
   ],
   "source": [
    "dirty$var1[grep(\"[^\\\\d+\\\\.*\\\\d*]\",dirty$var1,perl = T)]"
   ]
  },
  {
   "cell_type": "code",
   "execution_count": 42,
   "metadata": {
    "id": "5Fgv5eCCQtgZ"
   },
   "outputs": [
    {
     "data": {
      "text/html": [
       "'--'"
      ],
      "text/latex": [
       "'--'"
      ],
      "text/markdown": [
       "'--'"
      ],
      "text/plain": [
       "[1] \"--\""
      ]
     },
     "metadata": {},
     "output_type": "display_data"
    }
   ],
   "source": [
    "dirty$var2[grep(\"[^\\\\d+\\\\.*\\\\d*]\",dirty$var2,perl = T)]"
   ]
  },
  {
   "cell_type": "code",
   "execution_count": 43,
   "metadata": {
    "id": "1PC1cAvx2fsw"
   },
   "outputs": [
    {
     "data": {
      "text/html": [
       "<style>\n",
       ".list-inline {list-style: none; margin:0; padding: 0}\n",
       ".list-inline>li {display: inline-block}\n",
       ".list-inline>li:not(:last-child)::after {content: \"\\00b7\"; padding: 0 .5ex}\n",
       "</style>\n",
       "<ol class=list-inline><li>'_'</li><li>'-'</li></ol>\n"
      ],
      "text/latex": [
       "\\begin{enumerate*}\n",
       "\\item '\\_'\n",
       "\\item '-'\n",
       "\\end{enumerate*}\n"
      ],
      "text/markdown": [
       "1. '_'\n",
       "2. '-'\n",
       "\n",
       "\n"
      ],
      "text/plain": [
       "[1] \"_\" \"-\""
      ]
     },
     "metadata": {},
     "output_type": "display_data"
    }
   ],
   "source": [
    "dirty$var3[grep(\"[^\\\\d+\\\\.*\\\\d*]\", dirty$var3, perl=T,invert = F)]"
   ]
  },
  {
   "cell_type": "markdown",
   "metadata": {
    "id": "YCxykWkyQaSb"
   },
   "source": [
    "Here I apply a function to several columns, instead of one by one:"
   ]
  },
  {
   "cell_type": "code",
   "execution_count": 44,
   "metadata": {
    "id": "vTSDc1F8tVZh"
   },
   "outputs": [
    {
     "data": {
      "text/html": [
       "<dl>\n",
       "\t<dt>$var1</dt>\n",
       "\t\t<dd>'Dk'</dd>\n",
       "\t<dt>$var2</dt>\n",
       "\t\t<dd>'--'</dd>\n",
       "\t<dt>$var3</dt>\n",
       "\t\t<dd><style>\n",
       ".list-inline {list-style: none; margin:0; padding: 0}\n",
       ".list-inline>li {display: inline-block}\n",
       ".list-inline>li:not(:last-child)::after {content: \"\\00b7\"; padding: 0 .5ex}\n",
       "</style>\n",
       "<ol class=list-inline><li>'_'</li><li>'-'</li></ol>\n",
       "</dd>\n",
       "</dl>\n"
      ],
      "text/latex": [
       "\\begin{description}\n",
       "\\item[\\$var1] 'Dk'\n",
       "\\item[\\$var2] '--'\n",
       "\\item[\\$var3] \\begin{enumerate*}\n",
       "\\item '\\_'\n",
       "\\item '-'\n",
       "\\end{enumerate*}\n",
       "\n",
       "\\end{description}\n"
      ],
      "text/markdown": [
       "$var1\n",
       ":   'Dk'\n",
       "$var2\n",
       ":   '--'\n",
       "$var3\n",
       ":   1. '_'\n",
       "2. '-'\n",
       "\n",
       "\n",
       "\n",
       "\n",
       "\n"
      ],
      "text/plain": [
       "$var1\n",
       "[1] \"Dk\"\n",
       "\n",
       "$var2\n",
       "[1] \"--\"\n",
       "\n",
       "$var3\n",
       "[1] \"_\" \"-\"\n"
      ]
     },
     "metadata": {},
     "output_type": "display_data"
    }
   ],
   "source": [
    "sapply(dirty[, c('var1','var2','var3')], function(col){col[grep(\"[^\\\\d+\\\\.*\\\\d*]\", col, perl=T,invert = F)]})"
   ]
  },
  {
   "cell_type": "markdown",
   "metadata": {
    "id": "5_Mtggm1Qjdw"
   },
   "source": [
    "Nice output:"
   ]
  },
  {
   "cell_type": "code",
   "execution_count": 45,
   "metadata": {
    "id": "tMXgcGddt2DX"
   },
   "outputs": [
    {
     "data": {
      "text/html": [
       "<style>\n",
       ".dl-inline {width: auto; margin:0; padding: 0}\n",
       ".dl-inline>dt, .dl-inline>dd {float: none; width: auto; display: inline-block}\n",
       ".dl-inline>dt::after {content: \":\\0020\"; padding-right: .5ex}\n",
       ".dl-inline>dt:not(:first-of-type) {padding-left: .5ex}\n",
       "</style><dl class=dl-inline><dt>var1</dt><dd>'Dk'</dd><dt>var2</dt><dd>'--'</dd><dt>var31</dt><dd>'_'</dd><dt>var32</dt><dd>'-'</dd></dl>\n"
      ],
      "text/latex": [
       "\\begin{description*}\n",
       "\\item[var1] 'Dk'\n",
       "\\item[var2] '--'\n",
       "\\item[var31] '\\_'\n",
       "\\item[var32] '-'\n",
       "\\end{description*}\n"
      ],
      "text/markdown": [
       "var1\n",
       ":   'Dk'var2\n",
       ":   '--'var31\n",
       ":   '_'var32\n",
       ":   '-'\n",
       "\n"
      ],
      "text/plain": [
       " var1  var2 var31 var32 \n",
       " \"Dk\"  \"--\"   \"_\"   \"-\" "
      ]
     },
     "metadata": {},
     "output_type": "display_data"
    }
   ],
   "source": [
    "unlist(sapply(dirty[, c('var1','var2','var3')], function(col){col[grep(\"[^\\\\d+\\\\.*\\\\d*]\", col, perl=T,invert = F)]}))"
   ]
  },
  {
   "cell_type": "code",
   "execution_count": 46,
   "metadata": {
    "id": "3KsiG0Yn3k2S"
   },
   "outputs": [
    {
     "data": {
      "text/html": [
       "<style>\n",
       ".list-inline {list-style: none; margin:0; padding: 0}\n",
       ".list-inline>li {display: inline-block}\n",
       ".list-inline>li:not(:last-child)::after {content: \"\\00b7\"; padding: 0 .5ex}\n",
       "</style>\n",
       "<ol class=list-inline><li>'Dk'</li><li>'--'</li><li>'_'</li><li>'-'</li></ol>\n"
      ],
      "text/latex": [
       "\\begin{enumerate*}\n",
       "\\item 'Dk'\n",
       "\\item '--'\n",
       "\\item '\\_'\n",
       "\\item '-'\n",
       "\\end{enumerate*}\n"
      ],
      "text/markdown": [
       "1. 'Dk'\n",
       "2. '--'\n",
       "3. '_'\n",
       "4. '-'\n",
       "\n",
       "\n"
      ],
      "text/plain": [
       "[1] \"Dk\" \"--\" \"_\"  \"-\" "
      ]
     },
     "metadata": {},
     "output_type": "display_data"
    }
   ],
   "source": [
    "unique(unlist(sapply(dirty[, c('var1','var2','var3')], function(col){col[grep(\"[^\\\\d+\\\\.*\\\\d*]\", col, perl=T,invert = F)]})))"
   ]
  },
  {
   "cell_type": "markdown",
   "metadata": {
    "id": "IatCR1Gk4oa0"
   },
   "source": [
    "Let's improve readability:"
   ]
  },
  {
   "cell_type": "code",
   "execution_count": 47,
   "metadata": {
    "id": "5em1bv4h4j3W"
   },
   "outputs": [
    {
     "data": {
      "text/html": [
       "<style>\n",
       ".list-inline {list-style: none; margin:0; padding: 0}\n",
       ".list-inline>li {display: inline-block}\n",
       ".list-inline>li:not(:last-child)::after {content: \"\\00b7\"; padding: 0 .5ex}\n",
       "</style>\n",
       "<ol class=list-inline><li>'Dk'</li><li>'--'</li><li>'_'</li><li>'-'</li></ol>\n"
      ],
      "text/latex": [
       "\\begin{enumerate*}\n",
       "\\item 'Dk'\n",
       "\\item '--'\n",
       "\\item '\\_'\n",
       "\\item '-'\n",
       "\\end{enumerate*}\n"
      ],
      "text/markdown": [
       "1. 'Dk'\n",
       "2. '--'\n",
       "3. '_'\n",
       "4. '-'\n",
       "\n",
       "\n"
      ],
      "text/plain": [
       "[1] \"Dk\" \"--\" \"_\"  \"-\" "
      ]
     },
     "metadata": {},
     "output_type": "display_data"
    }
   ],
   "source": [
    "detectWrongNA= function(col){col[grep(\"[^\\\\d+\\\\.*\\\\d*]\", col, perl=T,invert = F)]}\n",
    "badSymbolNum=sapply(dirty[, c('var1','var2','var3')],detectWrongNA)\n",
    "badSymbolNum_unlist=unlist(badSymbolNum)\n",
    "badSymbolNum_vector=unique(badSymbolNum_unlist)\n",
    "badSymbolNum_vector"
   ]
  },
  {
   "cell_type": "markdown",
   "metadata": {
    "id": "0-5BEdm58nzG"
   },
   "source": [
    "Let's clean those columns:"
   ]
  },
  {
   "cell_type": "code",
   "execution_count": 48,
   "metadata": {
    "id": "Sl9Mv_N85BsC"
   },
   "outputs": [
    {
     "data": {
      "text/html": [
       "<table class=\"dataframe\">\n",
       "<caption>A data.frame: 6 × 6</caption>\n",
       "<thead>\n",
       "\t<tr><th scope=col>identification</th><th scope=col>identification2</th><th scope=col>var1</th><th scope=col>var2</th><th scope=col>var3</th><th scope=col>category</th></tr>\n",
       "\t<tr><th scope=col>&lt;chr&gt;</th><th scope=col>&lt;chr&gt;</th><th scope=col>&lt;chr&gt;</th><th scope=col>&lt;chr&gt;</th><th scope=col>&lt;chr&gt;</th><th scope=col>&lt;chr&gt;</th></tr>\n",
       "</thead>\n",
       "<tbody>\n",
       "\t<tr><td>Perú          </td><td> South America</td><td>1500</td><td>1200000</td><td>500 </td><td>A </td></tr>\n",
       "\t<tr><td>USA           </td><td> North America</td><td>2500</td><td>1300000</td><td>1500</td><td>A </td></tr>\n",
       "\t<tr><td>Canada        </td><td> North America</td><td>3500</td><td>NA     </td><td>1.5 </td><td>Ba</td></tr>\n",
       "\t<tr><td>Côte D'Ivoire </td><td> Africa       </td><td>2500</td><td>       </td><td>NA  </td><td>Ba</td></tr>\n",
       "\t<tr><td>Israel        </td><td> Asia         </td><td>NA  </td><td>250000 </td><td>NA  </td><td>NA</td></tr>\n",
       "\t<tr><td>United Kingdom</td><td> Europe       </td><td>2550</td><td>310000 </td><td>330 </td><td>Ba</td></tr>\n",
       "</tbody>\n",
       "</table>\n"
      ],
      "text/latex": [
       "A data.frame: 6 × 6\n",
       "\\begin{tabular}{llllll}\n",
       " identification & identification2 & var1 & var2 & var3 & category\\\\\n",
       " <chr> & <chr> & <chr> & <chr> & <chr> & <chr>\\\\\n",
       "\\hline\n",
       "\t Perú           &  South America & 1500 & 1200000 & 500  & A \\\\\n",
       "\t USA            &  North America & 2500 & 1300000 & 1500 & A \\\\\n",
       "\t Canada         &  North America & 3500 & NA      & 1.5  & Ba\\\\\n",
       "\t Côte D'Ivoire  &  Africa        & 2500 &         & NA   & Ba\\\\\n",
       "\t Israel         &  Asia          & NA   & 250000  & NA   & NA\\\\\n",
       "\t United Kingdom &  Europe        & 2550 & 310000  & 330  & Ba\\\\\n",
       "\\end{tabular}\n"
      ],
      "text/markdown": [
       "\n",
       "A data.frame: 6 × 6\n",
       "\n",
       "| identification &lt;chr&gt; | identification2 &lt;chr&gt; | var1 &lt;chr&gt; | var2 &lt;chr&gt; | var3 &lt;chr&gt; | category &lt;chr&gt; |\n",
       "|---|---|---|---|---|---|\n",
       "| Perú           |  South America | 1500 | 1200000 | 500  | A  |\n",
       "| USA            |  North America | 2500 | 1300000 | 1500 | A  |\n",
       "| Canada         |  North America | 3500 | NA      | 1.5  | Ba |\n",
       "| Côte D'Ivoire  |  Africa        | 2500 | <!----> | NA   | Ba |\n",
       "| Israel         |  Asia          | NA   | 250000  | NA   | NA |\n",
       "| United Kingdom |  Europe        | 2550 | 310000  | 330  | Ba |\n",
       "\n"
      ],
      "text/plain": [
       "  identification identification2 var1 var2    var3 category\n",
       "1 Perú            South America  1500 1200000 500  A       \n",
       "2 USA             North America  2500 1300000 1500 A       \n",
       "3 Canada          North America  3500 NA      1.5  Ba      \n",
       "4 Côte D'Ivoire   Africa         2500         NA   Ba      \n",
       "5 Israel          Asia           NA   250000  NA   NA      \n",
       "6 United Kingdom  Europe         2550 310000  330  Ba      "
      ]
     },
     "metadata": {},
     "output_type": "display_data"
    }
   ],
   "source": [
    "\n",
    "\n",
    "dirty[, c('var1','var2','var3')]=lapply(dirty[, c('var1','var2','var3')],function(col) ifelse((col %in% badSymbolNum_vector), NA, col))\n",
    "\n",
    "dirty\n"
   ]
  },
  {
   "cell_type": "code",
   "execution_count": 49,
   "metadata": {
    "id": "W7BfGcVW9FY1"
   },
   "outputs": [
    {
     "name": "stdout",
     "output_type": "stream",
     "text": [
      "'data.frame':\t6 obs. of  6 variables:\n",
      " $ identification : chr  \"Perú\" \"USA\" \"Canada\" \"Côte D'Ivoire\" ...\n",
      " $ identification2: chr  \" South America\" \" North America\" \" North America\" \" Africa\" ...\n",
      " $ var1           : chr  \"1500\" \"2500\" \"3500\" \"2500\" ...\n",
      " $ var2           : chr  \"1200000\" \"1300000\" NA \"\" ...\n",
      " $ var3           : chr  \"500\" \"1500\" \"1.5\" NA ...\n",
      " $ category       : chr  \"A\" \"A\" \"Ba\" \"Ba\" ...\n"
     ]
    }
   ],
   "source": [
    "str(dirty)"
   ]
  },
  {
   "cell_type": "markdown",
   "metadata": {
    "id": "bo2y1wJv9bT1"
   },
   "source": [
    "Always be preventive with leading and trailing spaces!"
   ]
  },
  {
   "cell_type": "code",
   "execution_count": 50,
   "metadata": {
    "id": "mnlQwq6k9MTQ"
   },
   "outputs": [
    {
     "name": "stdout",
     "output_type": "stream",
     "text": [
      "'data.frame':\t6 obs. of  6 variables:\n",
      " $ identification : chr  \"Perú\" \"USA\" \"Canada\" \"Côte D'Ivoire\" ...\n",
      " $ identification2: chr  \"South America\" \"North America\" \"North America\" \"Africa\" ...\n",
      " $ var1           : chr  \"1500\" \"2500\" \"3500\" \"2500\" ...\n",
      " $ var2           : chr  \"1200000\" \"1300000\" NA \"\" ...\n",
      " $ var3           : chr  \"500\" \"1500\" \"1.5\" NA ...\n",
      " $ category       : chr  \"A\" \"A\" \"Ba\" \"Ba\" ...\n"
     ]
    }
   ],
   "source": [
    "dirty[,]=sapply(dirty[,],trimws) #use it when all are CHR!\n",
    "nowClean=dirty[,]\n",
    "str(nowClean)"
   ]
  },
  {
   "cell_type": "code",
   "execution_count": 51,
   "metadata": {
    "id": "ZeoBfZOfeJCl"
   },
   "outputs": [
    {
     "data": {
      "text/html": [
       "<table class=\"dataframe\">\n",
       "<caption>A data.frame: 6 × 6</caption>\n",
       "<thead>\n",
       "\t<tr><th scope=col>identification</th><th scope=col>identification2</th><th scope=col>var1</th><th scope=col>var2</th><th scope=col>var3</th><th scope=col>category</th></tr>\n",
       "\t<tr><th scope=col>&lt;chr&gt;</th><th scope=col>&lt;chr&gt;</th><th scope=col>&lt;chr&gt;</th><th scope=col>&lt;chr&gt;</th><th scope=col>&lt;chr&gt;</th><th scope=col>&lt;chr&gt;</th></tr>\n",
       "</thead>\n",
       "<tbody>\n",
       "\t<tr><td>Perú          </td><td>South America</td><td>1500</td><td>1200000</td><td>500 </td><td>A </td></tr>\n",
       "\t<tr><td>USA           </td><td>North America</td><td>2500</td><td>1300000</td><td>1500</td><td>A </td></tr>\n",
       "\t<tr><td>Canada        </td><td>North America</td><td>3500</td><td>NA     </td><td>1.5 </td><td>Ba</td></tr>\n",
       "\t<tr><td>Côte D'Ivoire </td><td>Africa       </td><td>2500</td><td>       </td><td>NA  </td><td>Ba</td></tr>\n",
       "\t<tr><td>Israel        </td><td>Asia         </td><td>NA  </td><td>250000 </td><td>NA  </td><td>NA</td></tr>\n",
       "\t<tr><td>United Kingdom</td><td>Europe       </td><td>2550</td><td>310000 </td><td>330 </td><td>Ba</td></tr>\n",
       "</tbody>\n",
       "</table>\n"
      ],
      "text/latex": [
       "A data.frame: 6 × 6\n",
       "\\begin{tabular}{llllll}\n",
       " identification & identification2 & var1 & var2 & var3 & category\\\\\n",
       " <chr> & <chr> & <chr> & <chr> & <chr> & <chr>\\\\\n",
       "\\hline\n",
       "\t Perú           & South America & 1500 & 1200000 & 500  & A \\\\\n",
       "\t USA            & North America & 2500 & 1300000 & 1500 & A \\\\\n",
       "\t Canada         & North America & 3500 & NA      & 1.5  & Ba\\\\\n",
       "\t Côte D'Ivoire  & Africa        & 2500 &         & NA   & Ba\\\\\n",
       "\t Israel         & Asia          & NA   & 250000  & NA   & NA\\\\\n",
       "\t United Kingdom & Europe        & 2550 & 310000  & 330  & Ba\\\\\n",
       "\\end{tabular}\n"
      ],
      "text/markdown": [
       "\n",
       "A data.frame: 6 × 6\n",
       "\n",
       "| identification &lt;chr&gt; | identification2 &lt;chr&gt; | var1 &lt;chr&gt; | var2 &lt;chr&gt; | var3 &lt;chr&gt; | category &lt;chr&gt; |\n",
       "|---|---|---|---|---|---|\n",
       "| Perú           | South America | 1500 | 1200000 | 500  | A  |\n",
       "| USA            | North America | 2500 | 1300000 | 1500 | A  |\n",
       "| Canada         | North America | 3500 | NA      | 1.5  | Ba |\n",
       "| Côte D'Ivoire  | Africa        | 2500 | <!----> | NA   | Ba |\n",
       "| Israel         | Asia          | NA   | 250000  | NA   | NA |\n",
       "| United Kingdom | Europe        | 2550 | 310000  | 330  | Ba |\n",
       "\n"
      ],
      "text/plain": [
       "  identification identification2 var1 var2    var3 category\n",
       "1 Perú           South America   1500 1200000 500  A       \n",
       "2 USA            North America   2500 1300000 1500 A       \n",
       "3 Canada         North America   3500 NA      1.5  Ba      \n",
       "4 Côte D'Ivoire  Africa          2500         NA   Ba      \n",
       "5 Israel         Asia            NA   250000  NA   NA      \n",
       "6 United Kingdom Europe          2550 310000  330  Ba      "
      ]
     },
     "metadata": {},
     "output_type": "display_data"
    }
   ],
   "source": [
    "nowClean"
   ]
  },
  {
   "cell_type": "markdown",
   "metadata": {
    "id": "Czx5ZCdo95MV"
   },
   "source": [
    "## 2.4. Saving the cleaned data\n",
    "\n",
    "I will save the cleaned dataframe **locally**:"
   ]
  },
  {
   "cell_type": "code",
   "execution_count": 54,
   "metadata": {
    "id": "KlvJJMnv9yEk"
   },
   "outputs": [],
   "source": [
    "folder <- \" DataCleanAndFormatted\"\n",
    "\n",
    "# Check if the folder exists\n",
    "if (!dir.exists(folder)) {\n",
    "  # Create the folder\n",
    "  dir.create(folder)\n",
    "  write.csv(nowClean,file.path(folder,\"nowClean.csv\"),row.names=F)\n",
    "\n",
    "} else {\n",
    "  write.csv(nowClean,file.path(folder,\"nowClean.csv\"),row.names=F)}"
   ]
  },
  {
   "cell_type": "markdown",
   "metadata": {
    "id": "ViLiR7F8Tr9U"
   },
   "source": [
    "**The cleaned fill will be sent to Github**\n",
    "\n",
    "The formatting part will read this file from GitHub."
   ]
  },
  {
   "cell_type": "markdown",
   "metadata": {
    "id": "AxXwB5s4U9u-"
   },
   "source": [
    "# PART 3. FORMATTING\n",
    "\n",
    "Let me read the cleaned data from **GITHUB**"
   ]
  },
  {
   "cell_type": "code",
   "execution_count": 55,
   "metadata": {
    "id": "YpETWqYViCnu"
   },
   "outputs": [
    {
     "name": "stdout",
     "output_type": "stream",
     "text": [
      "'data.frame':\t6 obs. of  6 variables:\n",
      " $ identification : chr  \"Perú\" \"USA\" \"Canada\" \"Côte D'Ivoire\" ...\n",
      " $ identification2: chr  \"South America\" \"North America\" \"North America\" \"Africa\" ...\n",
      " $ var1           : int  1500 2500 3500 2500 NA 2550\n",
      " $ var2           : int  1200000 1300000 NA NA 250000 310000\n",
      " $ var3           : num  500 1500 1.5 NA NA 330\n",
      " $ category       : chr  \"A\" \"A\" \"Ba\" \"Ba\" ...\n"
     ]
    }
   ],
   "source": [
    "linkCleanData='https://github.com/MAGALLANESJoseManuel/deli2_test/raw/refs/heads/main/%20DataCleanAndFormatted/nowClean.csv'\n",
    "cleanData=read.csv(linkCleanData)\n",
    "str(cleanData)"
   ]
  },
  {
   "cell_type": "code",
   "execution_count": 56,
   "metadata": {
    "id": "46-026_bYN4a"
   },
   "outputs": [
    {
     "data": {
      "text/html": [
       "<table class=\"dataframe\">\n",
       "<caption>A data.frame: 6 × 6</caption>\n",
       "<thead>\n",
       "\t<tr><th scope=col>identification</th><th scope=col>identification2</th><th scope=col>var1</th><th scope=col>var2</th><th scope=col>var3</th><th scope=col>category</th></tr>\n",
       "\t<tr><th scope=col>&lt;chr&gt;</th><th scope=col>&lt;chr&gt;</th><th scope=col>&lt;int&gt;</th><th scope=col>&lt;int&gt;</th><th scope=col>&lt;dbl&gt;</th><th scope=col>&lt;chr&gt;</th></tr>\n",
       "</thead>\n",
       "<tbody>\n",
       "\t<tr><td>Perú          </td><td>South America</td><td>1500</td><td>1200000</td><td> 500.0</td><td>A </td></tr>\n",
       "\t<tr><td>USA           </td><td>North America</td><td>2500</td><td>1300000</td><td>1500.0</td><td>A </td></tr>\n",
       "\t<tr><td>Canada        </td><td>North America</td><td>3500</td><td>     NA</td><td>   1.5</td><td>Ba</td></tr>\n",
       "\t<tr><td>Côte D'Ivoire </td><td>Africa       </td><td>2500</td><td>     NA</td><td>    NA</td><td>Ba</td></tr>\n",
       "\t<tr><td>Israel        </td><td>Asia         </td><td>  NA</td><td> 250000</td><td>    NA</td><td>NA</td></tr>\n",
       "\t<tr><td>United Kingdom</td><td>Europe       </td><td>2550</td><td> 310000</td><td> 330.0</td><td>Ba</td></tr>\n",
       "</tbody>\n",
       "</table>\n"
      ],
      "text/latex": [
       "A data.frame: 6 × 6\n",
       "\\begin{tabular}{llllll}\n",
       " identification & identification2 & var1 & var2 & var3 & category\\\\\n",
       " <chr> & <chr> & <int> & <int> & <dbl> & <chr>\\\\\n",
       "\\hline\n",
       "\t Perú           & South America & 1500 & 1200000 &  500.0 & A \\\\\n",
       "\t USA            & North America & 2500 & 1300000 & 1500.0 & A \\\\\n",
       "\t Canada         & North America & 3500 &      NA &    1.5 & Ba\\\\\n",
       "\t Côte D'Ivoire  & Africa        & 2500 &      NA &     NA & Ba\\\\\n",
       "\t Israel         & Asia          &   NA &  250000 &     NA & NA\\\\\n",
       "\t United Kingdom & Europe        & 2550 &  310000 &  330.0 & Ba\\\\\n",
       "\\end{tabular}\n"
      ],
      "text/markdown": [
       "\n",
       "A data.frame: 6 × 6\n",
       "\n",
       "| identification &lt;chr&gt; | identification2 &lt;chr&gt; | var1 &lt;int&gt; | var2 &lt;int&gt; | var3 &lt;dbl&gt; | category &lt;chr&gt; |\n",
       "|---|---|---|---|---|---|\n",
       "| Perú           | South America | 1500 | 1200000 |  500.0 | A  |\n",
       "| USA            | North America | 2500 | 1300000 | 1500.0 | A  |\n",
       "| Canada         | North America | 3500 |      NA |    1.5 | Ba |\n",
       "| Côte D'Ivoire  | Africa        | 2500 |      NA |     NA | Ba |\n",
       "| Israel         | Asia          |   NA |  250000 |     NA | NA |\n",
       "| United Kingdom | Europe        | 2550 |  310000 |  330.0 | Ba |\n",
       "\n"
      ],
      "text/plain": [
       "  identification identification2 var1 var2    var3   category\n",
       "1 Perú           South America   1500 1200000  500.0 A       \n",
       "2 USA            North America   2500 1300000 1500.0 A       \n",
       "3 Canada         North America   3500      NA    1.5 Ba      \n",
       "4 Côte D'Ivoire  Africa          2500      NA     NA Ba      \n",
       "5 Israel         Asia              NA  250000     NA NA      \n",
       "6 United Kingdom Europe          2550  310000  330.0 Ba      "
      ]
     },
     "metadata": {},
     "output_type": "display_data"
    }
   ],
   "source": [
    "cleanData"
   ]
  },
  {
   "cell_type": "markdown",
   "metadata": {
    "id": "VkjQ7F0ihdJy"
   },
   "source": [
    "## The numerical data\n",
    "\n",
    "Since the numeric data was clean, you need not format those columns."
   ]
  },
  {
   "cell_type": "markdown",
   "metadata": {
    "id": "qAU_8FrfhhpV"
   },
   "source": [
    "## The categorical data\n",
    "\n",
    "We have one categorical column, currently as text."
   ]
  },
  {
   "cell_type": "code",
   "execution_count": 57,
   "metadata": {
    "id": "xOwInEU-h1MC"
   },
   "outputs": [
    {
     "data": {
      "text/html": [
       "<style>\n",
       ".list-inline {list-style: none; margin:0; padding: 0}\n",
       ".list-inline>li {display: inline-block}\n",
       ".list-inline>li:not(:last-child)::after {content: \"\\00b7\"; padding: 0 .5ex}\n",
       "</style>\n",
       "<ol class=list-inline><li>'A'</li><li>'A'</li><li>'Ba'</li><li>'Ba'</li><li>NA</li><li>'Ba'</li></ol>\n"
      ],
      "text/latex": [
       "\\begin{enumerate*}\n",
       "\\item 'A'\n",
       "\\item 'A'\n",
       "\\item 'Ba'\n",
       "\\item 'Ba'\n",
       "\\item NA\n",
       "\\item 'Ba'\n",
       "\\end{enumerate*}\n"
      ],
      "text/markdown": [
       "1. 'A'\n",
       "2. 'A'\n",
       "3. 'Ba'\n",
       "4. 'Ba'\n",
       "5. NA\n",
       "6. 'Ba'\n",
       "\n",
       "\n"
      ],
      "text/plain": [
       "[1] \"A\"  \"A\"  \"Ba\" \"Ba\" NA   \"Ba\""
      ]
     },
     "metadata": {},
     "output_type": "display_data"
    }
   ],
   "source": [
    "cleanData$category"
   ]
  },
  {
   "cell_type": "markdown",
   "metadata": {
    "id": "4R1PQ0Rrh6qD"
   },
   "source": [
    "Create a column of labels as categorical. If the levels are NOT ordinal, just use letters (if you had ordinal levels, you should add numbers at the beginning)."
   ]
  },
  {
   "cell_type": "code",
   "execution_count": 58,
   "metadata": {
    "id": "E-BJ3UoGjaj4"
   },
   "outputs": [
    {
     "data": {
      "text/html": [
       "<table class=\"dataframe\">\n",
       "<caption>A data.frame: 6 × 7</caption>\n",
       "<thead>\n",
       "\t<tr><th scope=col>identification</th><th scope=col>identification2</th><th scope=col>var1</th><th scope=col>var2</th><th scope=col>var3</th><th scope=col>category</th><th scope=col>category_label</th></tr>\n",
       "\t<tr><th scope=col>&lt;chr&gt;</th><th scope=col>&lt;chr&gt;</th><th scope=col>&lt;int&gt;</th><th scope=col>&lt;int&gt;</th><th scope=col>&lt;dbl&gt;</th><th scope=col>&lt;chr&gt;</th><th scope=col>&lt;fct&gt;</th></tr>\n",
       "</thead>\n",
       "<tbody>\n",
       "\t<tr><td>Perú          </td><td>South America</td><td>1500</td><td>1200000</td><td> 500.0</td><td>A </td><td>Not Allied</td></tr>\n",
       "\t<tr><td>USA           </td><td>North America</td><td>2500</td><td>1300000</td><td>1500.0</td><td>A </td><td>Not Allied</td></tr>\n",
       "\t<tr><td>Canada        </td><td>North America</td><td>3500</td><td>     NA</td><td>   1.5</td><td>Ba</td><td>Allied    </td></tr>\n",
       "\t<tr><td>Côte D'Ivoire </td><td>Africa       </td><td>2500</td><td>     NA</td><td>    NA</td><td>Ba</td><td>Allied    </td></tr>\n",
       "\t<tr><td>Israel        </td><td>Asia         </td><td>  NA</td><td> 250000</td><td>    NA</td><td>NA</td><td>NA        </td></tr>\n",
       "\t<tr><td>United Kingdom</td><td>Europe       </td><td>2550</td><td> 310000</td><td> 330.0</td><td>Ba</td><td>Allied    </td></tr>\n",
       "</tbody>\n",
       "</table>\n"
      ],
      "text/latex": [
       "A data.frame: 6 × 7\n",
       "\\begin{tabular}{lllllll}\n",
       " identification & identification2 & var1 & var2 & var3 & category & category\\_label\\\\\n",
       " <chr> & <chr> & <int> & <int> & <dbl> & <chr> & <fct>\\\\\n",
       "\\hline\n",
       "\t Perú           & South America & 1500 & 1200000 &  500.0 & A  & Not Allied\\\\\n",
       "\t USA            & North America & 2500 & 1300000 & 1500.0 & A  & Not Allied\\\\\n",
       "\t Canada         & North America & 3500 &      NA &    1.5 & Ba & Allied    \\\\\n",
       "\t Côte D'Ivoire  & Africa        & 2500 &      NA &     NA & Ba & Allied    \\\\\n",
       "\t Israel         & Asia          &   NA &  250000 &     NA & NA & NA        \\\\\n",
       "\t United Kingdom & Europe        & 2550 &  310000 &  330.0 & Ba & Allied    \\\\\n",
       "\\end{tabular}\n"
      ],
      "text/markdown": [
       "\n",
       "A data.frame: 6 × 7\n",
       "\n",
       "| identification &lt;chr&gt; | identification2 &lt;chr&gt; | var1 &lt;int&gt; | var2 &lt;int&gt; | var3 &lt;dbl&gt; | category &lt;chr&gt; | category_label &lt;fct&gt; |\n",
       "|---|---|---|---|---|---|---|\n",
       "| Perú           | South America | 1500 | 1200000 |  500.0 | A  | Not Allied |\n",
       "| USA            | North America | 2500 | 1300000 | 1500.0 | A  | Not Allied |\n",
       "| Canada         | North America | 3500 |      NA |    1.5 | Ba | Allied     |\n",
       "| Côte D'Ivoire  | Africa        | 2500 |      NA |     NA | Ba | Allied     |\n",
       "| Israel         | Asia          |   NA |  250000 |     NA | NA | NA         |\n",
       "| United Kingdom | Europe        | 2550 |  310000 |  330.0 | Ba | Allied     |\n",
       "\n"
      ],
      "text/plain": [
       "  identification identification2 var1 var2    var3   category category_label\n",
       "1 Perú           South America   1500 1200000  500.0 A        Not Allied    \n",
       "2 USA            North America   2500 1300000 1500.0 A        Not Allied    \n",
       "3 Canada         North America   3500      NA    1.5 Ba       Allied        \n",
       "4 Côte D'Ivoire  Africa          2500      NA     NA Ba       Allied        \n",
       "5 Israel         Asia              NA  250000     NA NA       NA            \n",
       "6 United Kingdom Europe          2550  310000  330.0 Ba       Allied        "
      ]
     },
     "metadata": {},
     "output_type": "display_data"
    }
   ],
   "source": [
    "# create and rename\n",
    "\n",
    "cleanData$category_label=factor(cleanData$category,\n",
    "                                levels = c('A','Ba'),\n",
    "                                labels = c('Not Allied', 'Allied'))\n",
    "\n",
    "# result\n",
    "cleanData"
   ]
  },
  {
   "cell_type": "code",
   "execution_count": 59,
   "metadata": {
    "id": "UEn3inAIiTVs"
   },
   "outputs": [
    {
     "name": "stdout",
     "output_type": "stream",
     "text": [
      "'data.frame':\t6 obs. of  7 variables:\n",
      " $ identification : chr  \"Perú\" \"USA\" \"Canada\" \"Côte D'Ivoire\" ...\n",
      " $ identification2: chr  \"South America\" \"North America\" \"North America\" \"Africa\" ...\n",
      " $ var1           : int  1500 2500 3500 2500 NA 2550\n",
      " $ var2           : int  1200000 1300000 NA NA 250000 310000\n",
      " $ var3           : num  500 1500 1.5 NA NA 330\n",
      " $ category       : chr  \"A\" \"A\" \"Ba\" \"Ba\" ...\n",
      " $ category_label : Factor w/ 2 levels \"Not Allied\",\"Allied\": 1 1 2 2 NA 2\n"
     ]
    }
   ],
   "source": [
    "# verifying\n",
    "str(cleanData)"
   ]
  },
  {
   "cell_type": "markdown",
   "metadata": {
    "id": "NE0J6NOikYgA"
   },
   "source": [
    "Now create a representation of the categories using numbers:"
   ]
  },
  {
   "cell_type": "code",
   "execution_count": 60,
   "metadata": {
    "id": "HJvLJoZOlJ81"
   },
   "outputs": [
    {
     "data": {
      "text/html": [
       "<table class=\"dataframe\">\n",
       "<caption>A data.frame: 6 × 8</caption>\n",
       "<thead>\n",
       "\t<tr><th scope=col>identification</th><th scope=col>identification2</th><th scope=col>var1</th><th scope=col>var2</th><th scope=col>var3</th><th scope=col>category</th><th scope=col>category_label</th><th scope=col>category_int</th></tr>\n",
       "\t<tr><th scope=col>&lt;chr&gt;</th><th scope=col>&lt;chr&gt;</th><th scope=col>&lt;int&gt;</th><th scope=col>&lt;int&gt;</th><th scope=col>&lt;dbl&gt;</th><th scope=col>&lt;chr&gt;</th><th scope=col>&lt;fct&gt;</th><th scope=col>&lt;dbl&gt;</th></tr>\n",
       "</thead>\n",
       "<tbody>\n",
       "\t<tr><td>Perú          </td><td>South America</td><td>1500</td><td>1200000</td><td> 500.0</td><td>A </td><td>Not Allied</td><td> 0</td></tr>\n",
       "\t<tr><td>USA           </td><td>North America</td><td>2500</td><td>1300000</td><td>1500.0</td><td>A </td><td>Not Allied</td><td> 0</td></tr>\n",
       "\t<tr><td>Canada        </td><td>North America</td><td>3500</td><td>     NA</td><td>   1.5</td><td>Ba</td><td>Allied    </td><td> 1</td></tr>\n",
       "\t<tr><td>Côte D'Ivoire </td><td>Africa       </td><td>2500</td><td>     NA</td><td>    NA</td><td>Ba</td><td>Allied    </td><td> 1</td></tr>\n",
       "\t<tr><td>Israel        </td><td>Asia         </td><td>  NA</td><td> 250000</td><td>    NA</td><td>NA</td><td>NA        </td><td>NA</td></tr>\n",
       "\t<tr><td>United Kingdom</td><td>Europe       </td><td>2550</td><td> 310000</td><td> 330.0</td><td>Ba</td><td>Allied    </td><td> 1</td></tr>\n",
       "</tbody>\n",
       "</table>\n"
      ],
      "text/latex": [
       "A data.frame: 6 × 8\n",
       "\\begin{tabular}{llllllll}\n",
       " identification & identification2 & var1 & var2 & var3 & category & category\\_label & category\\_int\\\\\n",
       " <chr> & <chr> & <int> & <int> & <dbl> & <chr> & <fct> & <dbl>\\\\\n",
       "\\hline\n",
       "\t Perú           & South America & 1500 & 1200000 &  500.0 & A  & Not Allied &  0\\\\\n",
       "\t USA            & North America & 2500 & 1300000 & 1500.0 & A  & Not Allied &  0\\\\\n",
       "\t Canada         & North America & 3500 &      NA &    1.5 & Ba & Allied     &  1\\\\\n",
       "\t Côte D'Ivoire  & Africa        & 2500 &      NA &     NA & Ba & Allied     &  1\\\\\n",
       "\t Israel         & Asia          &   NA &  250000 &     NA & NA & NA         & NA\\\\\n",
       "\t United Kingdom & Europe        & 2550 &  310000 &  330.0 & Ba & Allied     &  1\\\\\n",
       "\\end{tabular}\n"
      ],
      "text/markdown": [
       "\n",
       "A data.frame: 6 × 8\n",
       "\n",
       "| identification &lt;chr&gt; | identification2 &lt;chr&gt; | var1 &lt;int&gt; | var2 &lt;int&gt; | var3 &lt;dbl&gt; | category &lt;chr&gt; | category_label &lt;fct&gt; | category_int &lt;dbl&gt; |\n",
       "|---|---|---|---|---|---|---|---|\n",
       "| Perú           | South America | 1500 | 1200000 |  500.0 | A  | Not Allied |  0 |\n",
       "| USA            | North America | 2500 | 1300000 | 1500.0 | A  | Not Allied |  0 |\n",
       "| Canada         | North America | 3500 |      NA |    1.5 | Ba | Allied     |  1 |\n",
       "| Côte D'Ivoire  | Africa        | 2500 |      NA |     NA | Ba | Allied     |  1 |\n",
       "| Israel         | Asia          |   NA |  250000 |     NA | NA | NA         | NA |\n",
       "| United Kingdom | Europe        | 2550 |  310000 |  330.0 | Ba | Allied     |  1 |\n",
       "\n"
      ],
      "text/plain": [
       "  identification identification2 var1 var2    var3   category category_label\n",
       "1 Perú           South America   1500 1200000  500.0 A        Not Allied    \n",
       "2 USA            North America   2500 1300000 1500.0 A        Not Allied    \n",
       "3 Canada         North America   3500      NA    1.5 Ba       Allied        \n",
       "4 Côte D'Ivoire  Africa          2500      NA     NA Ba       Allied        \n",
       "5 Israel         Asia              NA  250000     NA NA       NA            \n",
       "6 United Kingdom Europe          2550  310000  330.0 Ba       Allied        \n",
       "  category_int\n",
       "1  0          \n",
       "2  0          \n",
       "3  1          \n",
       "4  1          \n",
       "5 NA          \n",
       "6  1          "
      ]
     },
     "metadata": {},
     "output_type": "display_data"
    }
   ],
   "source": [
    "RENAME_category <- c(\"Not Allied\"=0 ,\"Allied\"=1)\n",
    "cleanData$category_int=RENAME_category[cleanData$category_label]\n",
    "\n",
    "#result\n",
    "cleanData"
   ]
  },
  {
   "cell_type": "code",
   "execution_count": 61,
   "metadata": {
    "id": "ZZ7qpnHuE5iM"
   },
   "outputs": [
    {
     "name": "stdout",
     "output_type": "stream",
     "text": [
      "'data.frame':\t6 obs. of  8 variables:\n",
      " $ identification : chr  \"Perú\" \"USA\" \"Canada\" \"Côte D'Ivoire\" ...\n",
      " $ identification2: chr  \"South America\" \"North America\" \"North America\" \"Africa\" ...\n",
      " $ var1           : int  1500 2500 3500 2500 NA 2550\n",
      " $ var2           : int  1200000 1300000 NA NA 250000 310000\n",
      " $ var3           : num  500 1500 1.5 NA NA 330\n",
      " $ category       : chr  \"A\" \"A\" \"Ba\" \"Ba\" ...\n",
      " $ category_label : Factor w/ 2 levels \"Not Allied\",\"Allied\": 1 1 2 2 NA 2\n",
      " $ category_int   : num  0 0 1 1 NA 1\n"
     ]
    }
   ],
   "source": [
    "# verifying\n",
    "str(cleanData)"
   ]
  },
  {
   "cell_type": "markdown",
   "metadata": {
    "id": "ehnyVw8ylJVs"
   },
   "source": [
    "## The TEXT data\n",
    "\n",
    "We have two columns of text data."
   ]
  },
  {
   "cell_type": "code",
   "execution_count": 62,
   "metadata": {
    "id": "cpSjRlDwlJr3"
   },
   "outputs": [
    {
     "data": {
      "text/html": [
       "<table class=\"dataframe\">\n",
       "<caption>A data.frame: 6 × 2</caption>\n",
       "<thead>\n",
       "\t<tr><th scope=col>identification</th><th scope=col>identification2</th></tr>\n",
       "\t<tr><th scope=col>&lt;chr&gt;</th><th scope=col>&lt;chr&gt;</th></tr>\n",
       "</thead>\n",
       "<tbody>\n",
       "\t<tr><td>Perú          </td><td>South America</td></tr>\n",
       "\t<tr><td>USA           </td><td>North America</td></tr>\n",
       "\t<tr><td>Canada        </td><td>North America</td></tr>\n",
       "\t<tr><td>Côte D'Ivoire </td><td>Africa       </td></tr>\n",
       "\t<tr><td>Israel        </td><td>Asia         </td></tr>\n",
       "\t<tr><td>United Kingdom</td><td>Europe       </td></tr>\n",
       "</tbody>\n",
       "</table>\n"
      ],
      "text/latex": [
       "A data.frame: 6 × 2\n",
       "\\begin{tabular}{ll}\n",
       " identification & identification2\\\\\n",
       " <chr> & <chr>\\\\\n",
       "\\hline\n",
       "\t Perú           & South America\\\\\n",
       "\t USA            & North America\\\\\n",
       "\t Canada         & North America\\\\\n",
       "\t Côte D'Ivoire  & Africa       \\\\\n",
       "\t Israel         & Asia         \\\\\n",
       "\t United Kingdom & Europe       \\\\\n",
       "\\end{tabular}\n"
      ],
      "text/markdown": [
       "\n",
       "A data.frame: 6 × 2\n",
       "\n",
       "| identification &lt;chr&gt; | identification2 &lt;chr&gt; |\n",
       "|---|---|\n",
       "| Perú           | South America |\n",
       "| USA            | North America |\n",
       "| Canada         | North America |\n",
       "| Côte D'Ivoire  | Africa        |\n",
       "| Israel         | Asia          |\n",
       "| United Kingdom | Europe        |\n",
       "\n"
      ],
      "text/plain": [
       "  identification identification2\n",
       "1 Perú           South America  \n",
       "2 USA            North America  \n",
       "3 Canada         North America  \n",
       "4 Côte D'Ivoire  Africa         \n",
       "5 Israel         Asia           \n",
       "6 United Kingdom Europe         "
      ]
     },
     "metadata": {},
     "output_type": "display_data"
    }
   ],
   "source": [
    "cleanData[,1:2]"
   ]
  },
  {
   "cell_type": "markdown",
   "metadata": {
    "id": "1PKyvraeln6u"
   },
   "source": [
    "The text format should have all characters in lower or upper case. This will be needed during the **integration** stage. Let me choose upper case:"
   ]
  },
  {
   "cell_type": "code",
   "execution_count": 63,
   "metadata": {
    "id": "AE2cWU7ylN-g"
   },
   "outputs": [
    {
     "data": {
      "text/html": [
       "<dl>\n",
       "\t<dt>$identification</dt>\n",
       "\t\t<dd><style>\n",
       ".list-inline {list-style: none; margin:0; padding: 0}\n",
       ".list-inline>li {display: inline-block}\n",
       ".list-inline>li:not(:last-child)::after {content: \"\\00b7\"; padding: 0 .5ex}\n",
       "</style>\n",
       "<ol class=list-inline><li>'PERÚ'</li><li>'USA'</li><li>'CANADA'</li><li>'CÔTE D\\'IVOIRE'</li><li>'ISRAEL'</li><li>'UNITED KINGDOM'</li></ol>\n",
       "</dd>\n",
       "\t<dt>$identification2</dt>\n",
       "\t\t<dd><style>\n",
       ".list-inline {list-style: none; margin:0; padding: 0}\n",
       ".list-inline>li {display: inline-block}\n",
       ".list-inline>li:not(:last-child)::after {content: \"\\00b7\"; padding: 0 .5ex}\n",
       "</style>\n",
       "<ol class=list-inline><li>'SOUTH AMERICA'</li><li>'NORTH AMERICA'</li><li>'NORTH AMERICA'</li><li>'AFRICA'</li><li>'ASIA'</li><li>'EUROPE'</li></ol>\n",
       "</dd>\n",
       "</dl>\n"
      ],
      "text/latex": [
       "\\begin{description}\n",
       "\\item[\\$identification] \\begin{enumerate*}\n",
       "\\item 'PERÚ'\n",
       "\\item 'USA'\n",
       "\\item 'CANADA'\n",
       "\\item 'CÔTE D\\textbackslash{}'IVOIRE'\n",
       "\\item 'ISRAEL'\n",
       "\\item 'UNITED KINGDOM'\n",
       "\\end{enumerate*}\n",
       "\n",
       "\\item[\\$identification2] \\begin{enumerate*}\n",
       "\\item 'SOUTH AMERICA'\n",
       "\\item 'NORTH AMERICA'\n",
       "\\item 'NORTH AMERICA'\n",
       "\\item 'AFRICA'\n",
       "\\item 'ASIA'\n",
       "\\item 'EUROPE'\n",
       "\\end{enumerate*}\n",
       "\n",
       "\\end{description}\n"
      ],
      "text/markdown": [
       "$identification\n",
       ":   1. 'PERÚ'\n",
       "2. 'USA'\n",
       "3. 'CANADA'\n",
       "4. 'CÔTE D\\'IVOIRE'\n",
       "5. 'ISRAEL'\n",
       "6. 'UNITED KINGDOM'\n",
       "\n",
       "\n",
       "\n",
       "$identification2\n",
       ":   1. 'SOUTH AMERICA'\n",
       "2. 'NORTH AMERICA'\n",
       "3. 'NORTH AMERICA'\n",
       "4. 'AFRICA'\n",
       "5. 'ASIA'\n",
       "6. 'EUROPE'\n",
       "\n",
       "\n",
       "\n",
       "\n",
       "\n"
      ],
      "text/plain": [
       "$identification\n",
       "[1] \"PERÚ\"           \"USA\"            \"CANADA\"         \"CÔTE D'IVOIRE\" \n",
       "[5] \"ISRAEL\"         \"UNITED KINGDOM\"\n",
       "\n",
       "$identification2\n",
       "[1] \"SOUTH AMERICA\" \"NORTH AMERICA\" \"NORTH AMERICA\" \"AFRICA\"       \n",
       "[5] \"ASIA\"          \"EUROPE\"       \n"
      ]
     },
     "metadata": {},
     "output_type": "display_data"
    }
   ],
   "source": [
    "lapply(cleanData[,1:2],toupper)"
   ]
  },
  {
   "cell_type": "markdown",
   "metadata": {
    "id": "eanbMiWLof-k"
   },
   "source": [
    "We need to get rid of non-ASCII characters."
   ]
  },
  {
   "cell_type": "code",
   "execution_count": 66,
   "metadata": {
    "id": "6B8FmRaplsSd"
   },
   "outputs": [
    {
     "data": {
      "text/html": [
       "<dl>\n",
       "\t<dt>$identification</dt>\n",
       "\t\t<dd><style>\n",
       ".list-inline {list-style: none; margin:0; padding: 0}\n",
       ".list-inline>li {display: inline-block}\n",
       ".list-inline>li:not(:last-child)::after {content: \"\\00b7\"; padding: 0 .5ex}\n",
       "</style>\n",
       "<ol class=list-inline><li>'PER\\'U'</li><li>'USA'</li><li>'CANADA'</li><li>'C^OTE D\\'IVOIRE'</li><li>'ISRAEL'</li><li>'UNITED KINGDOM'</li></ol>\n",
       "</dd>\n",
       "\t<dt>$identification2</dt>\n",
       "\t\t<dd><style>\n",
       ".list-inline {list-style: none; margin:0; padding: 0}\n",
       ".list-inline>li {display: inline-block}\n",
       ".list-inline>li:not(:last-child)::after {content: \"\\00b7\"; padding: 0 .5ex}\n",
       "</style>\n",
       "<ol class=list-inline><li>'SOUTH AMERICA'</li><li>'NORTH AMERICA'</li><li>'NORTH AMERICA'</li><li>'AFRICA'</li><li>'ASIA'</li><li>'EUROPE'</li></ol>\n",
       "</dd>\n",
       "</dl>\n"
      ],
      "text/latex": [
       "\\begin{description}\n",
       "\\item[\\$identification] \\begin{enumerate*}\n",
       "\\item 'PER\\textbackslash{}'U'\n",
       "\\item 'USA'\n",
       "\\item 'CANADA'\n",
       "\\item 'C\\textasciicircum{}OTE D\\textbackslash{}'IVOIRE'\n",
       "\\item 'ISRAEL'\n",
       "\\item 'UNITED KINGDOM'\n",
       "\\end{enumerate*}\n",
       "\n",
       "\\item[\\$identification2] \\begin{enumerate*}\n",
       "\\item 'SOUTH AMERICA'\n",
       "\\item 'NORTH AMERICA'\n",
       "\\item 'NORTH AMERICA'\n",
       "\\item 'AFRICA'\n",
       "\\item 'ASIA'\n",
       "\\item 'EUROPE'\n",
       "\\end{enumerate*}\n",
       "\n",
       "\\end{description}\n"
      ],
      "text/markdown": [
       "$identification\n",
       ":   1. 'PER\\'U'\n",
       "2. 'USA'\n",
       "3. 'CANADA'\n",
       "4. 'C^OTE D\\'IVOIRE'\n",
       "5. 'ISRAEL'\n",
       "6. 'UNITED KINGDOM'\n",
       "\n",
       "\n",
       "\n",
       "$identification2\n",
       ":   1. 'SOUTH AMERICA'\n",
       "2. 'NORTH AMERICA'\n",
       "3. 'NORTH AMERICA'\n",
       "4. 'AFRICA'\n",
       "5. 'ASIA'\n",
       "6. 'EUROPE'\n",
       "\n",
       "\n",
       "\n",
       "\n",
       "\n"
      ],
      "text/plain": [
       "$identification\n",
       "[1] \"PER'U\"          \"USA\"            \"CANADA\"         \"C^OTE D'IVOIRE\"\n",
       "[5] \"ISRAEL\"         \"UNITED KINGDOM\"\n",
       "\n",
       "$identification2\n",
       "[1] \"SOUTH AMERICA\" \"NORTH AMERICA\" \"NORTH AMERICA\" \"AFRICA\"       \n",
       "[5] \"ASIA\"          \"EUROPE\"       \n"
      ]
     },
     "metadata": {},
     "output_type": "display_data"
    }
   ],
   "source": [
    "lapply(lapply(cleanData[,1:2],toupper),iconv,from=\"UTF-8\",to=\"ASCII\")"
   ]
  },
  {
   "cell_type": "markdown",
   "metadata": {
    "id": "sJjFs2fmomz2"
   },
   "source": [
    "Let's create a function to improve readability:"
   ]
  },
  {
   "cell_type": "code",
   "execution_count": 67,
   "metadata": {
    "id": "nsAPSlMYnSgY"
   },
   "outputs": [
    {
     "data": {
      "text/html": [
       "<table class=\"dataframe\">\n",
       "<caption>A data.frame: 6 × 8</caption>\n",
       "<thead>\n",
       "\t<tr><th scope=col>identification</th><th scope=col>identification2</th><th scope=col>var1</th><th scope=col>var2</th><th scope=col>var3</th><th scope=col>category</th><th scope=col>category_label</th><th scope=col>category_int</th></tr>\n",
       "\t<tr><th scope=col>&lt;chr&gt;</th><th scope=col>&lt;chr&gt;</th><th scope=col>&lt;int&gt;</th><th scope=col>&lt;int&gt;</th><th scope=col>&lt;dbl&gt;</th><th scope=col>&lt;chr&gt;</th><th scope=col>&lt;fct&gt;</th><th scope=col>&lt;dbl&gt;</th></tr>\n",
       "</thead>\n",
       "<tbody>\n",
       "\t<tr><td>PER'U         </td><td>SOUTH AMERICA</td><td>1500</td><td>1200000</td><td> 500.0</td><td>A </td><td>Not Allied</td><td> 0</td></tr>\n",
       "\t<tr><td>USA           </td><td>NORTH AMERICA</td><td>2500</td><td>1300000</td><td>1500.0</td><td>A </td><td>Not Allied</td><td> 0</td></tr>\n",
       "\t<tr><td>CANADA        </td><td>NORTH AMERICA</td><td>3500</td><td>     NA</td><td>   1.5</td><td>Ba</td><td>Allied    </td><td> 1</td></tr>\n",
       "\t<tr><td>C^OTE D'IVOIRE</td><td>AFRICA       </td><td>2500</td><td>     NA</td><td>    NA</td><td>Ba</td><td>Allied    </td><td> 1</td></tr>\n",
       "\t<tr><td>ISRAEL        </td><td>ASIA         </td><td>  NA</td><td> 250000</td><td>    NA</td><td>NA</td><td>NA        </td><td>NA</td></tr>\n",
       "\t<tr><td>UNITED KINGDOM</td><td>EUROPE       </td><td>2550</td><td> 310000</td><td> 330.0</td><td>Ba</td><td>Allied    </td><td> 1</td></tr>\n",
       "</tbody>\n",
       "</table>\n"
      ],
      "text/latex": [
       "A data.frame: 6 × 8\n",
       "\\begin{tabular}{llllllll}\n",
       " identification & identification2 & var1 & var2 & var3 & category & category\\_label & category\\_int\\\\\n",
       " <chr> & <chr> & <int> & <int> & <dbl> & <chr> & <fct> & <dbl>\\\\\n",
       "\\hline\n",
       "\t PER'U          & SOUTH AMERICA & 1500 & 1200000 &  500.0 & A  & Not Allied &  0\\\\\n",
       "\t USA            & NORTH AMERICA & 2500 & 1300000 & 1500.0 & A  & Not Allied &  0\\\\\n",
       "\t CANADA         & NORTH AMERICA & 3500 &      NA &    1.5 & Ba & Allied     &  1\\\\\n",
       "\t C\\textasciicircum{}OTE D'IVOIRE & AFRICA        & 2500 &      NA &     NA & Ba & Allied     &  1\\\\\n",
       "\t ISRAEL         & ASIA          &   NA &  250000 &     NA & NA & NA         & NA\\\\\n",
       "\t UNITED KINGDOM & EUROPE        & 2550 &  310000 &  330.0 & Ba & Allied     &  1\\\\\n",
       "\\end{tabular}\n"
      ],
      "text/markdown": [
       "\n",
       "A data.frame: 6 × 8\n",
       "\n",
       "| identification &lt;chr&gt; | identification2 &lt;chr&gt; | var1 &lt;int&gt; | var2 &lt;int&gt; | var3 &lt;dbl&gt; | category &lt;chr&gt; | category_label &lt;fct&gt; | category_int &lt;dbl&gt; |\n",
       "|---|---|---|---|---|---|---|---|\n",
       "| PER'U          | SOUTH AMERICA | 1500 | 1200000 |  500.0 | A  | Not Allied |  0 |\n",
       "| USA            | NORTH AMERICA | 2500 | 1300000 | 1500.0 | A  | Not Allied |  0 |\n",
       "| CANADA         | NORTH AMERICA | 3500 |      NA |    1.5 | Ba | Allied     |  1 |\n",
       "| C^OTE D'IVOIRE | AFRICA        | 2500 |      NA |     NA | Ba | Allied     |  1 |\n",
       "| ISRAEL         | ASIA          |   NA |  250000 |     NA | NA | NA         | NA |\n",
       "| UNITED KINGDOM | EUROPE        | 2550 |  310000 |  330.0 | Ba | Allied     |  1 |\n",
       "\n"
      ],
      "text/plain": [
       "  identification identification2 var1 var2    var3   category category_label\n",
       "1 PER'U          SOUTH AMERICA   1500 1200000  500.0 A        Not Allied    \n",
       "2 USA            NORTH AMERICA   2500 1300000 1500.0 A        Not Allied    \n",
       "3 CANADA         NORTH AMERICA   3500      NA    1.5 Ba       Allied        \n",
       "4 C^OTE D'IVOIRE AFRICA          2500      NA     NA Ba       Allied        \n",
       "5 ISRAEL         ASIA              NA  250000     NA NA       NA            \n",
       "6 UNITED KINGDOM EUROPE          2550  310000  330.0 Ba       Allied        \n",
       "  category_int\n",
       "1  0          \n",
       "2  0          \n",
       "3  1          \n",
       "4  1          \n",
       "5 NA          \n",
       "6  1          "
      ]
     },
     "metadata": {},
     "output_type": "display_data"
    }
   ],
   "source": [
    "formatText=function(column){iconv(toupper(column),from=\"UTF-8\",to=\"ASCII\")}\n",
    "cleanData[,1:2]=lapply(cleanData[,1:2],formatText)\n",
    "\n",
    "# result\n",
    "cleanData"
   ]
  },
  {
   "cell_type": "code",
   "execution_count": 68,
   "metadata": {},
   "outputs": [
    {
     "name": "stdout",
     "output_type": "stream",
     "text": [
      "'data.frame':\t6 obs. of  8 variables:\n",
      " $ identification : chr  \"PER'U\" \"USA\" \"CANADA\" \"C^OTE D'IVOIRE\" ...\n",
      " $ identification2: chr  \"SOUTH AMERICA\" \"NORTH AMERICA\" \"NORTH AMERICA\" \"AFRICA\" ...\n",
      " $ var1           : int  1500 2500 3500 2500 NA 2550\n",
      " $ var2           : int  1200000 1300000 NA NA 250000 310000\n",
      " $ var3           : num  500 1500 1.5 NA NA 330\n",
      " $ category       : chr  \"A\" \"A\" \"Ba\" \"Ba\" ...\n",
      " $ category_label : Factor w/ 2 levels \"Not Allied\",\"Allied\": 1 1 2 2 NA 2\n",
      " $ category_int   : num  0 0 1 1 NA 1\n"
     ]
    }
   ],
   "source": [
    "str(cleanData)"
   ]
  },
  {
   "cell_type": "markdown",
   "metadata": {
    "id": "Dt0sRGLnpBsZ"
   },
   "source": [
    "## Saving\n",
    "\n",
    "The data formatted **SHOULD NOT** be saved as CSV. In R, choose **RDS**:"
   ]
  },
  {
   "cell_type": "code",
   "execution_count": 71,
   "metadata": {
    "id": "5hX91Pdqmvcb"
   },
   "outputs": [],
   "source": [
    "folder = \"DataCleanAndFormatted\"\n",
    "\n",
    "# Check if the folder exists\n",
    "if (!dir.exists(folder)) {\n",
    "  # Create the folder\n",
    "  dir.create(folder)\n",
    "  saveRDS(cleanData,file.path(folder,\"formatted_Data.RDS\"))\n",
    "  write.csv(cleanData,file.path(folder,\"formatted_Data.csv\"),row.names=F)\n",
    "\n",
    "} else {\n",
    "  saveRDS(cleanData,file.path(folder,\"formatted_Data.RDS\"))\n",
    "  write.csv(cleanData,file.path(folder,\"formatted_Data.csv\"),row.names=F)\n",
    "\n",
    "}"
   ]
  },
  {
   "cell_type": "markdown",
   "metadata": {
    "id": "gBT_lfy4F8SR"
   },
   "source": [
    "Which can be read like this:"
   ]
  },
  {
   "cell_type": "code",
   "execution_count": 72,
   "metadata": {
    "id": "Vt_fRl85pXiv"
   },
   "outputs": [
    {
     "name": "stdout",
     "output_type": "stream",
     "text": [
      "'data.frame':\t6 obs. of  8 variables:\n",
      " $ identification : chr  \"PER'U\" \"USA\" \"CANADA\" \"C^OTE D'IVOIRE\" ...\n",
      " $ identification2: chr  \"SOUTH AMERICA\" \"NORTH AMERICA\" \"NORTH AMERICA\" \"AFRICA\" ...\n",
      " $ var1           : int  1500 2500 3500 2500 NA 2550\n",
      " $ var2           : int  1200000 1300000 NA NA 250000 310000\n",
      " $ var3           : num  500 1500 1.5 NA NA 330\n",
      " $ category       : chr  \"A\" \"A\" \"Ba\" \"Ba\" ...\n",
      " $ category_label : Factor w/ 2 levels \"Not Allied\",\"Allied\": 1 1 2 2 NA 2\n",
      " $ category_int   : num  0 0 1 1 NA 1\n"
     ]
    }
   ],
   "source": [
    "formatted_Data=readRDS(file.path(folder,\"formatted_Data.RDS\"))\n",
    "str(formatted_Data)"
   ]
  },
  {
   "cell_type": "code",
   "execution_count": 73,
   "metadata": {
    "id": "8B0DSzAxFtAq"
   },
   "outputs": [
    {
     "name": "stdout",
     "output_type": "stream",
     "text": [
      "'data.frame':\t6 obs. of  8 variables:\n",
      " $ identification : chr  \"PER'U\" \"USA\" \"CANADA\" \"C^OTE D'IVOIRE\" ...\n",
      " $ identification2: chr  \"SOUTH AMERICA\" \"NORTH AMERICA\" \"NORTH AMERICA\" \"AFRICA\" ...\n",
      " $ var1           : int  1500 2500 3500 2500 NA 2550\n",
      " $ var2           : int  1200000 1300000 NA NA 250000 310000\n",
      " $ var3           : num  500 1500 1.5 NA NA 330\n",
      " $ category       : chr  \"A\" \"A\" \"Ba\" \"Ba\" ...\n",
      " $ category_label : chr  \"Not Allied\" \"Not Allied\" \"Allied\" \"Allied\" ...\n",
      " $ category_int   : int  0 0 1 1 NA 1\n"
     ]
    }
   ],
   "source": [
    "formatted_Data_csv=read.csv(file.path(folder,\"formatted_Data.csv\"))\n",
    "str(formatted_Data_csv)"
   ]
  },
  {
   "cell_type": "code",
   "execution_count": 74,
   "metadata": {},
   "outputs": [
    {
     "data": {
      "text/plain": [
       " identification     identification2         var1           var2        \n",
       " Length:6           Length:6           Min.   :1500   Min.   : 250000  \n",
       " Class :character   Class :character   1st Qu.:2500   1st Qu.: 295000  \n",
       " Mode  :character   Mode  :character   Median :2500   Median : 755000  \n",
       "                                       Mean   :2510   Mean   : 765000  \n",
       "                                       3rd Qu.:2550   3rd Qu.:1225000  \n",
       "                                       Max.   :3500   Max.   :1300000  \n",
       "                                       NA's   :1      NA's   :2        \n",
       "      var3          category         category_label      category_int\n",
       " Min.   :   1.5   Length:6           Length:6           Min.   :0.0  \n",
       " 1st Qu.: 247.9   Class :character   Class :character   1st Qu.:0.0  \n",
       " Median : 415.0   Mode  :character   Mode  :character   Median :1.0  \n",
       " Mean   : 582.9                                         Mean   :0.6  \n",
       " 3rd Qu.: 750.0                                         3rd Qu.:1.0  \n",
       " Max.   :1500.0                                         Max.   :1.0  \n",
       " NA's   :2                                              NA's   :1    "
      ]
     },
     "metadata": {},
     "output_type": "display_data"
    }
   ],
   "source": [
    "summary(formatted_Data_csv)"
   ]
  },
  {
   "cell_type": "code",
   "execution_count": 75,
   "metadata": {},
   "outputs": [
    {
     "data": {
      "text/plain": [
       " identification     identification2         var1           var2        \n",
       " Length:6           Length:6           Min.   :1500   Min.   : 250000  \n",
       " Class :character   Class :character   1st Qu.:2500   1st Qu.: 295000  \n",
       " Mode  :character   Mode  :character   Median :2500   Median : 755000  \n",
       "                                       Mean   :2510   Mean   : 765000  \n",
       "                                       3rd Qu.:2550   3rd Qu.:1225000  \n",
       "                                       Max.   :3500   Max.   :1300000  \n",
       "                                       NA's   :1      NA's   :2        \n",
       "      var3          category            category_label  category_int\n",
       " Min.   :   1.5   Length:6           Not Allied:2      Min.   :0.0  \n",
       " 1st Qu.: 247.9   Class :character   Allied    :3      1st Qu.:0.0  \n",
       " Median : 415.0   Mode  :character   NA's      :1      Median :1.0  \n",
       " Mean   : 582.9                                        Mean   :0.6  \n",
       " 3rd Qu.: 750.0                                        3rd Qu.:1.0  \n",
       " Max.   :1500.0                                        Max.   :1.0  \n",
       " NA's   :2                                             NA's   :1    "
      ]
     },
     "metadata": {},
     "output_type": "display_data"
    }
   ],
   "source": [
    "summary(formatted_Data)"
   ]
  },
  {
   "cell_type": "code",
   "execution_count": null,
   "metadata": {},
   "outputs": [],
   "source": []
  }
 ],
 "metadata": {
  "colab": {
   "provenance": []
  },
  "kernelspec": {
   "display_name": "R",
   "language": "R",
   "name": "ir"
  },
  "language_info": {
   "codemirror_mode": "r",
   "file_extension": ".r",
   "mimetype": "text/x-r-source",
   "name": "R",
   "pygments_lexer": "r",
   "version": "4.3.3"
  }
 },
 "nbformat": 4,
 "nbformat_minor": 4
}
