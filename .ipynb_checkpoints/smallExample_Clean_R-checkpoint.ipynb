{
  "nbformat": 4,
  "nbformat_minor": 0,
  "metadata": {
    "colab": {
      "provenance": []
    },
    "kernelspec": {
      "name": "ir",
      "display_name": "R"
    },
    "language_info": {
      "name": "R"
    }
  },
  "cells": [
    {
      "cell_type": "markdown",
      "source": [
        "# Recurrent coding strategies\n",
        "\n",
        "Imagine we have this data:\n"
      ],
      "metadata": {
        "id": "wlbGBjqwKypy"
      }
    },
    {
      "cell_type": "code",
      "source": [
        "IRdisplay::display_html('<iframe width=\"700\" height=\"300\" src=\"https://docs.google.com/spreadsheets/d/e/2PACX-1vR-ubcCBaveg-58jcVmbErpO5kZswjFyHN5YlB8tB1a8B4fzU4sqZ08jkOKx4kBz1qtDNkJJWH8vBYF/pubhtml?gid=0&single=true\"></iframe>')"
      ],
      "metadata": {
        "id": "Ir3zOJ0yCv9c",
        "colab": {
          "base_uri": "https://localhost:8080/",
          "height": 325
        },
        "outputId": "e6d25ead-07ef-4185-cead-7a5b72551777"
      },
      "execution_count": 7,
      "outputs": [
        {
          "output_type": "display_data",
          "data": {
            "text/html": [
              "<iframe width=\"700\" height=\"300\" src=\"https://docs.google.com/spreadsheets/d/e/2PACX-1vR-ubcCBaveg-58jcVmbErpO5kZswjFyHN5YlB8tB1a8B4fzU4sqZ08jkOKx4kBz1qtDNkJJWH8vBYF/pubhtml?gid=0&single=true\"></iframe>"
            ]
          },
          "metadata": {}
        }
      ]
    },
    {
      "cell_type": "markdown",
      "source": [
        "And you need to create a cleaner version:"
      ],
      "metadata": {
        "id": "cg4rmYL1L7RR"
      }
    },
    {
      "cell_type": "code",
      "source": [
        "IRdisplay::display_html('<iframe width=\"700\" height=\"300\" src=\"https://docs.google.com/spreadsheets/d/e/2PACX-1vR-ubcCBaveg-58jcVmbErpO5kZswjFyHN5YlB8tB1a8B4fzU4sqZ08jkOKx4kBz1qtDNkJJWH8vBYF/pubhtml?gid=2024244899&single=true\"></iframe>')"
      ],
      "metadata": {
        "id": "1mt7eLQXLsZ0",
        "colab": {
          "base_uri": "https://localhost:8080/",
          "height": 325
        },
        "outputId": "524ef228-0ae0-4a4c-967e-9bbe0bfcba7c"
      },
      "execution_count": 8,
      "outputs": [
        {
          "output_type": "display_data",
          "data": {
            "text/html": [
              "<iframe width=\"700\" height=\"300\" src=\"https://docs.google.com/spreadsheets/d/e/2PACX-1vR-ubcCBaveg-58jcVmbErpO5kZswjFyHN5YlB8tB1a8B4fzU4sqZ08jkOKx4kBz1qtDNkJJWH8vBYF/pubhtml?gid=2024244899&single=true\"></iframe>"
            ]
          },
          "metadata": {}
        }
      ]
    },
    {
      "cell_type": "markdown",
      "source": [
        "In general, cleaning requires exploration. In exploration you check for inconsistencies.\n",
        "\n",
        "The actual cleaning plan starts after exploration, and the  strategies to recover the true value of the cell can be one or several of these:\n",
        "\n",
        "* **replace** the wrong value for good value.\n",
        "* **detele** the wrong value.\n",
        "* **extract** the good value.\n",
        "* **split** the cell contents\n",
        "\n",
        "\n",
        "**It is also recommended to clean the columns before the contents.**\n",
        "\n",
        "Notice the **column names** have lightblue background,  and the **contents** have a grey background. I have also colored in red the column names that may serve as key columns, the unique identifiers.\n",
        "\n",
        "\n",
        "## 1. On REGEX\n",
        "\n",
        "REGEX is **complex**, but let share some _patterns_ that we will often use.\n",
        "\n",
        "* This [a-zA-Z] represents any character of the alphabet (based in latin alphabet).\n",
        "* This [^a-zA-Z] represents any characters *outside** the alphabet. The [^] means \"the opposite\" here. You can use for other purposes (see below).\n",
        "* This \\w is not the same as [a-zA-Z], \\w can be equal to [0-9a-zA-Z\\s_], that is, it includes numbers, spaces (\\s) and underscore (_).\n",
        "* Then, \\W is the opposite of \\w\n",
        "* Similarly, \\d is equal to [0-9], and \\D is the opposite.\n",
        "* Some other relevant symbols are:\n",
        "  - The dot (**.**), representing any character.\n",
        "  - The plus (**+**), here \\d+ represents one or more digits.\n",
        "  - The asterisk (__*__) here [a-z]* represents zero or more lowercase letters.\n",
        "  - The symbols **^** and **\\$** are also very relevant. Together the represent a whole string, that is,  ^\\d[a-z]$ means the string starts with a digit and ends with a lowercase letter.\n",
        "\n",
        "  You will need these when exploring and implementing the cleaning."
      ],
      "metadata": {
        "id": "qxPPAdaVa1KH"
      }
    },
    {
      "cell_type": "markdown",
      "source": [
        "## 2. The Data Types\n",
        "\n",
        "Imagine you CAN NOT see all the data. In that case we can use some code."
      ],
      "metadata": {
        "id": "MQQGVvxRMKp1"
      }
    },
    {
      "cell_type": "code",
      "source": [
        "# the link as CSV\n",
        "linkToData=\"https://docs.google.com/spreadsheets/d/e/2PACX-1vR-ubcCBaveg-58jcVmbErpO5kZswjFyHN5YlB8tB1a8B4fzU4sqZ08jkOKx4kBz1qtDNkJJWH8vBYF/pub?gid=0&single=true&output=csv\""
      ],
      "metadata": {
        "id": "yi6mdO0qE9Bh"
      },
      "execution_count": 9,
      "outputs": []
    },
    {
      "cell_type": "markdown",
      "source": [
        "Read the data:"
      ],
      "metadata": {
        "id": "LCPBKFXjMvlC"
      }
    },
    {
      "cell_type": "code",
      "source": [
        "dirty=read.csv(linkToData,check.names=F)"
      ],
      "metadata": {
        "id": "vDesgoI8MuIC"
      },
      "execution_count": 61,
      "outputs": []
    },
    {
      "cell_type": "markdown",
      "source": [
        "I recommend you do this first:"
      ],
      "metadata": {
        "id": "yqClhkWnM6mF"
      }
    },
    {
      "cell_type": "code",
      "source": [
        "str(dirty)"
      ],
      "metadata": {
        "id": "F5Ao2B4dM2OS",
        "colab": {
          "base_uri": "https://localhost:8080/"
        },
        "outputId": "5d3a9eec-9515-41d1-cf7a-48377aa78029"
      },
      "execution_count": 62,
      "outputs": [
        {
          "output_type": "stream",
          "name": "stdout",
          "text": [
            "'data.frame':\t6 obs. of  6 variables:\n",
            " $ identification : chr  \"Perú\" \"USA\" \"Canada\" \"Côte D'Ivoire\" ...\n",
            " $ identification2: chr  \"Peru, South America\" \"USA, North America\" \"Canada, North America\" \"Côte D'Ivoire, Africa\" ...\n",
            " $ var1           : chr  \"1500\" \"2500\" \"3500\" \"2500\" ...\n",
            " $ var 2          : chr  \"1'200\" \"1'300\" \"--\" \"\" ...\n",
            " $ var@3          : chr  \"500\" \"$1 500\" \"1.5\" \"_\" ...\n",
            " $ category       : chr  \"a\" \"A\" \"Ba\" \"Ba\" ...\n"
          ]
        }
      ]
    },
    {
      "cell_type": "markdown",
      "source": [
        "Identify which are textual, numerical, or categorical.\n",
        "\n",
        "* Columns **identification1** and **identification2** are *textual*.\n",
        "* The columns from **var1** to **var@3** are all *numerical*. But if the type is _object_ the column should have some non numerical characters.\n",
        "* Column **category** is *categorical*. Keep in mind that categorical types will NEVER be recognised as such when read from a CSV. They will always be understood as text (_object_).\n",
        "\n",
        "The **column names** are always *textual*.\n",
        "\n",
        "## 2. EXPLORATION\n"
      ],
      "metadata": {
        "id": "W-XVdq5pNIvM"
      }
    },
    {
      "cell_type": "markdown",
      "source": [
        "### 2.1. **Exploring TEXT**\n",
        "\n",
        "When data is textual, you need to explore the cells to verify all the characters are part of the **alphabet**.\n",
        "\n",
        "PANDAS offers **.str.** function that can only be used with text, if you try to use it with a numerical value, you will get an **error**.\n",
        "\n",
        "\n",
        "\n",
        "\n",
        "Let's see how to use"
      ],
      "metadata": {
        "id": "_uE5Gq0svCMP"
      }
    },
    {
      "cell_type": "code",
      "source": [
        "# show me the cells that have a character outside the alphabet\n",
        "dirty$identification[grep(\"[^a-zA-Z]\",dirty$identification)]"
      ],
      "metadata": {
        "id": "p6MfTGHNO9pY",
        "colab": {
          "base_uri": "https://localhost:8080/",
          "height": 34
        },
        "outputId": "5f4ae06b-d820-49d4-a1dd-cfe5e6b5c4f9"
      },
      "execution_count": 12,
      "outputs": [
        {
          "output_type": "display_data",
          "data": {
            "text/html": [
              "<style>\n",
              ".list-inline {list-style: none; margin:0; padding: 0}\n",
              ".list-inline>li {display: inline-block}\n",
              ".list-inline>li:not(:last-child)::after {content: \"\\00b7\"; padding: 0 .5ex}\n",
              "</style>\n",
              "<ol class=list-inline><li>'Perú'</li><li>'Côte D\\'Ivoire'</li><li>'Israel [note]'</li><li>'United Kingdom'</li></ol>\n"
            ],
            "text/markdown": "1. 'Perú'\n2. 'Côte D\\'Ivoire'\n3. 'Israel [note]'\n4. 'United Kingdom'\n\n\n",
            "text/latex": "\\begin{enumerate*}\n\\item 'Perú'\n\\item 'Côte D\\textbackslash{}'Ivoire'\n\\item 'Israel {[}note{]}'\n\\item 'United Kingdom'\n\\end{enumerate*}\n",
            "text/plain": [
              "[1] \"Perú\"           \"Côte D'Ivoire\"  \"Israel [note]\"  \"United Kingdom\""
            ]
          },
          "metadata": {}
        }
      ]
    },
    {
      "cell_type": "markdown",
      "source": [
        "United Kingdom is not dirty. But the space is outside the alphabet. What about:"
      ],
      "metadata": {
        "id": "XnxVoC-tQtRn"
      }
    },
    {
      "cell_type": "code",
      "source": [
        "dirty$identification[grep(\"\\\\W\",dirty$identification)]"
      ],
      "metadata": {
        "id": "64Ek8f1AQhyo",
        "colab": {
          "base_uri": "https://localhost:8080/",
          "height": 34
        },
        "outputId": "28708d65-1243-4895-fb6f-1be79e3e2696"
      },
      "execution_count": 13,
      "outputs": [
        {
          "output_type": "display_data",
          "data": {
            "text/html": [
              "<style>\n",
              ".list-inline {list-style: none; margin:0; padding: 0}\n",
              ".list-inline>li {display: inline-block}\n",
              ".list-inline>li:not(:last-child)::after {content: \"\\00b7\"; padding: 0 .5ex}\n",
              "</style>\n",
              "<ol class=list-inline><li>'Côte D\\'Ivoire'</li><li>'Israel [note]'</li><li>'United Kingdom'</li></ol>\n"
            ],
            "text/markdown": "1. 'Côte D\\'Ivoire'\n2. 'Israel [note]'\n3. 'United Kingdom'\n\n\n",
            "text/latex": "\\begin{enumerate*}\n\\item 'Côte D\\textbackslash{}'Ivoire'\n\\item 'Israel {[}note{]}'\n\\item 'United Kingdom'\n\\end{enumerate*}\n",
            "text/plain": [
              "[1] \"Côte D'Ivoire\"  \"Israel [note]\"  \"United Kingdom\""
            ]
          },
          "metadata": {}
        }
      ]
    },
    {
      "cell_type": "markdown",
      "source": [
        "or..."
      ],
      "metadata": {
        "id": "kKiv8YhpTu2r"
      }
    },
    {
      "cell_type": "code",
      "source": [
        "dirty$identification[grep(\"[^\\\\w\\\\s]\",dirty$identification,perl=T)]"
      ],
      "metadata": {
        "id": "azFOFPfTQ6a5",
        "colab": {
          "base_uri": "https://localhost:8080/",
          "height": 34
        },
        "outputId": "abb036ae-1a5c-4633-8281-b127ed3ae0e3"
      },
      "execution_count": 14,
      "outputs": [
        {
          "output_type": "display_data",
          "data": {
            "text/html": [
              "<style>\n",
              ".list-inline {list-style: none; margin:0; padding: 0}\n",
              ".list-inline>li {display: inline-block}\n",
              ".list-inline>li:not(:last-child)::after {content: \"\\00b7\"; padding: 0 .5ex}\n",
              "</style>\n",
              "<ol class=list-inline><li>'Perú'</li><li>'Côte D\\'Ivoire'</li><li>'Israel [note]'</li></ol>\n"
            ],
            "text/markdown": "1. 'Perú'\n2. 'Côte D\\'Ivoire'\n3. 'Israel [note]'\n\n\n",
            "text/latex": "\\begin{enumerate*}\n\\item 'Perú'\n\\item 'Côte D\\textbackslash{}'Ivoire'\n\\item 'Israel {[}note{]}'\n\\end{enumerate*}\n",
            "text/plain": [
              "[1] \"Perú\"          \"Côte D'Ivoire\" \"Israel [note]\""
            ]
          },
          "metadata": {}
        }
      ]
    },
    {
      "cell_type": "markdown",
      "source": [
        "Per**ú** is there. In general **\\w** does not accept accented letters; but if you use Python 3, Perú will be there.\n",
        "\n",
        "Then the safe option is:"
      ],
      "metadata": {
        "id": "CNVtHTXKO5IB"
      }
    },
    {
      "cell_type": "code",
      "source": [
        "dirty$identification[grep(\"[^a-zA-Z\\\\s]\",dirty$identification,perl = T)]"
      ],
      "metadata": {
        "id": "I6XJAxeWsIGb",
        "colab": {
          "base_uri": "https://localhost:8080/",
          "height": 34
        },
        "outputId": "9dccb761-1e9c-4362-e578-46edb9f55030"
      },
      "execution_count": 15,
      "outputs": [
        {
          "output_type": "display_data",
          "data": {
            "text/html": [
              "<style>\n",
              ".list-inline {list-style: none; margin:0; padding: 0}\n",
              ".list-inline>li {display: inline-block}\n",
              ".list-inline>li:not(:last-child)::after {content: \"\\00b7\"; padding: 0 .5ex}\n",
              "</style>\n",
              "<ol class=list-inline><li>'Perú'</li><li>'Côte D\\'Ivoire'</li><li>'Israel [note]'</li></ol>\n"
            ],
            "text/markdown": "1. 'Perú'\n2. 'Côte D\\'Ivoire'\n3. 'Israel [note]'\n\n\n",
            "text/latex": "\\begin{enumerate*}\n\\item 'Perú'\n\\item 'Côte D\\textbackslash{}'Ivoire'\n\\item 'Israel {[}note{]}'\n\\end{enumerate*}\n",
            "text/plain": [
              "[1] \"Perú\"          \"Côte D'Ivoire\" \"Israel [note]\""
            ]
          },
          "metadata": {}
        }
      ]
    },
    {
      "cell_type": "markdown",
      "source": [
        "A similar exploration should be done in the **column names**:"
      ],
      "metadata": {
        "id": "wZMsX-9isV4E"
      }
    },
    {
      "cell_type": "code",
      "source": [
        "# allowing numbers, not spaces\n",
        "names(dirty)[grep(\"[^0-9a-zA-Z]\",names(dirty),perl = T)]"
      ],
      "metadata": {
        "id": "PBhk9jgoO1Pt",
        "colab": {
          "base_uri": "https://localhost:8080/",
          "height": 34
        },
        "outputId": "4fd5d8fa-b768-485f-be89-e37e46f9da89"
      },
      "execution_count": 16,
      "outputs": [
        {
          "output_type": "display_data",
          "data": {
            "text/html": [
              "<style>\n",
              ".list-inline {list-style: none; margin:0; padding: 0}\n",
              ".list-inline>li {display: inline-block}\n",
              ".list-inline>li:not(:last-child)::after {content: \"\\00b7\"; padding: 0 .5ex}\n",
              "</style>\n",
              "<ol class=list-inline><li>'var 2'</li><li>'var@3'</li></ol>\n"
            ],
            "text/markdown": "1. 'var 2'\n2. 'var@3'\n\n\n",
            "text/latex": "\\begin{enumerate*}\n\\item 'var 2'\n\\item 'var@3'\n\\end{enumerate*}\n",
            "text/plain": [
              "[1] \"var 2\" \"var@3\""
            ]
          },
          "metadata": {}
        }
      ]
    },
    {
      "cell_type": "markdown",
      "source": [
        "And in the case of the column with **categorical data**:"
      ],
      "metadata": {
        "id": "FLieVB59VnLy"
      }
    },
    {
      "cell_type": "code",
      "source": [
        "dirty$category[grep(\"[^a-zA-Z]\",dirty$category,perl = T)]"
      ],
      "metadata": {
        "id": "PmZvPFAOVb2j",
        "colab": {
          "base_uri": "https://localhost:8080/",
          "height": 34
        },
        "outputId": "a3bd6527-d056-4771-be22-7503fcf546ac"
      },
      "execution_count": 17,
      "outputs": [
        {
          "output_type": "display_data",
          "data": {
            "text/html": [
              "'?'"
            ],
            "text/markdown": "'?'",
            "text/latex": "'?'",
            "text/plain": [
              "[1] \"?\""
            ]
          },
          "metadata": {}
        }
      ]
    },
    {
      "cell_type": "markdown",
      "source": [
        "### 2.2. **Exploring NUMBERS**\n",
        "\n",
        "If numbers are recognised as so, there is no cleaning needed. But if not, it means it has been recognised as text, then we use the regex **\\d** (and its variations):"
      ],
      "metadata": {
        "id": "rZtluc7CV3cA"
      }
    },
    {
      "cell_type": "code",
      "source": [
        "dirty$var1[grep(\"\\\\D\",dirty$var1,perl = T)]"
      ],
      "metadata": {
        "id": "ccHsRJmGVsww",
        "colab": {
          "base_uri": "https://localhost:8080/",
          "height": 34
        },
        "outputId": "f79051c7-e954-4706-d92b-39d3a4b33a4e"
      },
      "execution_count": 18,
      "outputs": [
        {
          "output_type": "display_data",
          "data": {
            "text/html": [
              "'Dk'"
            ],
            "text/markdown": "'Dk'",
            "text/latex": "'Dk'",
            "text/plain": [
              "[1] \"Dk\""
            ]
          },
          "metadata": {}
        }
      ]
    },
    {
      "cell_type": "code",
      "source": [
        "dirty$'var 2'[grep(\"\\\\D\",dirty$'var 2',perl = T)]"
      ],
      "metadata": {
        "id": "yJ6yQY-uWMIt",
        "colab": {
          "base_uri": "https://localhost:8080/",
          "height": 34
        },
        "outputId": "8eb8beeb-769f-45df-f51e-db620867a7e7"
      },
      "execution_count": 19,
      "outputs": [
        {
          "output_type": "display_data",
          "data": {
            "text/html": [
              "<style>\n",
              ".list-inline {list-style: none; margin:0; padding: 0}\n",
              ".list-inline>li {display: inline-block}\n",
              ".list-inline>li:not(:last-child)::after {content: \"\\00b7\"; padding: 0 .5ex}\n",
              "</style>\n",
              "<ol class=list-inline><li>'1\\'200'</li><li>'1\\'300'</li><li>'--'</li><li>'250k'</li></ol>\n"
            ],
            "text/markdown": "1. '1\\'200'\n2. '1\\'300'\n3. '--'\n4. '250k'\n\n\n",
            "text/latex": "\\begin{enumerate*}\n\\item '1\\textbackslash{}'200'\n\\item '1\\textbackslash{}'300'\n\\item '--'\n\\item '250k'\n\\end{enumerate*}\n",
            "text/plain": [
              "[1] \"1'200\" \"1'300\" \"--\"    \"250k\" "
            ]
          },
          "metadata": {}
        }
      ]
    },
    {
      "cell_type": "code",
      "source": [
        "### Why the error?\n",
        "# dirty$var@3[grep(\"\\\\D\",dirty$var@3,perl = T)]"
      ],
      "metadata": {
        "id": "sZaGGk-zWZ6K"
      },
      "execution_count": 20,
      "outputs": []
    },
    {
      "cell_type": "markdown",
      "source": [
        "Notice I need to use **\"\"** to access the variables with dirty names (space between words, and the **@** special character). That is why you clean the column names first:"
      ],
      "metadata": {
        "id": "dLMdQ1uaWjU0"
      }
    },
    {
      "cell_type": "code",
      "source": [
        "dirty$'var@3'[grep(\"\\\\D\",dirty$'var@3',perl=T)]"
      ],
      "metadata": {
        "id": "q2Iecxi_WUj7",
        "colab": {
          "base_uri": "https://localhost:8080/",
          "height": 34
        },
        "outputId": "d28c810a-779b-4f93-c572-dbfcf2bb2386"
      },
      "execution_count": 21,
      "outputs": [
        {
          "output_type": "display_data",
          "data": {
            "text/html": [
              "<style>\n",
              ".list-inline {list-style: none; margin:0; padding: 0}\n",
              ".list-inline>li {display: inline-block}\n",
              ".list-inline>li:not(:last-child)::after {content: \"\\00b7\"; padding: 0 .5ex}\n",
              "</style>\n",
              "<ol class=list-inline><li>'$1 500'</li><li>'1.5'</li><li>'_'</li><li>'-'</li></ol>\n"
            ],
            "text/markdown": "1. '$1 500'\n2. '1.5'\n3. '_'\n4. '-'\n\n\n",
            "text/latex": "\\begin{enumerate*}\n\\item '\\$1 500'\n\\item '1.5'\n\\item '\\_'\n\\item '-'\n\\end{enumerate*}\n",
            "text/plain": [
              "[1] \"$1 500\" \"1.5\"    \"_\"      \"-\"     "
            ]
          },
          "metadata": {}
        }
      ]
    },
    {
      "cell_type": "markdown",
      "source": [
        "There are cells with good values, but other values can not be kept. Use **\\D** with care, numbers are complex. So I prefer something like this:"
      ],
      "metadata": {
        "id": "YBlSuvGcuLYN"
      }
    },
    {
      "cell_type": "code",
      "source": [
        "dirty$'var@3'[grep(\"[^\\\\d+\\\\.*\\\\d*]\", dirty$'var@3', perl=T,invert = F)]"
      ],
      "metadata": {
        "id": "uGvlJx57uZcW",
        "colab": {
          "base_uri": "https://localhost:8080/",
          "height": 34
        },
        "outputId": "49539232-c39b-4fb3-d924-80e6d75de9fb"
      },
      "execution_count": 22,
      "outputs": [
        {
          "output_type": "display_data",
          "data": {
            "text/html": [
              "<style>\n",
              ".list-inline {list-style: none; margin:0; padding: 0}\n",
              ".list-inline>li {display: inline-block}\n",
              ".list-inline>li:not(:last-child)::after {content: \"\\00b7\"; padding: 0 .5ex}\n",
              "</style>\n",
              "<ol class=list-inline><li>'$1 500'</li><li>'_'</li><li>'-'</li></ol>\n"
            ],
            "text/markdown": "1. '$1 500'\n2. '_'\n3. '-'\n\n\n",
            "text/latex": "\\begin{enumerate*}\n\\item '\\$1 500'\n\\item '\\_'\n\\item '-'\n\\end{enumerate*}\n",
            "text/plain": [
              "[1] \"$1 500\" \"_\"      \"-\"     "
            ]
          },
          "metadata": {}
        }
      ]
    },
    {
      "cell_type": "markdown",
      "source": [
        "## 2. CLEANING\n",
        "\n",
        "As mentioned, cleaning may mean:\n",
        "\n",
        "a. Making bad characters disappear.\n",
        "\n",
        "b. Keeping good characters stay.\n",
        "\n",
        "\n",
        "Let's start with the _column names_:"
      ],
      "metadata": {
        "id": "gXqbdwHLWmY7"
      }
    },
    {
      "cell_type": "code",
      "source": [
        "names(dirty)[grep(\"[^0-9a-zA-Z]\",names(dirty),perl = T)]"
      ],
      "metadata": {
        "id": "08lZ2YJJWePM",
        "colab": {
          "base_uri": "https://localhost:8080/",
          "height": 34
        },
        "outputId": "82cc35fa-2162-4bb1-e99e-eb33cd207836"
      },
      "execution_count": 23,
      "outputs": [
        {
          "output_type": "display_data",
          "data": {
            "text/html": [
              "<style>\n",
              ".list-inline {list-style: none; margin:0; padding: 0}\n",
              ".list-inline>li {display: inline-block}\n",
              ".list-inline>li:not(:last-child)::after {content: \"\\00b7\"; padding: 0 .5ex}\n",
              "</style>\n",
              "<ol class=list-inline><li>'var 2'</li><li>'var@3'</li></ol>\n"
            ],
            "text/markdown": "1. 'var 2'\n2. 'var@3'\n\n\n",
            "text/latex": "\\begin{enumerate*}\n\\item 'var 2'\n\\item 'var@3'\n\\end{enumerate*}\n",
            "text/plain": [
              "[1] \"var 2\" \"var@3\""
            ]
          },
          "metadata": {}
        }
      ]
    },
    {
      "cell_type": "markdown",
      "source": [
        "How can you say: if \"a space\" or a \"weird character\", disappear? (that is *replace* by \"\")"
      ],
      "metadata": {
        "id": "swjrz_7ia4p-"
      }
    },
    {
      "cell_type": "code",
      "source": [
        "# option 1\n",
        "gsub(\"\\\\W\",'',names(dirty), perl=T )\n"
      ],
      "metadata": {
        "id": "xBKjgb3Dar_V",
        "colab": {
          "base_uri": "https://localhost:8080/",
          "height": 34
        },
        "outputId": "83ed9afd-b2b0-4b32-df59-36cf48b502f7"
      },
      "execution_count": 24,
      "outputs": [
        {
          "output_type": "display_data",
          "data": {
            "text/html": [
              "<style>\n",
              ".list-inline {list-style: none; margin:0; padding: 0}\n",
              ".list-inline>li {display: inline-block}\n",
              ".list-inline>li:not(:last-child)::after {content: \"\\00b7\"; padding: 0 .5ex}\n",
              "</style>\n",
              "<ol class=list-inline><li>'identification'</li><li>'identification2'</li><li>'var1'</li><li>'var2'</li><li>'var3'</li><li>'category'</li></ol>\n"
            ],
            "text/markdown": "1. 'identification'\n2. 'identification2'\n3. 'var1'\n4. 'var2'\n5. 'var3'\n6. 'category'\n\n\n",
            "text/latex": "\\begin{enumerate*}\n\\item 'identification'\n\\item 'identification2'\n\\item 'var1'\n\\item 'var2'\n\\item 'var3'\n\\item 'category'\n\\end{enumerate*}\n",
            "text/plain": [
              "[1] \"identification\"  \"identification2\" \"var1\"            \"var2\"           \n",
              "[5] \"var3\"            \"category\"       "
            ]
          },
          "metadata": {}
        }
      ]
    },
    {
      "cell_type": "code",
      "source": [
        "# option 2\n",
        "gsub(\"[^\\\\w]\",'',names(dirty), perl=T )"
      ],
      "metadata": {
        "id": "Yqb4_4FRbLKU",
        "colab": {
          "base_uri": "https://localhost:8080/",
          "height": 34
        },
        "outputId": "9a0993e0-7b4e-4e56-fb2c-a75f8014bd92"
      },
      "execution_count": 25,
      "outputs": [
        {
          "output_type": "display_data",
          "data": {
            "text/html": [
              "<style>\n",
              ".list-inline {list-style: none; margin:0; padding: 0}\n",
              ".list-inline>li {display: inline-block}\n",
              ".list-inline>li:not(:last-child)::after {content: \"\\00b7\"; padding: 0 .5ex}\n",
              "</style>\n",
              "<ol class=list-inline><li>'identification'</li><li>'identification2'</li><li>'var1'</li><li>'var2'</li><li>'var3'</li><li>'category'</li></ol>\n"
            ],
            "text/markdown": "1. 'identification'\n2. 'identification2'\n3. 'var1'\n4. 'var2'\n5. 'var3'\n6. 'category'\n\n\n",
            "text/latex": "\\begin{enumerate*}\n\\item 'identification'\n\\item 'identification2'\n\\item 'var1'\n\\item 'var2'\n\\item 'var3'\n\\item 'category'\n\\end{enumerate*}\n",
            "text/plain": [
              "[1] \"identification\"  \"identification2\" \"var1\"            \"var2\"           \n",
              "[5] \"var3\"            \"category\"       "
            ]
          },
          "metadata": {}
        }
      ]
    },
    {
      "cell_type": "code",
      "source": [
        "# # option 3\n",
        "gsub(\"[^0-9a-zA-Z]\",'',names(dirty), perl=T )"
      ],
      "metadata": {
        "id": "gNQGMLeGbdcG",
        "colab": {
          "base_uri": "https://localhost:8080/",
          "height": 34
        },
        "outputId": "1b70e19e-d8ae-41c0-a5e7-2d64a27f656a"
      },
      "execution_count": 26,
      "outputs": [
        {
          "output_type": "display_data",
          "data": {
            "text/html": [
              "<style>\n",
              ".list-inline {list-style: none; margin:0; padding: 0}\n",
              ".list-inline>li {display: inline-block}\n",
              ".list-inline>li:not(:last-child)::after {content: \"\\00b7\"; padding: 0 .5ex}\n",
              "</style>\n",
              "<ol class=list-inline><li>'identification'</li><li>'identification2'</li><li>'var1'</li><li>'var2'</li><li>'var3'</li><li>'category'</li></ol>\n"
            ],
            "text/markdown": "1. 'identification'\n2. 'identification2'\n3. 'var1'\n4. 'var2'\n5. 'var3'\n6. 'category'\n\n\n",
            "text/latex": "\\begin{enumerate*}\n\\item 'identification'\n\\item 'identification2'\n\\item 'var1'\n\\item 'var2'\n\\item 'var3'\n\\item 'category'\n\\end{enumerate*}\n",
            "text/plain": [
              "[1] \"identification\"  \"identification2\" \"var1\"            \"var2\"           \n",
              "[5] \"var3\"            \"category\"       "
            ]
          },
          "metadata": {}
        }
      ]
    },
    {
      "cell_type": "markdown",
      "source": [
        "Choose any and make the change:"
      ],
      "metadata": {
        "id": "qrCiL6PIcOB3"
      }
    },
    {
      "cell_type": "code",
      "source": [
        "names(dirty)=gsub(\"[^0-9a-zA-Z]\",'',names(dirty), perl=T )\n",
        "dirty"
      ],
      "metadata": {
        "id": "VJkm5i-0b0EN",
        "colab": {
          "base_uri": "https://localhost:8080/",
          "height": 286
        },
        "outputId": "da22f455-1aff-4e08-db81-874123ec1a3b"
      },
      "execution_count": 27,
      "outputs": [
        {
          "output_type": "display_data",
          "data": {
            "text/html": [
              "<table class=\"dataframe\">\n",
              "<caption>A data.frame: 6 × 6</caption>\n",
              "<thead>\n",
              "\t<tr><th scope=col>identification</th><th scope=col>identification2</th><th scope=col>var1</th><th scope=col>var2</th><th scope=col>var3</th><th scope=col>category</th></tr>\n",
              "\t<tr><th scope=col>&lt;chr&gt;</th><th scope=col>&lt;chr&gt;</th><th scope=col>&lt;chr&gt;</th><th scope=col>&lt;chr&gt;</th><th scope=col>&lt;chr&gt;</th><th scope=col>&lt;chr&gt;</th></tr>\n",
              "</thead>\n",
              "<tbody>\n",
              "\t<tr><td>Perú          </td><td>Peru, South America   </td><td>1500</td><td>1'200 </td><td>500   </td><td>a </td></tr>\n",
              "\t<tr><td>USA           </td><td>USA, North America    </td><td>2500</td><td>1'300 </td><td>$1 500</td><td>A </td></tr>\n",
              "\t<tr><td>Canada        </td><td>Canada, North America </td><td>3500</td><td>--    </td><td>1.5   </td><td>Ba</td></tr>\n",
              "\t<tr><td>Côte D'Ivoire </td><td>Côte D'Ivoire, Africa </td><td>2500</td><td>      </td><td>_     </td><td>Ba</td></tr>\n",
              "\t<tr><td>Israel [note] </td><td>Israel [note], Asia   </td><td>Dk  </td><td>250k  </td><td>-     </td><td>? </td></tr>\n",
              "\t<tr><td>United Kingdom</td><td>United Kingdom, Europe</td><td>2550</td><td>310000</td><td>330   </td><td>Ba</td></tr>\n",
              "</tbody>\n",
              "</table>\n"
            ],
            "text/markdown": "\nA data.frame: 6 × 6\n\n| identification &lt;chr&gt; | identification2 &lt;chr&gt; | var1 &lt;chr&gt; | var2 &lt;chr&gt; | var3 &lt;chr&gt; | category &lt;chr&gt; |\n|---|---|---|---|---|---|\n| Perú           | Peru, South America    | 1500 | 1'200  | 500    | a  |\n| USA            | USA, North America     | 2500 | 1'300  | $1 500 | A  |\n| Canada         | Canada, North America  | 3500 | --     | 1.5    | Ba |\n| Côte D'Ivoire  | Côte D'Ivoire, Africa  | 2500 | <!----> | _      | Ba |\n| Israel [note]  | Israel [note], Asia    | Dk   | 250k   | -      | ?  |\n| United Kingdom | United Kingdom, Europe | 2550 | 310000 | 330    | Ba |\n\n",
            "text/latex": "A data.frame: 6 × 6\n\\begin{tabular}{llllll}\n identification & identification2 & var1 & var2 & var3 & category\\\\\n <chr> & <chr> & <chr> & <chr> & <chr> & <chr>\\\\\n\\hline\n\t Perú           & Peru, South America    & 1500 & 1'200  & 500    & a \\\\\n\t USA            & USA, North America     & 2500 & 1'300  & \\$1 500 & A \\\\\n\t Canada         & Canada, North America  & 3500 & --     & 1.5    & Ba\\\\\n\t Côte D'Ivoire  & Côte D'Ivoire, Africa  & 2500 &        & \\_      & Ba\\\\\n\t Israel {[}note{]}  & Israel {[}note{]}, Asia    & Dk   & 250k   & -      & ? \\\\\n\t United Kingdom & United Kingdom, Europe & 2550 & 310000 & 330    & Ba\\\\\n\\end{tabular}\n",
            "text/plain": [
              "  identification identification2        var1 var2   var3   category\n",
              "1 Perú           Peru, South America    1500 1'200  500    a       \n",
              "2 USA            USA, North America     2500 1'300  $1 500 A       \n",
              "3 Canada         Canada, North America  3500 --     1.5    Ba      \n",
              "4 Côte D'Ivoire  Côte D'Ivoire, Africa  2500        _      Ba      \n",
              "5 Israel [note]  Israel [note], Asia    Dk   250k   -      ?       \n",
              "6 United Kingdom United Kingdom, Europe 2550 310000 330    Ba      "
            ]
          },
          "metadata": {}
        }
      ]
    },
    {
      "cell_type": "markdown",
      "source": [
        "The column names were cleaned by **Making bad characters disappear** 🙂\n",
        "\n",
        "\n",
        "Let's check the **identification** column:"
      ],
      "metadata": {
        "id": "agZwI0HPc_x3"
      }
    },
    {
      "cell_type": "code",
      "source": [
        "dirty$identification[grep(\"[^a-zA-Z\\\\s]\",dirty$identification,perl = T)]"
      ],
      "metadata": {
        "id": "FHtLX5V3cYW3",
        "colab": {
          "base_uri": "https://localhost:8080/",
          "height": 34
        },
        "outputId": "02acc56f-a77a-44e1-d8b2-69a25f18616b"
      },
      "execution_count": 28,
      "outputs": [
        {
          "output_type": "display_data",
          "data": {
            "text/html": [
              "<style>\n",
              ".list-inline {list-style: none; margin:0; padding: 0}\n",
              ".list-inline>li {display: inline-block}\n",
              ".list-inline>li:not(:last-child)::after {content: \"\\00b7\"; padding: 0 .5ex}\n",
              "</style>\n",
              "<ol class=list-inline><li>'Perú'</li><li>'Côte D\\'Ivoire'</li><li>'Israel [note]'</li></ol>\n"
            ],
            "text/markdown": "1. 'Perú'\n2. 'Côte D\\'Ivoire'\n3. 'Israel [note]'\n\n\n",
            "text/latex": "\\begin{enumerate*}\n\\item 'Perú'\n\\item 'Côte D\\textbackslash{}'Ivoire'\n\\item 'Israel {[}note{]}'\n\\end{enumerate*}\n",
            "text/plain": [
              "[1] \"Perú\"          \"Côte D'Ivoire\" \"Israel [note]\""
            ]
          },
          "metadata": {}
        }
      ]
    },
    {
      "cell_type": "markdown",
      "source": [
        "Not all characters detected are invalid. The **only** problem here is the brackets. Then:\n",
        "\n",
        "* Option 1: Whatever inside brackets (including the brackets) have to go!"
      ],
      "metadata": {
        "id": "Cz5flS9necoL"
      }
    },
    {
      "cell_type": "code",
      "source": [
        "gsub(\"\\\\[.*\\\\]\",'',dirty$identification,perl = T)"
      ],
      "metadata": {
        "id": "qdXe3HrjeMKC",
        "colab": {
          "base_uri": "https://localhost:8080/",
          "height": 34
        },
        "outputId": "89ae60e6-5b3a-449f-bde0-4476b6ddd1ab"
      },
      "execution_count": 29,
      "outputs": [
        {
          "output_type": "display_data",
          "data": {
            "text/html": [
              "<style>\n",
              ".list-inline {list-style: none; margin:0; padding: 0}\n",
              ".list-inline>li {display: inline-block}\n",
              ".list-inline>li:not(:last-child)::after {content: \"\\00b7\"; padding: 0 .5ex}\n",
              "</style>\n",
              "<ol class=list-inline><li>'Perú'</li><li>'USA'</li><li>'Canada'</li><li>'Côte D\\'Ivoire'</li><li>'Israel '</li><li>'United Kingdom'</li></ol>\n"
            ],
            "text/markdown": "1. 'Perú'\n2. 'USA'\n3. 'Canada'\n4. 'Côte D\\'Ivoire'\n5. 'Israel '\n6. 'United Kingdom'\n\n\n",
            "text/latex": "\\begin{enumerate*}\n\\item 'Perú'\n\\item 'USA'\n\\item 'Canada'\n\\item 'Côte D\\textbackslash{}'Ivoire'\n\\item 'Israel '\n\\item 'United Kingdom'\n\\end{enumerate*}\n",
            "text/plain": [
              "[1] \"Perú\"           \"USA\"            \"Canada\"         \"Côte D'Ivoire\" \n",
              "[5] \"Israel \"        \"United Kingdom\""
            ]
          },
          "metadata": {}
        }
      ]
    },
    {
      "cell_type": "markdown",
      "source": [
        "* Option 2: Splitting"
      ],
      "metadata": {
        "id": "yQdqE96uhlak"
      }
    },
    {
      "cell_type": "code",
      "source": [
        "strsplit(dirty$identification,split = '[',fixed=T)"
      ],
      "metadata": {
        "id": "qp1d-xVkfHPl",
        "colab": {
          "base_uri": "https://localhost:8080/",
          "height": 149
        },
        "outputId": "f4a5de3a-6ff7-4648-bf79-d368cca57d4a"
      },
      "execution_count": 30,
      "outputs": [
        {
          "output_type": "display_data",
          "data": {
            "text/html": [
              "<ol>\n",
              "\t<li>'Perú'</li>\n",
              "\t<li>'USA'</li>\n",
              "\t<li>'Canada'</li>\n",
              "\t<li>'Côte D\\'Ivoire'</li>\n",
              "\t<li><style>\n",
              ".list-inline {list-style: none; margin:0; padding: 0}\n",
              ".list-inline>li {display: inline-block}\n",
              ".list-inline>li:not(:last-child)::after {content: \"\\00b7\"; padding: 0 .5ex}\n",
              "</style>\n",
              "<ol class=list-inline><li>'Israel '</li><li>'note]'</li></ol>\n",
              "</li>\n",
              "\t<li>'United Kingdom'</li>\n",
              "</ol>\n"
            ],
            "text/markdown": "1. 'Perú'\n2. 'USA'\n3. 'Canada'\n4. 'Côte D\\'Ivoire'\n5. 1. 'Israel '\n2. 'note]'\n\n\n\n6. 'United Kingdom'\n\n\n",
            "text/latex": "\\begin{enumerate}\n\\item 'Perú'\n\\item 'USA'\n\\item 'Canada'\n\\item 'Côte D\\textbackslash{}'Ivoire'\n\\item \\begin{enumerate*}\n\\item 'Israel '\n\\item 'note{]}'\n\\end{enumerate*}\n\n\\item 'United Kingdom'\n\\end{enumerate}\n",
            "text/plain": [
              "[[1]]\n",
              "[1] \"Perú\"\n",
              "\n",
              "[[2]]\n",
              "[1] \"USA\"\n",
              "\n",
              "[[3]]\n",
              "[1] \"Canada\"\n",
              "\n",
              "[[4]]\n",
              "[1] \"Côte D'Ivoire\"\n",
              "\n",
              "[[5]]\n",
              "[1] \"Israel \" \"note]\"  \n",
              "\n",
              "[[6]]\n",
              "[1] \"United Kingdom\"\n"
            ]
          },
          "metadata": {}
        }
      ]
    },
    {
      "cell_type": "markdown",
      "source": [
        "You got a list. BUT you need a data frame column. Then:"
      ],
      "metadata": {
        "id": "atTpYtx6K4tE"
      }
    },
    {
      "cell_type": "code",
      "source": [
        "## saving result\n",
        "resultSplitIn2=strsplit(dirty$identification,split = '[',fixed=T)\n",
        "# as matrix\n",
        "goodColumn=c()\n",
        "for (elements in resultSplitIn2){\n",
        "  goodColumn=c(goodColumn,elements[1])\n",
        "\n",
        "}\n",
        "goodColumn"
      ],
      "metadata": {
        "id": "cl4MNOXyLEGB",
        "colab": {
          "base_uri": "https://localhost:8080/",
          "height": 34
        },
        "outputId": "f2cd3545-d9db-417b-8be6-0ba1e1cb2f31"
      },
      "execution_count": 31,
      "outputs": [
        {
          "output_type": "display_data",
          "data": {
            "text/html": [
              "<style>\n",
              ".list-inline {list-style: none; margin:0; padding: 0}\n",
              ".list-inline>li {display: inline-block}\n",
              ".list-inline>li:not(:last-child)::after {content: \"\\00b7\"; padding: 0 .5ex}\n",
              "</style>\n",
              "<ol class=list-inline><li>'Perú'</li><li>'USA'</li><li>'Canada'</li><li>'Côte D\\'Ivoire'</li><li>'Israel '</li><li>'United Kingdom'</li></ol>\n"
            ],
            "text/markdown": "1. 'Perú'\n2. 'USA'\n3. 'Canada'\n4. 'Côte D\\'Ivoire'\n5. 'Israel '\n6. 'United Kingdom'\n\n\n",
            "text/latex": "\\begin{enumerate*}\n\\item 'Perú'\n\\item 'USA'\n\\item 'Canada'\n\\item 'Côte D\\textbackslash{}'Ivoire'\n\\item 'Israel '\n\\item 'United Kingdom'\n\\end{enumerate*}\n",
            "text/plain": [
              "[1] \"Perú\"           \"USA\"            \"Canada\"         \"Côte D'Ivoire\" \n",
              "[5] \"Israel \"        \"United Kingdom\""
            ]
          },
          "metadata": {}
        }
      ]
    },
    {
      "cell_type": "markdown",
      "source": [
        "When you are happy, make the change:"
      ],
      "metadata": {
        "id": "_2kBZazbjhk1"
      }
    },
    {
      "cell_type": "code",
      "source": [
        "dirty$identification=goodColumn\n",
        "dirty"
      ],
      "metadata": {
        "id": "4aBjngydiiom",
        "colab": {
          "base_uri": "https://localhost:8080/",
          "height": 286
        },
        "outputId": "2f587d26-6b73-48e6-a9ee-eea18e55ce9b"
      },
      "execution_count": 32,
      "outputs": [
        {
          "output_type": "display_data",
          "data": {
            "text/html": [
              "<table class=\"dataframe\">\n",
              "<caption>A data.frame: 6 × 6</caption>\n",
              "<thead>\n",
              "\t<tr><th scope=col>identification</th><th scope=col>identification2</th><th scope=col>var1</th><th scope=col>var2</th><th scope=col>var3</th><th scope=col>category</th></tr>\n",
              "\t<tr><th scope=col>&lt;chr&gt;</th><th scope=col>&lt;chr&gt;</th><th scope=col>&lt;chr&gt;</th><th scope=col>&lt;chr&gt;</th><th scope=col>&lt;chr&gt;</th><th scope=col>&lt;chr&gt;</th></tr>\n",
              "</thead>\n",
              "<tbody>\n",
              "\t<tr><td>Perú          </td><td>Peru, South America   </td><td>1500</td><td>1'200 </td><td>500   </td><td>a </td></tr>\n",
              "\t<tr><td>USA           </td><td>USA, North America    </td><td>2500</td><td>1'300 </td><td>$1 500</td><td>A </td></tr>\n",
              "\t<tr><td>Canada        </td><td>Canada, North America </td><td>3500</td><td>--    </td><td>1.5   </td><td>Ba</td></tr>\n",
              "\t<tr><td>Côte D'Ivoire </td><td>Côte D'Ivoire, Africa </td><td>2500</td><td>      </td><td>_     </td><td>Ba</td></tr>\n",
              "\t<tr><td>Israel        </td><td>Israel [note], Asia   </td><td>Dk  </td><td>250k  </td><td>-     </td><td>? </td></tr>\n",
              "\t<tr><td>United Kingdom</td><td>United Kingdom, Europe</td><td>2550</td><td>310000</td><td>330   </td><td>Ba</td></tr>\n",
              "</tbody>\n",
              "</table>\n"
            ],
            "text/markdown": "\nA data.frame: 6 × 6\n\n| identification &lt;chr&gt; | identification2 &lt;chr&gt; | var1 &lt;chr&gt; | var2 &lt;chr&gt; | var3 &lt;chr&gt; | category &lt;chr&gt; |\n|---|---|---|---|---|---|\n| Perú           | Peru, South America    | 1500 | 1'200  | 500    | a  |\n| USA            | USA, North America     | 2500 | 1'300  | $1 500 | A  |\n| Canada         | Canada, North America  | 3500 | --     | 1.5    | Ba |\n| Côte D'Ivoire  | Côte D'Ivoire, Africa  | 2500 | <!----> | _      | Ba |\n| Israel         | Israel [note], Asia    | Dk   | 250k   | -      | ?  |\n| United Kingdom | United Kingdom, Europe | 2550 | 310000 | 330    | Ba |\n\n",
            "text/latex": "A data.frame: 6 × 6\n\\begin{tabular}{llllll}\n identification & identification2 & var1 & var2 & var3 & category\\\\\n <chr> & <chr> & <chr> & <chr> & <chr> & <chr>\\\\\n\\hline\n\t Perú           & Peru, South America    & 1500 & 1'200  & 500    & a \\\\\n\t USA            & USA, North America     & 2500 & 1'300  & \\$1 500 & A \\\\\n\t Canada         & Canada, North America  & 3500 & --     & 1.5    & Ba\\\\\n\t Côte D'Ivoire  & Côte D'Ivoire, Africa  & 2500 &        & \\_      & Ba\\\\\n\t Israel         & Israel {[}note{]}, Asia    & Dk   & 250k   & -      & ? \\\\\n\t United Kingdom & United Kingdom, Europe & 2550 & 310000 & 330    & Ba\\\\\n\\end{tabular}\n",
            "text/plain": [
              "  identification identification2        var1 var2   var3   category\n",
              "1 Perú           Peru, South America    1500 1'200  500    a       \n",
              "2 USA            USA, North America     2500 1'300  $1 500 A       \n",
              "3 Canada         Canada, North America  3500 --     1.5    Ba      \n",
              "4 Côte D'Ivoire  Côte D'Ivoire, Africa  2500        _      Ba      \n",
              "5 Israel         Israel [note], Asia    Dk   250k   -      ?       \n",
              "6 United Kingdom United Kingdom, Europe 2550 310000 330    Ba      "
            ]
          },
          "metadata": {}
        }
      ]
    },
    {
      "cell_type": "markdown",
      "source": [
        "The **splitting** option seems very convenient for **identification2**:"
      ],
      "metadata": {
        "id": "nKA-BIx8jt8S"
      }
    },
    {
      "cell_type": "code",
      "source": [],
      "metadata": {
        "id": "qlomcxz2jpim"
      },
      "execution_count": 33,
      "outputs": []
    },
    {
      "cell_type": "code",
      "source": [
        "## you want to keep [2]:\n",
        "## saving result\n",
        "resultSplitIn2=strsplit(dirty$identification2,split = ',', fixed = T)\n",
        "# as matrix\n",
        "goodColumn=c()\n",
        "for (elements in resultSplitIn2){\n",
        "  goodColumn=c(goodColumn,elements[2])\n",
        "\n",
        "}\n",
        "goodColumn"
      ],
      "metadata": {
        "id": "1F6gVTxEj6MS",
        "colab": {
          "base_uri": "https://localhost:8080/",
          "height": 34
        },
        "outputId": "28520db7-3561-4595-9572-5498856e3625"
      },
      "execution_count": 34,
      "outputs": [
        {
          "output_type": "display_data",
          "data": {
            "text/html": [
              "<style>\n",
              ".list-inline {list-style: none; margin:0; padding: 0}\n",
              ".list-inline>li {display: inline-block}\n",
              ".list-inline>li:not(:last-child)::after {content: \"\\00b7\"; padding: 0 .5ex}\n",
              "</style>\n",
              "<ol class=list-inline><li>' South America'</li><li>' North America'</li><li>' North America'</li><li>' Africa'</li><li>' Asia'</li><li>' Europe'</li></ol>\n"
            ],
            "text/markdown": "1. ' South America'\n2. ' North America'\n3. ' North America'\n4. ' Africa'\n5. ' Asia'\n6. ' Europe'\n\n\n",
            "text/latex": "\\begin{enumerate*}\n\\item ' South America'\n\\item ' North America'\n\\item ' North America'\n\\item ' Africa'\n\\item ' Asia'\n\\item ' Europe'\n\\end{enumerate*}\n",
            "text/plain": [
              "[1] \" South America\" \" North America\" \" North America\" \" Africa\"       \n",
              "[5] \" Asia\"          \" Europe\"       "
            ]
          },
          "metadata": {}
        }
      ]
    },
    {
      "cell_type": "markdown",
      "source": [
        "If this is OK, then:"
      ],
      "metadata": {
        "id": "EprMk2H1kCUi"
      }
    },
    {
      "cell_type": "code",
      "source": [
        "dirty$identification2=goodColumn\n",
        "dirty"
      ],
      "metadata": {
        "id": "Kma4R2vVkAUJ",
        "colab": {
          "base_uri": "https://localhost:8080/",
          "height": 286
        },
        "outputId": "cd8486a0-70ee-40fc-ce7a-1b74ddab8199"
      },
      "execution_count": 35,
      "outputs": [
        {
          "output_type": "display_data",
          "data": {
            "text/html": [
              "<table class=\"dataframe\">\n",
              "<caption>A data.frame: 6 × 6</caption>\n",
              "<thead>\n",
              "\t<tr><th scope=col>identification</th><th scope=col>identification2</th><th scope=col>var1</th><th scope=col>var2</th><th scope=col>var3</th><th scope=col>category</th></tr>\n",
              "\t<tr><th scope=col>&lt;chr&gt;</th><th scope=col>&lt;chr&gt;</th><th scope=col>&lt;chr&gt;</th><th scope=col>&lt;chr&gt;</th><th scope=col>&lt;chr&gt;</th><th scope=col>&lt;chr&gt;</th></tr>\n",
              "</thead>\n",
              "<tbody>\n",
              "\t<tr><td>Perú          </td><td> South America</td><td>1500</td><td>1'200 </td><td>500   </td><td>a </td></tr>\n",
              "\t<tr><td>USA           </td><td> North America</td><td>2500</td><td>1'300 </td><td>$1 500</td><td>A </td></tr>\n",
              "\t<tr><td>Canada        </td><td> North America</td><td>3500</td><td>--    </td><td>1.5   </td><td>Ba</td></tr>\n",
              "\t<tr><td>Côte D'Ivoire </td><td> Africa       </td><td>2500</td><td>      </td><td>_     </td><td>Ba</td></tr>\n",
              "\t<tr><td>Israel        </td><td> Asia         </td><td>Dk  </td><td>250k  </td><td>-     </td><td>? </td></tr>\n",
              "\t<tr><td>United Kingdom</td><td> Europe       </td><td>2550</td><td>310000</td><td>330   </td><td>Ba</td></tr>\n",
              "</tbody>\n",
              "</table>\n"
            ],
            "text/markdown": "\nA data.frame: 6 × 6\n\n| identification &lt;chr&gt; | identification2 &lt;chr&gt; | var1 &lt;chr&gt; | var2 &lt;chr&gt; | var3 &lt;chr&gt; | category &lt;chr&gt; |\n|---|---|---|---|---|---|\n| Perú           |  South America | 1500 | 1'200  | 500    | a  |\n| USA            |  North America | 2500 | 1'300  | $1 500 | A  |\n| Canada         |  North America | 3500 | --     | 1.5    | Ba |\n| Côte D'Ivoire  |  Africa        | 2500 | <!----> | _      | Ba |\n| Israel         |  Asia          | Dk   | 250k   | -      | ?  |\n| United Kingdom |  Europe        | 2550 | 310000 | 330    | Ba |\n\n",
            "text/latex": "A data.frame: 6 × 6\n\\begin{tabular}{llllll}\n identification & identification2 & var1 & var2 & var3 & category\\\\\n <chr> & <chr> & <chr> & <chr> & <chr> & <chr>\\\\\n\\hline\n\t Perú           &  South America & 1500 & 1'200  & 500    & a \\\\\n\t USA            &  North America & 2500 & 1'300  & \\$1 500 & A \\\\\n\t Canada         &  North America & 3500 & --     & 1.5    & Ba\\\\\n\t Côte D'Ivoire  &  Africa        & 2500 &        & \\_      & Ba\\\\\n\t Israel         &  Asia          & Dk   & 250k   & -      & ? \\\\\n\t United Kingdom &  Europe        & 2550 & 310000 & 330    & Ba\\\\\n\\end{tabular}\n",
            "text/plain": [
              "  identification identification2 var1 var2   var3   category\n",
              "1 Perú            South America  1500 1'200  500    a       \n",
              "2 USA             North America  2500 1'300  $1 500 A       \n",
              "3 Canada          North America  3500 --     1.5    Ba      \n",
              "4 Côte D'Ivoire   Africa         2500        _      Ba      \n",
              "5 Israel          Asia           Dk   250k   -      ?       \n",
              "6 United Kingdom  Europe         2550 310000 330    Ba      "
            ]
          },
          "metadata": {}
        }
      ]
    },
    {
      "cell_type": "markdown",
      "source": [
        "The **category** requires a frequency table:"
      ],
      "metadata": {
        "id": "aXuEiiq-k3ZF"
      }
    },
    {
      "cell_type": "code",
      "source": [
        "table(dirty$category)"
      ],
      "metadata": {
        "id": "l8kG5BVykLOK",
        "colab": {
          "base_uri": "https://localhost:8080/",
          "height": 71
        },
        "outputId": "f4c5a782-ab15-40da-d950-7bfbe888760f"
      },
      "execution_count": 36,
      "outputs": [
        {
          "output_type": "display_data",
          "data": {
            "text/plain": [
              "\n",
              " ?  a  A Ba \n",
              " 1  1  1  3 "
            ]
          },
          "metadata": {}
        }
      ]
    },
    {
      "cell_type": "markdown",
      "source": [
        "You can conclude that the **a** is wrong, it should be **A**."
      ],
      "metadata": {
        "id": "S0_2UxwBlE15"
      }
    },
    {
      "cell_type": "code",
      "source": [
        "#what about:\n",
        "gsub('a','A', dirty$category,fixed=T)"
      ],
      "metadata": {
        "id": "Eq2akJqAlRxx",
        "colab": {
          "base_uri": "https://localhost:8080/",
          "height": 34
        },
        "outputId": "a4cedd09-7a05-4018-f840-28f5a84d0ffe"
      },
      "execution_count": 37,
      "outputs": [
        {
          "output_type": "display_data",
          "data": {
            "text/html": [
              "<style>\n",
              ".list-inline {list-style: none; margin:0; padding: 0}\n",
              ".list-inline>li {display: inline-block}\n",
              ".list-inline>li:not(:last-child)::after {content: \"\\00b7\"; padding: 0 .5ex}\n",
              "</style>\n",
              "<ol class=list-inline><li>'A'</li><li>'A'</li><li>'BA'</li><li>'BA'</li><li>'?'</li><li>'BA'</li></ol>\n"
            ],
            "text/markdown": "1. 'A'\n2. 'A'\n3. 'BA'\n4. 'BA'\n5. '?'\n6. 'BA'\n\n\n",
            "text/latex": "\\begin{enumerate*}\n\\item 'A'\n\\item 'A'\n\\item 'BA'\n\\item 'BA'\n\\item '?'\n\\item 'BA'\n\\end{enumerate*}\n",
            "text/plain": [
              "[1] \"A\"  \"A\"  \"BA\" \"BA\" \"?\"  \"BA\""
            ]
          },
          "metadata": {}
        }
      ]
    },
    {
      "cell_type": "markdown",
      "source": [
        "That changed **Ba** to **BA**!"
      ],
      "metadata": {
        "id": "mpxv6ldOo21_"
      }
    },
    {
      "cell_type": "code",
      "source": [
        "## maybe\n",
        "## ^: start of string\n",
        "## $: end  of string\n",
        "gsub('^a$','A', dirty$category)"
      ],
      "metadata": {
        "id": "Sbt0sI9_mLqV",
        "colab": {
          "base_uri": "https://localhost:8080/",
          "height": 34
        },
        "outputId": "659e9407-562b-4058-b857-73f35a49c3f9"
      },
      "execution_count": 38,
      "outputs": [
        {
          "output_type": "display_data",
          "data": {
            "text/html": [
              "<style>\n",
              ".list-inline {list-style: none; margin:0; padding: 0}\n",
              ".list-inline>li {display: inline-block}\n",
              ".list-inline>li:not(:last-child)::after {content: \"\\00b7\"; padding: 0 .5ex}\n",
              "</style>\n",
              "<ol class=list-inline><li>'A'</li><li>'A'</li><li>'Ba'</li><li>'Ba'</li><li>'?'</li><li>'Ba'</li></ol>\n"
            ],
            "text/markdown": "1. 'A'\n2. 'A'\n3. 'Ba'\n4. 'Ba'\n5. '?'\n6. 'Ba'\n\n\n",
            "text/latex": "\\begin{enumerate*}\n\\item 'A'\n\\item 'A'\n\\item 'Ba'\n\\item 'Ba'\n\\item '?'\n\\item 'Ba'\n\\end{enumerate*}\n",
            "text/plain": [
              "[1] \"A\"  \"A\"  \"Ba\" \"Ba\" \"?\"  \"Ba\""
            ]
          },
          "metadata": {}
        }
      ]
    },
    {
      "cell_type": "markdown",
      "source": [
        "The simpler way:"
      ],
      "metadata": {
        "id": "s4q-Far4pCPU"
      }
    },
    {
      "cell_type": "code",
      "source": [
        "dirty[dirty$category=='a','category']='A'\n",
        "\n",
        "dirty"
      ],
      "metadata": {
        "id": "H3G2J2xWlBEs",
        "colab": {
          "base_uri": "https://localhost:8080/",
          "height": 286
        },
        "outputId": "eb54b8f7-debf-41c7-e3ca-750cbbb7ebc5"
      },
      "execution_count": 39,
      "outputs": [
        {
          "output_type": "display_data",
          "data": {
            "text/html": [
              "<table class=\"dataframe\">\n",
              "<caption>A data.frame: 6 × 6</caption>\n",
              "<thead>\n",
              "\t<tr><th scope=col>identification</th><th scope=col>identification2</th><th scope=col>var1</th><th scope=col>var2</th><th scope=col>var3</th><th scope=col>category</th></tr>\n",
              "\t<tr><th scope=col>&lt;chr&gt;</th><th scope=col>&lt;chr&gt;</th><th scope=col>&lt;chr&gt;</th><th scope=col>&lt;chr&gt;</th><th scope=col>&lt;chr&gt;</th><th scope=col>&lt;chr&gt;</th></tr>\n",
              "</thead>\n",
              "<tbody>\n",
              "\t<tr><td>Perú          </td><td> South America</td><td>1500</td><td>1'200 </td><td>500   </td><td>A </td></tr>\n",
              "\t<tr><td>USA           </td><td> North America</td><td>2500</td><td>1'300 </td><td>$1 500</td><td>A </td></tr>\n",
              "\t<tr><td>Canada        </td><td> North America</td><td>3500</td><td>--    </td><td>1.5   </td><td>Ba</td></tr>\n",
              "\t<tr><td>Côte D'Ivoire </td><td> Africa       </td><td>2500</td><td>      </td><td>_     </td><td>Ba</td></tr>\n",
              "\t<tr><td>Israel        </td><td> Asia         </td><td>Dk  </td><td>250k  </td><td>-     </td><td>? </td></tr>\n",
              "\t<tr><td>United Kingdom</td><td> Europe       </td><td>2550</td><td>310000</td><td>330   </td><td>Ba</td></tr>\n",
              "</tbody>\n",
              "</table>\n"
            ],
            "text/markdown": "\nA data.frame: 6 × 6\n\n| identification &lt;chr&gt; | identification2 &lt;chr&gt; | var1 &lt;chr&gt; | var2 &lt;chr&gt; | var3 &lt;chr&gt; | category &lt;chr&gt; |\n|---|---|---|---|---|---|\n| Perú           |  South America | 1500 | 1'200  | 500    | A  |\n| USA            |  North America | 2500 | 1'300  | $1 500 | A  |\n| Canada         |  North America | 3500 | --     | 1.5    | Ba |\n| Côte D'Ivoire  |  Africa        | 2500 | <!----> | _      | Ba |\n| Israel         |  Asia          | Dk   | 250k   | -      | ?  |\n| United Kingdom |  Europe        | 2550 | 310000 | 330    | Ba |\n\n",
            "text/latex": "A data.frame: 6 × 6\n\\begin{tabular}{llllll}\n identification & identification2 & var1 & var2 & var3 & category\\\\\n <chr> & <chr> & <chr> & <chr> & <chr> & <chr>\\\\\n\\hline\n\t Perú           &  South America & 1500 & 1'200  & 500    & A \\\\\n\t USA            &  North America & 2500 & 1'300  & \\$1 500 & A \\\\\n\t Canada         &  North America & 3500 & --     & 1.5    & Ba\\\\\n\t Côte D'Ivoire  &  Africa        & 2500 &        & \\_      & Ba\\\\\n\t Israel         &  Asia          & Dk   & 250k   & -      & ? \\\\\n\t United Kingdom &  Europe        & 2550 & 310000 & 330    & Ba\\\\\n\\end{tabular}\n",
            "text/plain": [
              "  identification identification2 var1 var2   var3   category\n",
              "1 Perú            South America  1500 1'200  500    A       \n",
              "2 USA             North America  2500 1'300  $1 500 A       \n",
              "3 Canada          North America  3500 --     1.5    Ba      \n",
              "4 Côte D'Ivoire   Africa         2500        _      Ba      \n",
              "5 Israel          Asia           Dk   250k   -      ?       \n",
              "6 United Kingdom  Europe         2550 310000 330    Ba      "
            ]
          },
          "metadata": {}
        }
      ]
    },
    {
      "cell_type": "markdown",
      "source": [
        "\n",
        "As you seem there are some symbols for missing. We could change it now. Or later.\n",
        "\n",
        "Let me first check the **numeric columns**:"
      ],
      "metadata": {
        "id": "QGf_qIBJopIh"
      }
    },
    {
      "cell_type": "code",
      "source": [
        "gsub(',','',dirty$var1)\n"
      ],
      "metadata": {
        "id": "KoaKd7jlm9cN",
        "colab": {
          "base_uri": "https://localhost:8080/",
          "height": 34
        },
        "outputId": "baf16956-1045-43ff-d618-59a6c83e7376"
      },
      "execution_count": 40,
      "outputs": [
        {
          "output_type": "display_data",
          "data": {
            "text/html": [
              "<style>\n",
              ".list-inline {list-style: none; margin:0; padding: 0}\n",
              ".list-inline>li {display: inline-block}\n",
              ".list-inline>li:not(:last-child)::after {content: \"\\00b7\"; padding: 0 .5ex}\n",
              "</style>\n",
              "<ol class=list-inline><li>'1500'</li><li>'2500'</li><li>'3500'</li><li>'2500'</li><li>'Dk'</li><li>'2550'</li></ol>\n"
            ],
            "text/markdown": "1. '1500'\n2. '2500'\n3. '3500'\n4. '2500'\n5. 'Dk'\n6. '2550'\n\n\n",
            "text/latex": "\\begin{enumerate*}\n\\item '1500'\n\\item '2500'\n\\item '3500'\n\\item '2500'\n\\item 'Dk'\n\\item '2550'\n\\end{enumerate*}\n",
            "text/plain": [
              "[1] \"1500\" \"2500\" \"3500\" \"2500\" \"Dk\"   \"2550\""
            ]
          },
          "metadata": {}
        }
      ]
    },
    {
      "cell_type": "markdown",
      "source": [
        "Then,"
      ],
      "metadata": {
        "id": "MPTeOLYfsf2H"
      }
    },
    {
      "cell_type": "code",
      "source": [
        "dirty$var1=gsub(',','',dirty$var1)\n",
        "dirty\n"
      ],
      "metadata": {
        "id": "CtPZW6z3sh0a",
        "colab": {
          "base_uri": "https://localhost:8080/",
          "height": 286
        },
        "outputId": "a2402b23-aeab-49de-a68c-fb861543e137"
      },
      "execution_count": 41,
      "outputs": [
        {
          "output_type": "display_data",
          "data": {
            "text/html": [
              "<table class=\"dataframe\">\n",
              "<caption>A data.frame: 6 × 6</caption>\n",
              "<thead>\n",
              "\t<tr><th scope=col>identification</th><th scope=col>identification2</th><th scope=col>var1</th><th scope=col>var2</th><th scope=col>var3</th><th scope=col>category</th></tr>\n",
              "\t<tr><th scope=col>&lt;chr&gt;</th><th scope=col>&lt;chr&gt;</th><th scope=col>&lt;chr&gt;</th><th scope=col>&lt;chr&gt;</th><th scope=col>&lt;chr&gt;</th><th scope=col>&lt;chr&gt;</th></tr>\n",
              "</thead>\n",
              "<tbody>\n",
              "\t<tr><td>Perú          </td><td> South America</td><td>1500</td><td>1'200 </td><td>500   </td><td>A </td></tr>\n",
              "\t<tr><td>USA           </td><td> North America</td><td>2500</td><td>1'300 </td><td>$1 500</td><td>A </td></tr>\n",
              "\t<tr><td>Canada        </td><td> North America</td><td>3500</td><td>--    </td><td>1.5   </td><td>Ba</td></tr>\n",
              "\t<tr><td>Côte D'Ivoire </td><td> Africa       </td><td>2500</td><td>      </td><td>_     </td><td>Ba</td></tr>\n",
              "\t<tr><td>Israel        </td><td> Asia         </td><td>Dk  </td><td>250k  </td><td>-     </td><td>? </td></tr>\n",
              "\t<tr><td>United Kingdom</td><td> Europe       </td><td>2550</td><td>310000</td><td>330   </td><td>Ba</td></tr>\n",
              "</tbody>\n",
              "</table>\n"
            ],
            "text/markdown": "\nA data.frame: 6 × 6\n\n| identification &lt;chr&gt; | identification2 &lt;chr&gt; | var1 &lt;chr&gt; | var2 &lt;chr&gt; | var3 &lt;chr&gt; | category &lt;chr&gt; |\n|---|---|---|---|---|---|\n| Perú           |  South America | 1500 | 1'200  | 500    | A  |\n| USA            |  North America | 2500 | 1'300  | $1 500 | A  |\n| Canada         |  North America | 3500 | --     | 1.5    | Ba |\n| Côte D'Ivoire  |  Africa        | 2500 | <!----> | _      | Ba |\n| Israel         |  Asia          | Dk   | 250k   | -      | ?  |\n| United Kingdom |  Europe        | 2550 | 310000 | 330    | Ba |\n\n",
            "text/latex": "A data.frame: 6 × 6\n\\begin{tabular}{llllll}\n identification & identification2 & var1 & var2 & var3 & category\\\\\n <chr> & <chr> & <chr> & <chr> & <chr> & <chr>\\\\\n\\hline\n\t Perú           &  South America & 1500 & 1'200  & 500    & A \\\\\n\t USA            &  North America & 2500 & 1'300  & \\$1 500 & A \\\\\n\t Canada         &  North America & 3500 & --     & 1.5    & Ba\\\\\n\t Côte D'Ivoire  &  Africa        & 2500 &        & \\_      & Ba\\\\\n\t Israel         &  Asia          & Dk   & 250k   & -      & ? \\\\\n\t United Kingdom &  Europe        & 2550 & 310000 & 330    & Ba\\\\\n\\end{tabular}\n",
            "text/plain": [
              "  identification identification2 var1 var2   var3   category\n",
              "1 Perú            South America  1500 1'200  500    A       \n",
              "2 USA             North America  2500 1'300  $1 500 A       \n",
              "3 Canada          North America  3500 --     1.5    Ba      \n",
              "4 Côte D'Ivoire   Africa         2500        _      Ba      \n",
              "5 Israel          Asia           Dk   250k   -      ?       \n",
              "6 United Kingdom  Europe         2550 310000 330    Ba      "
            ]
          },
          "metadata": {}
        }
      ]
    },
    {
      "cell_type": "markdown",
      "source": [
        "The **var2** is more complicated."
      ],
      "metadata": {
        "id": "oIipm3TVqX1G"
      }
    },
    {
      "cell_type": "code",
      "source": [
        "# save where you have the issue\n",
        "dirty$var2_temp=grepl(\"\\\\'|k\",dirty$var2,fixed=F)\n",
        "dirty"
      ],
      "metadata": {
        "id": "6Tkgr57Hp9Nw",
        "colab": {
          "base_uri": "https://localhost:8080/",
          "height": 286
        },
        "outputId": "bb4fafc9-7bc9-466f-d029-a0793fae7563"
      },
      "execution_count": 42,
      "outputs": [
        {
          "output_type": "display_data",
          "data": {
            "text/html": [
              "<table class=\"dataframe\">\n",
              "<caption>A data.frame: 6 × 7</caption>\n",
              "<thead>\n",
              "\t<tr><th scope=col>identification</th><th scope=col>identification2</th><th scope=col>var1</th><th scope=col>var2</th><th scope=col>var3</th><th scope=col>category</th><th scope=col>var2_temp</th></tr>\n",
              "\t<tr><th scope=col>&lt;chr&gt;</th><th scope=col>&lt;chr&gt;</th><th scope=col>&lt;chr&gt;</th><th scope=col>&lt;chr&gt;</th><th scope=col>&lt;chr&gt;</th><th scope=col>&lt;chr&gt;</th><th scope=col>&lt;lgl&gt;</th></tr>\n",
              "</thead>\n",
              "<tbody>\n",
              "\t<tr><td>Perú          </td><td> South America</td><td>1500</td><td>1'200 </td><td>500   </td><td>A </td><td> TRUE</td></tr>\n",
              "\t<tr><td>USA           </td><td> North America</td><td>2500</td><td>1'300 </td><td>$1 500</td><td>A </td><td> TRUE</td></tr>\n",
              "\t<tr><td>Canada        </td><td> North America</td><td>3500</td><td>--    </td><td>1.5   </td><td>Ba</td><td>FALSE</td></tr>\n",
              "\t<tr><td>Côte D'Ivoire </td><td> Africa       </td><td>2500</td><td>      </td><td>_     </td><td>Ba</td><td>FALSE</td></tr>\n",
              "\t<tr><td>Israel        </td><td> Asia         </td><td>Dk  </td><td>250k  </td><td>-     </td><td>? </td><td> TRUE</td></tr>\n",
              "\t<tr><td>United Kingdom</td><td> Europe       </td><td>2550</td><td>310000</td><td>330   </td><td>Ba</td><td>FALSE</td></tr>\n",
              "</tbody>\n",
              "</table>\n"
            ],
            "text/markdown": "\nA data.frame: 6 × 7\n\n| identification &lt;chr&gt; | identification2 &lt;chr&gt; | var1 &lt;chr&gt; | var2 &lt;chr&gt; | var3 &lt;chr&gt; | category &lt;chr&gt; | var2_temp &lt;lgl&gt; |\n|---|---|---|---|---|---|---|\n| Perú           |  South America | 1500 | 1'200  | 500    | A  |  TRUE |\n| USA            |  North America | 2500 | 1'300  | $1 500 | A  |  TRUE |\n| Canada         |  North America | 3500 | --     | 1.5    | Ba | FALSE |\n| Côte D'Ivoire  |  Africa        | 2500 | <!----> | _      | Ba | FALSE |\n| Israel         |  Asia          | Dk   | 250k   | -      | ?  |  TRUE |\n| United Kingdom |  Europe        | 2550 | 310000 | 330    | Ba | FALSE |\n\n",
            "text/latex": "A data.frame: 6 × 7\n\\begin{tabular}{lllllll}\n identification & identification2 & var1 & var2 & var3 & category & var2\\_temp\\\\\n <chr> & <chr> & <chr> & <chr> & <chr> & <chr> & <lgl>\\\\\n\\hline\n\t Perú           &  South America & 1500 & 1'200  & 500    & A  &  TRUE\\\\\n\t USA            &  North America & 2500 & 1'300  & \\$1 500 & A  &  TRUE\\\\\n\t Canada         &  North America & 3500 & --     & 1.5    & Ba & FALSE\\\\\n\t Côte D'Ivoire  &  Africa        & 2500 &        & \\_      & Ba & FALSE\\\\\n\t Israel         &  Asia          & Dk   & 250k   & -      & ?  &  TRUE\\\\\n\t United Kingdom &  Europe        & 2550 & 310000 & 330    & Ba & FALSE\\\\\n\\end{tabular}\n",
            "text/plain": [
              "  identification identification2 var1 var2   var3   category var2_temp\n",
              "1 Perú            South America  1500 1'200  500    A         TRUE    \n",
              "2 USA             North America  2500 1'300  $1 500 A         TRUE    \n",
              "3 Canada          North America  3500 --     1.5    Ba       FALSE    \n",
              "4 Côte D'Ivoire   Africa         2500        _      Ba       FALSE    \n",
              "5 Israel          Asia           Dk   250k   -      ?         TRUE    \n",
              "6 United Kingdom  Europe         2550 310000 330    Ba       FALSE    "
            ]
          },
          "metadata": {}
        }
      ]
    },
    {
      "cell_type": "code",
      "source": [
        "## now replace\n",
        "dirty$var2=gsub(\"\\\\'|k\",'',dirty$var2)\n",
        "dirty"
      ],
      "metadata": {
        "id": "SWrmthe9pdRB",
        "colab": {
          "base_uri": "https://localhost:8080/",
          "height": 286
        },
        "outputId": "5ddb1255-044b-4117-a0c2-24a979bf12b4"
      },
      "execution_count": 43,
      "outputs": [
        {
          "output_type": "display_data",
          "data": {
            "text/html": [
              "<table class=\"dataframe\">\n",
              "<caption>A data.frame: 6 × 7</caption>\n",
              "<thead>\n",
              "\t<tr><th scope=col>identification</th><th scope=col>identification2</th><th scope=col>var1</th><th scope=col>var2</th><th scope=col>var3</th><th scope=col>category</th><th scope=col>var2_temp</th></tr>\n",
              "\t<tr><th scope=col>&lt;chr&gt;</th><th scope=col>&lt;chr&gt;</th><th scope=col>&lt;chr&gt;</th><th scope=col>&lt;chr&gt;</th><th scope=col>&lt;chr&gt;</th><th scope=col>&lt;chr&gt;</th><th scope=col>&lt;lgl&gt;</th></tr>\n",
              "</thead>\n",
              "<tbody>\n",
              "\t<tr><td>Perú          </td><td> South America</td><td>1500</td><td>1200  </td><td>500   </td><td>A </td><td> TRUE</td></tr>\n",
              "\t<tr><td>USA           </td><td> North America</td><td>2500</td><td>1300  </td><td>$1 500</td><td>A </td><td> TRUE</td></tr>\n",
              "\t<tr><td>Canada        </td><td> North America</td><td>3500</td><td>--    </td><td>1.5   </td><td>Ba</td><td>FALSE</td></tr>\n",
              "\t<tr><td>Côte D'Ivoire </td><td> Africa       </td><td>2500</td><td>      </td><td>_     </td><td>Ba</td><td>FALSE</td></tr>\n",
              "\t<tr><td>Israel        </td><td> Asia         </td><td>Dk  </td><td>250   </td><td>-     </td><td>? </td><td> TRUE</td></tr>\n",
              "\t<tr><td>United Kingdom</td><td> Europe       </td><td>2550</td><td>310000</td><td>330   </td><td>Ba</td><td>FALSE</td></tr>\n",
              "</tbody>\n",
              "</table>\n"
            ],
            "text/markdown": "\nA data.frame: 6 × 7\n\n| identification &lt;chr&gt; | identification2 &lt;chr&gt; | var1 &lt;chr&gt; | var2 &lt;chr&gt; | var3 &lt;chr&gt; | category &lt;chr&gt; | var2_temp &lt;lgl&gt; |\n|---|---|---|---|---|---|---|\n| Perú           |  South America | 1500 | 1200   | 500    | A  |  TRUE |\n| USA            |  North America | 2500 | 1300   | $1 500 | A  |  TRUE |\n| Canada         |  North America | 3500 | --     | 1.5    | Ba | FALSE |\n| Côte D'Ivoire  |  Africa        | 2500 | <!----> | _      | Ba | FALSE |\n| Israel         |  Asia          | Dk   | 250    | -      | ?  |  TRUE |\n| United Kingdom |  Europe        | 2550 | 310000 | 330    | Ba | FALSE |\n\n",
            "text/latex": "A data.frame: 6 × 7\n\\begin{tabular}{lllllll}\n identification & identification2 & var1 & var2 & var3 & category & var2\\_temp\\\\\n <chr> & <chr> & <chr> & <chr> & <chr> & <chr> & <lgl>\\\\\n\\hline\n\t Perú           &  South America & 1500 & 1200   & 500    & A  &  TRUE\\\\\n\t USA            &  North America & 2500 & 1300   & \\$1 500 & A  &  TRUE\\\\\n\t Canada         &  North America & 3500 & --     & 1.5    & Ba & FALSE\\\\\n\t Côte D'Ivoire  &  Africa        & 2500 &        & \\_      & Ba & FALSE\\\\\n\t Israel         &  Asia          & Dk   & 250    & -      & ?  &  TRUE\\\\\n\t United Kingdom &  Europe        & 2550 & 310000 & 330    & Ba & FALSE\\\\\n\\end{tabular}\n",
            "text/plain": [
              "  identification identification2 var1 var2   var3   category var2_temp\n",
              "1 Perú            South America  1500 1200   500    A         TRUE    \n",
              "2 USA             North America  2500 1300   $1 500 A         TRUE    \n",
              "3 Canada          North America  3500 --     1.5    Ba       FALSE    \n",
              "4 Côte D'Ivoire   Africa         2500        _      Ba       FALSE    \n",
              "5 Israel          Asia           Dk   250    -      ?         TRUE    \n",
              "6 United Kingdom  Europe         2550 310000 330    Ba       FALSE    "
            ]
          },
          "metadata": {}
        }
      ]
    },
    {
      "cell_type": "code",
      "source": [
        "# now the real value\n",
        "ifelse(dirty$var2_temp,paste0(dirty$var2,'000'),dirty$var2)"
      ],
      "metadata": {
        "id": "4oYE45wUrAE_",
        "colab": {
          "base_uri": "https://localhost:8080/",
          "height": 34
        },
        "outputId": "904715d6-b1d0-4360-e898-eb7d03bf0d9c"
      },
      "execution_count": 44,
      "outputs": [
        {
          "output_type": "display_data",
          "data": {
            "text/html": [
              "<style>\n",
              ".list-inline {list-style: none; margin:0; padding: 0}\n",
              ".list-inline>li {display: inline-block}\n",
              ".list-inline>li:not(:last-child)::after {content: \"\\00b7\"; padding: 0 .5ex}\n",
              "</style>\n",
              "<ol class=list-inline><li>'1200000'</li><li>'1300000'</li><li>'--'</li><li>''</li><li>'250000'</li><li>'310000'</li></ol>\n"
            ],
            "text/markdown": "1. '1200000'\n2. '1300000'\n3. '--'\n4. ''\n5. '250000'\n6. '310000'\n\n\n",
            "text/latex": "\\begin{enumerate*}\n\\item '1200000'\n\\item '1300000'\n\\item '--'\n\\item ''\n\\item '250000'\n\\item '310000'\n\\end{enumerate*}\n",
            "text/plain": [
              "[1] \"1200000\" \"1300000\" \"--\"      \"\"        \"250000\"  \"310000\" "
            ]
          },
          "metadata": {}
        }
      ]
    },
    {
      "cell_type": "code",
      "source": [
        "# then\n",
        "dirty$var2=ifelse(dirty$var2_temp,paste0(dirty$var2,'000'),dirty$var2)\n",
        "dirty$var2_temp=NULL\n",
        "dirty"
      ],
      "metadata": {
        "id": "BvTllTaxrbDS",
        "colab": {
          "base_uri": "https://localhost:8080/",
          "height": 286
        },
        "outputId": "6bfb17b0-a3e6-46bb-f80a-02011dac1f87"
      },
      "execution_count": 45,
      "outputs": [
        {
          "output_type": "display_data",
          "data": {
            "text/html": [
              "<table class=\"dataframe\">\n",
              "<caption>A data.frame: 6 × 6</caption>\n",
              "<thead>\n",
              "\t<tr><th scope=col>identification</th><th scope=col>identification2</th><th scope=col>var1</th><th scope=col>var2</th><th scope=col>var3</th><th scope=col>category</th></tr>\n",
              "\t<tr><th scope=col>&lt;chr&gt;</th><th scope=col>&lt;chr&gt;</th><th scope=col>&lt;chr&gt;</th><th scope=col>&lt;chr&gt;</th><th scope=col>&lt;chr&gt;</th><th scope=col>&lt;chr&gt;</th></tr>\n",
              "</thead>\n",
              "<tbody>\n",
              "\t<tr><td>Perú          </td><td> South America</td><td>1500</td><td>1200000</td><td>500   </td><td>A </td></tr>\n",
              "\t<tr><td>USA           </td><td> North America</td><td>2500</td><td>1300000</td><td>$1 500</td><td>A </td></tr>\n",
              "\t<tr><td>Canada        </td><td> North America</td><td>3500</td><td>--     </td><td>1.5   </td><td>Ba</td></tr>\n",
              "\t<tr><td>Côte D'Ivoire </td><td> Africa       </td><td>2500</td><td>       </td><td>_     </td><td>Ba</td></tr>\n",
              "\t<tr><td>Israel        </td><td> Asia         </td><td>Dk  </td><td>250000 </td><td>-     </td><td>? </td></tr>\n",
              "\t<tr><td>United Kingdom</td><td> Europe       </td><td>2550</td><td>310000 </td><td>330   </td><td>Ba</td></tr>\n",
              "</tbody>\n",
              "</table>\n"
            ],
            "text/markdown": "\nA data.frame: 6 × 6\n\n| identification &lt;chr&gt; | identification2 &lt;chr&gt; | var1 &lt;chr&gt; | var2 &lt;chr&gt; | var3 &lt;chr&gt; | category &lt;chr&gt; |\n|---|---|---|---|---|---|\n| Perú           |  South America | 1500 | 1200000 | 500    | A  |\n| USA            |  North America | 2500 | 1300000 | $1 500 | A  |\n| Canada         |  North America | 3500 | --      | 1.5    | Ba |\n| Côte D'Ivoire  |  Africa        | 2500 | <!----> | _      | Ba |\n| Israel         |  Asia          | Dk   | 250000  | -      | ?  |\n| United Kingdom |  Europe        | 2550 | 310000  | 330    | Ba |\n\n",
            "text/latex": "A data.frame: 6 × 6\n\\begin{tabular}{llllll}\n identification & identification2 & var1 & var2 & var3 & category\\\\\n <chr> & <chr> & <chr> & <chr> & <chr> & <chr>\\\\\n\\hline\n\t Perú           &  South America & 1500 & 1200000 & 500    & A \\\\\n\t USA            &  North America & 2500 & 1300000 & \\$1 500 & A \\\\\n\t Canada         &  North America & 3500 & --      & 1.5    & Ba\\\\\n\t Côte D'Ivoire  &  Africa        & 2500 &         & \\_      & Ba\\\\\n\t Israel         &  Asia          & Dk   & 250000  & -      & ? \\\\\n\t United Kingdom &  Europe        & 2550 & 310000  & 330    & Ba\\\\\n\\end{tabular}\n",
            "text/plain": [
              "  identification identification2 var1 var2    var3   category\n",
              "1 Perú            South America  1500 1200000 500    A       \n",
              "2 USA             North America  2500 1300000 $1 500 A       \n",
              "3 Canada          North America  3500 --      1.5    Ba      \n",
              "4 Côte D'Ivoire   Africa         2500         _      Ba      \n",
              "5 Israel          Asia           Dk   250000  -      ?       \n",
              "6 United Kingdom  Europe         2550 310000  330    Ba      "
            ]
          },
          "metadata": {}
        }
      ]
    },
    {
      "cell_type": "markdown",
      "source": [
        "The **var3** can be solved like this:"
      ],
      "metadata": {
        "id": "5umWO2Ffsqa_"
      }
    },
    {
      "cell_type": "code",
      "source": [
        "dirty['var3']=gsub(\"\\\\$|\\\\s\",'',dirty$var3)\n",
        "dirty"
      ],
      "metadata": {
        "id": "jqPoWWBSsXJf",
        "colab": {
          "base_uri": "https://localhost:8080/",
          "height": 286
        },
        "outputId": "6256a3f6-d145-46e1-b999-ff6679d266d2"
      },
      "execution_count": 46,
      "outputs": [
        {
          "output_type": "display_data",
          "data": {
            "text/html": [
              "<table class=\"dataframe\">\n",
              "<caption>A data.frame: 6 × 6</caption>\n",
              "<thead>\n",
              "\t<tr><th scope=col>identification</th><th scope=col>identification2</th><th scope=col>var1</th><th scope=col>var2</th><th scope=col>var3</th><th scope=col>category</th></tr>\n",
              "\t<tr><th scope=col>&lt;chr&gt;</th><th scope=col>&lt;chr&gt;</th><th scope=col>&lt;chr&gt;</th><th scope=col>&lt;chr&gt;</th><th scope=col>&lt;chr&gt;</th><th scope=col>&lt;chr&gt;</th></tr>\n",
              "</thead>\n",
              "<tbody>\n",
              "\t<tr><td>Perú          </td><td> South America</td><td>1500</td><td>1200000</td><td>500 </td><td>A </td></tr>\n",
              "\t<tr><td>USA           </td><td> North America</td><td>2500</td><td>1300000</td><td>1500</td><td>A </td></tr>\n",
              "\t<tr><td>Canada        </td><td> North America</td><td>3500</td><td>--     </td><td>1.5 </td><td>Ba</td></tr>\n",
              "\t<tr><td>Côte D'Ivoire </td><td> Africa       </td><td>2500</td><td>       </td><td>_   </td><td>Ba</td></tr>\n",
              "\t<tr><td>Israel        </td><td> Asia         </td><td>Dk  </td><td>250000 </td><td>-   </td><td>? </td></tr>\n",
              "\t<tr><td>United Kingdom</td><td> Europe       </td><td>2550</td><td>310000 </td><td>330 </td><td>Ba</td></tr>\n",
              "</tbody>\n",
              "</table>\n"
            ],
            "text/markdown": "\nA data.frame: 6 × 6\n\n| identification &lt;chr&gt; | identification2 &lt;chr&gt; | var1 &lt;chr&gt; | var2 &lt;chr&gt; | var3 &lt;chr&gt; | category &lt;chr&gt; |\n|---|---|---|---|---|---|\n| Perú           |  South America | 1500 | 1200000 | 500  | A  |\n| USA            |  North America | 2500 | 1300000 | 1500 | A  |\n| Canada         |  North America | 3500 | --      | 1.5  | Ba |\n| Côte D'Ivoire  |  Africa        | 2500 | <!----> | _    | Ba |\n| Israel         |  Asia          | Dk   | 250000  | -    | ?  |\n| United Kingdom |  Europe        | 2550 | 310000  | 330  | Ba |\n\n",
            "text/latex": "A data.frame: 6 × 6\n\\begin{tabular}{llllll}\n identification & identification2 & var1 & var2 & var3 & category\\\\\n <chr> & <chr> & <chr> & <chr> & <chr> & <chr>\\\\\n\\hline\n\t Perú           &  South America & 1500 & 1200000 & 500  & A \\\\\n\t USA            &  North America & 2500 & 1300000 & 1500 & A \\\\\n\t Canada         &  North America & 3500 & --      & 1.5  & Ba\\\\\n\t Côte D'Ivoire  &  Africa        & 2500 &         & \\_    & Ba\\\\\n\t Israel         &  Asia          & Dk   & 250000  & -    & ? \\\\\n\t United Kingdom &  Europe        & 2550 & 310000  & 330  & Ba\\\\\n\\end{tabular}\n",
            "text/plain": [
              "  identification identification2 var1 var2    var3 category\n",
              "1 Perú            South America  1500 1200000 500  A       \n",
              "2 USA             North America  2500 1300000 1500 A       \n",
              "3 Canada          North America  3500 --      1.5  Ba      \n",
              "4 Côte D'Ivoire   Africa         2500         _    Ba      \n",
              "5 Israel          Asia           Dk   250000  -    ?       \n",
              "6 United Kingdom  Europe         2550 310000  330  Ba      "
            ]
          },
          "metadata": {}
        }
      ]
    },
    {
      "cell_type": "markdown",
      "source": [
        "### Detecting missing values:\n",
        "\n",
        "\n",
        "Wrong missing values representation should be replace with care. Do it according to the data type.\n",
        "\n",
        "Then, let's start with the **categorical** column:"
      ],
      "metadata": {
        "id": "_62chrRs3Pc_"
      }
    },
    {
      "cell_type": "code",
      "source": [
        "badSymbolCat=grep('\\\\W+',dirty$category,value = T)\n",
        "badSymbolCat"
      ],
      "metadata": {
        "id": "4IsFiRwAsy3E",
        "colab": {
          "base_uri": "https://localhost:8080/",
          "height": 34
        },
        "outputId": "c235a9e7-357b-4ef1-f649-961b6295483a"
      },
      "execution_count": 47,
      "outputs": [
        {
          "output_type": "display_data",
          "data": {
            "text/html": [
              "'?'"
            ],
            "text/markdown": "'?'",
            "text/latex": "'?'",
            "text/plain": [
              "[1] \"?\""
            ]
          },
          "metadata": {}
        }
      ]
    },
    {
      "cell_type": "markdown",
      "source": [
        "Once found:"
      ],
      "metadata": {
        "id": "7UoB_zvf6xbP"
      }
    },
    {
      "cell_type": "code",
      "source": [
        "dirty$category=gsub(badSymbolCat,NA,dirty$category,fixed = T)\n",
        "dirty"
      ],
      "metadata": {
        "id": "c9QHCqGX6zqO",
        "colab": {
          "base_uri": "https://localhost:8080/",
          "height": 286
        },
        "outputId": "8d22a351-83ae-45d0-d3f6-900181fc0db7"
      },
      "execution_count": 48,
      "outputs": [
        {
          "output_type": "display_data",
          "data": {
            "text/html": [
              "<table class=\"dataframe\">\n",
              "<caption>A data.frame: 6 × 6</caption>\n",
              "<thead>\n",
              "\t<tr><th scope=col>identification</th><th scope=col>identification2</th><th scope=col>var1</th><th scope=col>var2</th><th scope=col>var3</th><th scope=col>category</th></tr>\n",
              "\t<tr><th scope=col>&lt;chr&gt;</th><th scope=col>&lt;chr&gt;</th><th scope=col>&lt;chr&gt;</th><th scope=col>&lt;chr&gt;</th><th scope=col>&lt;chr&gt;</th><th scope=col>&lt;chr&gt;</th></tr>\n",
              "</thead>\n",
              "<tbody>\n",
              "\t<tr><td>Perú          </td><td> South America</td><td>1500</td><td>1200000</td><td>500 </td><td>A </td></tr>\n",
              "\t<tr><td>USA           </td><td> North America</td><td>2500</td><td>1300000</td><td>1500</td><td>A </td></tr>\n",
              "\t<tr><td>Canada        </td><td> North America</td><td>3500</td><td>--     </td><td>1.5 </td><td>Ba</td></tr>\n",
              "\t<tr><td>Côte D'Ivoire </td><td> Africa       </td><td>2500</td><td>       </td><td>_   </td><td>Ba</td></tr>\n",
              "\t<tr><td>Israel        </td><td> Asia         </td><td>Dk  </td><td>250000 </td><td>-   </td><td>NA</td></tr>\n",
              "\t<tr><td>United Kingdom</td><td> Europe       </td><td>2550</td><td>310000 </td><td>330 </td><td>Ba</td></tr>\n",
              "</tbody>\n",
              "</table>\n"
            ],
            "text/markdown": "\nA data.frame: 6 × 6\n\n| identification &lt;chr&gt; | identification2 &lt;chr&gt; | var1 &lt;chr&gt; | var2 &lt;chr&gt; | var3 &lt;chr&gt; | category &lt;chr&gt; |\n|---|---|---|---|---|---|\n| Perú           |  South America | 1500 | 1200000 | 500  | A  |\n| USA            |  North America | 2500 | 1300000 | 1500 | A  |\n| Canada         |  North America | 3500 | --      | 1.5  | Ba |\n| Côte D'Ivoire  |  Africa        | 2500 | <!----> | _    | Ba |\n| Israel         |  Asia          | Dk   | 250000  | -    | NA |\n| United Kingdom |  Europe        | 2550 | 310000  | 330  | Ba |\n\n",
            "text/latex": "A data.frame: 6 × 6\n\\begin{tabular}{llllll}\n identification & identification2 & var1 & var2 & var3 & category\\\\\n <chr> & <chr> & <chr> & <chr> & <chr> & <chr>\\\\\n\\hline\n\t Perú           &  South America & 1500 & 1200000 & 500  & A \\\\\n\t USA            &  North America & 2500 & 1300000 & 1500 & A \\\\\n\t Canada         &  North America & 3500 & --      & 1.5  & Ba\\\\\n\t Côte D'Ivoire  &  Africa        & 2500 &         & \\_    & Ba\\\\\n\t Israel         &  Asia          & Dk   & 250000  & -    & NA\\\\\n\t United Kingdom &  Europe        & 2550 & 310000  & 330  & Ba\\\\\n\\end{tabular}\n",
            "text/plain": [
              "  identification identification2 var1 var2    var3 category\n",
              "1 Perú            South America  1500 1200000 500  A       \n",
              "2 USA             North America  2500 1300000 1500 A       \n",
              "3 Canada          North America  3500 --      1.5  Ba      \n",
              "4 Côte D'Ivoire   Africa         2500         _    Ba      \n",
              "5 Israel          Asia           Dk   250000  -    NA      \n",
              "6 United Kingdom  Europe         2550 310000  330  Ba      "
            ]
          },
          "metadata": {}
        }
      ]
    },
    {
      "cell_type": "markdown",
      "source": [
        "Let's go for the **numerical** cases:"
      ],
      "metadata": {
        "id": "1C04RJnc7L7X"
      }
    },
    {
      "cell_type": "code",
      "source": [
        "dirty$var1[grep(\"[^\\\\d+\\\\.*\\\\d*]\",dirty$var1,perl = T)]"
      ],
      "metadata": {
        "id": "ChdHDwPX1wbE",
        "colab": {
          "base_uri": "https://localhost:8080/",
          "height": 34
        },
        "outputId": "28955f37-c3b6-4a03-d7ff-9b40eb77d8fe"
      },
      "execution_count": 49,
      "outputs": [
        {
          "output_type": "display_data",
          "data": {
            "text/html": [
              "'Dk'"
            ],
            "text/markdown": "'Dk'",
            "text/latex": "'Dk'",
            "text/plain": [
              "[1] \"Dk\""
            ]
          },
          "metadata": {}
        }
      ]
    },
    {
      "cell_type": "code",
      "source": [
        "dirty$var2[grep(\"[^\\\\d+\\\\.*\\\\d*]\",dirty$var2,perl = T)]"
      ],
      "metadata": {
        "id": "5Fgv5eCCQtgZ",
        "colab": {
          "base_uri": "https://localhost:8080/",
          "height": 34
        },
        "outputId": "bf5d4da2-bf17-453c-cffd-4d31b0c63452"
      },
      "execution_count": 50,
      "outputs": [
        {
          "output_type": "display_data",
          "data": {
            "text/html": [
              "'--'"
            ],
            "text/markdown": "'--'",
            "text/latex": "'--'",
            "text/plain": [
              "[1] \"--\""
            ]
          },
          "metadata": {}
        }
      ]
    },
    {
      "cell_type": "code",
      "source": [
        "dirty$var3[grep(\"[^\\\\d+\\\\.*\\\\d*]\", dirty$var3, perl=T,invert = F)]"
      ],
      "metadata": {
        "id": "1PC1cAvx2fsw",
        "colab": {
          "base_uri": "https://localhost:8080/",
          "height": 34
        },
        "outputId": "09a04676-361c-493a-db98-e47cc3e338f3"
      },
      "execution_count": 51,
      "outputs": [
        {
          "output_type": "display_data",
          "data": {
            "text/html": [
              "<style>\n",
              ".list-inline {list-style: none; margin:0; padding: 0}\n",
              ".list-inline>li {display: inline-block}\n",
              ".list-inline>li:not(:last-child)::after {content: \"\\00b7\"; padding: 0 .5ex}\n",
              "</style>\n",
              "<ol class=list-inline><li>'_'</li><li>'-'</li></ol>\n"
            ],
            "text/markdown": "1. '_'\n2. '-'\n\n\n",
            "text/latex": "\\begin{enumerate*}\n\\item '\\_'\n\\item '-'\n\\end{enumerate*}\n",
            "text/plain": [
              "[1] \"_\" \"-\""
            ]
          },
          "metadata": {}
        }
      ]
    },
    {
      "cell_type": "code",
      "source": [
        "sapply(dirty[, c('var1','var2','var3')], function(col){col[grep(\"[^\\\\d+\\\\.*\\\\d*]\", col, perl=T,invert = F)]})"
      ],
      "metadata": {
        "id": "vTSDc1F8tVZh",
        "colab": {
          "base_uri": "https://localhost:8080/",
          "height": 149
        },
        "outputId": "fd3a0cca-ae5e-4a64-8265-1c0ec43d491d"
      },
      "execution_count": 52,
      "outputs": [
        {
          "output_type": "display_data",
          "data": {
            "text/html": [
              "<dl>\n",
              "\t<dt>$var1</dt>\n",
              "\t\t<dd>'Dk'</dd>\n",
              "\t<dt>$var2</dt>\n",
              "\t\t<dd>'--'</dd>\n",
              "\t<dt>$var3</dt>\n",
              "\t\t<dd><style>\n",
              ".list-inline {list-style: none; margin:0; padding: 0}\n",
              ".list-inline>li {display: inline-block}\n",
              ".list-inline>li:not(:last-child)::after {content: \"\\00b7\"; padding: 0 .5ex}\n",
              "</style>\n",
              "<ol class=list-inline><li>'_'</li><li>'-'</li></ol>\n",
              "</dd>\n",
              "</dl>\n"
            ],
            "text/markdown": "$var1\n:   'Dk'\n$var2\n:   '--'\n$var3\n:   1. '_'\n2. '-'\n\n\n\n\n\n",
            "text/latex": "\\begin{description}\n\\item[\\$var1] 'Dk'\n\\item[\\$var2] '--'\n\\item[\\$var3] \\begin{enumerate*}\n\\item '\\_'\n\\item '-'\n\\end{enumerate*}\n\n\\end{description}\n",
            "text/plain": [
              "$var1\n",
              "[1] \"Dk\"\n",
              "\n",
              "$var2\n",
              "[1] \"--\"\n",
              "\n",
              "$var3\n",
              "[1] \"_\" \"-\"\n"
            ]
          },
          "metadata": {}
        }
      ]
    },
    {
      "cell_type": "code",
      "source": [
        "unlist(sapply(dirty[, c('var1','var2','var3')], function(col){col[grep(\"[^\\\\d+\\\\.*\\\\d*]\", col, perl=T,invert = F)]}))"
      ],
      "metadata": {
        "id": "tMXgcGddt2DX",
        "colab": {
          "base_uri": "https://localhost:8080/",
          "height": 34
        },
        "outputId": "cf7aa55f-5a26-4d3b-a27a-46dbe317288a"
      },
      "execution_count": 53,
      "outputs": [
        {
          "output_type": "display_data",
          "data": {
            "text/html": [
              "<style>\n",
              ".dl-inline {width: auto; margin:0; padding: 0}\n",
              ".dl-inline>dt, .dl-inline>dd {float: none; width: auto; display: inline-block}\n",
              ".dl-inline>dt::after {content: \":\\0020\"; padding-right: .5ex}\n",
              ".dl-inline>dt:not(:first-of-type) {padding-left: .5ex}\n",
              "</style><dl class=dl-inline><dt>var1</dt><dd>'Dk'</dd><dt>var2</dt><dd>'--'</dd><dt>var31</dt><dd>'_'</dd><dt>var32</dt><dd>'-'</dd></dl>\n"
            ],
            "text/markdown": "var1\n:   'Dk'var2\n:   '--'var31\n:   '_'var32\n:   '-'\n\n",
            "text/latex": "\\begin{description*}\n\\item[var1] 'Dk'\n\\item[var2] '--'\n\\item[var31] '\\_'\n\\item[var32] '-'\n\\end{description*}\n",
            "text/plain": [
              " var1  var2 var31 var32 \n",
              " \"Dk\"  \"--\"   \"_\"   \"-\" "
            ]
          },
          "metadata": {}
        }
      ]
    },
    {
      "cell_type": "code",
      "source": [
        "unique(unlist(sapply(dirty[, c('var1','var2','var3')], function(col){col[grep(\"[^\\\\d+\\\\.*\\\\d*]\", col, perl=T,invert = F)]})))"
      ],
      "metadata": {
        "id": "3KsiG0Yn3k2S",
        "colab": {
          "base_uri": "https://localhost:8080/",
          "height": 34
        },
        "outputId": "d410b4e8-eba4-408b-b935-147e2ca72f3c"
      },
      "execution_count": 54,
      "outputs": [
        {
          "output_type": "display_data",
          "data": {
            "text/html": [
              "<style>\n",
              ".list-inline {list-style: none; margin:0; padding: 0}\n",
              ".list-inline>li {display: inline-block}\n",
              ".list-inline>li:not(:last-child)::after {content: \"\\00b7\"; padding: 0 .5ex}\n",
              "</style>\n",
              "<ol class=list-inline><li>'Dk'</li><li>'--'</li><li>'_'</li><li>'-'</li></ol>\n"
            ],
            "text/markdown": "1. 'Dk'\n2. '--'\n3. '_'\n4. '-'\n\n\n",
            "text/latex": "\\begin{enumerate*}\n\\item 'Dk'\n\\item '--'\n\\item '\\_'\n\\item '-'\n\\end{enumerate*}\n",
            "text/plain": [
              "[1] \"Dk\" \"--\" \"_\"  \"-\" "
            ]
          },
          "metadata": {}
        }
      ]
    },
    {
      "cell_type": "markdown",
      "source": [
        "Let's improve readability:"
      ],
      "metadata": {
        "id": "IatCR1Gk4oa0"
      }
    },
    {
      "cell_type": "code",
      "source": [
        "detectWrongNA= function(col){col[grep(\"[^\\\\d+\\\\.*\\\\d*]\", col, perl=T,invert = F)]}\n",
        "badSymbolNum=sapply(dirty[, c('var1','var2','var3')],detectWrongNA)\n",
        "badSymbolNum_unlist=unlist(badSymbolNum)\n",
        "badSymbolNum_vector=unique(badSymbolNum_unlist)\n",
        "badSymbolNum_vector"
      ],
      "metadata": {
        "id": "5em1bv4h4j3W",
        "colab": {
          "base_uri": "https://localhost:8080/",
          "height": 34
        },
        "outputId": "78b22e7a-4675-4269-d27e-4a4df97631d4"
      },
      "execution_count": 55,
      "outputs": [
        {
          "output_type": "display_data",
          "data": {
            "text/html": [
              "<style>\n",
              ".list-inline {list-style: none; margin:0; padding: 0}\n",
              ".list-inline>li {display: inline-block}\n",
              ".list-inline>li:not(:last-child)::after {content: \"\\00b7\"; padding: 0 .5ex}\n",
              "</style>\n",
              "<ol class=list-inline><li>'Dk'</li><li>'--'</li><li>'_'</li><li>'-'</li></ol>\n"
            ],
            "text/markdown": "1. 'Dk'\n2. '--'\n3. '_'\n4. '-'\n\n\n",
            "text/latex": "\\begin{enumerate*}\n\\item 'Dk'\n\\item '--'\n\\item '\\_'\n\\item '-'\n\\end{enumerate*}\n",
            "text/plain": [
              "[1] \"Dk\" \"--\" \"_\"  \"-\" "
            ]
          },
          "metadata": {}
        }
      ]
    },
    {
      "cell_type": "markdown",
      "source": [
        "Let's clean those columns:"
      ],
      "metadata": {
        "id": "0-5BEdm58nzG"
      }
    },
    {
      "cell_type": "code",
      "source": [
        "\n",
        "\n",
        "dirty[, c('var1','var2','var3')]=lapply(dirty[, c('var1','var2','var3')],function(col) ifelse((col %in% badSymbolNum_vector), NA, col))\n",
        "\n",
        "dirty\n"
      ],
      "metadata": {
        "id": "Sl9Mv_N85BsC",
        "colab": {
          "base_uri": "https://localhost:8080/",
          "height": 286
        },
        "outputId": "41bdbb21-cf55-498f-ae61-9166b25293be"
      },
      "execution_count": 56,
      "outputs": [
        {
          "output_type": "display_data",
          "data": {
            "text/html": [
              "<table class=\"dataframe\">\n",
              "<caption>A data.frame: 6 × 6</caption>\n",
              "<thead>\n",
              "\t<tr><th scope=col>identification</th><th scope=col>identification2</th><th scope=col>var1</th><th scope=col>var2</th><th scope=col>var3</th><th scope=col>category</th></tr>\n",
              "\t<tr><th scope=col>&lt;chr&gt;</th><th scope=col>&lt;chr&gt;</th><th scope=col>&lt;chr&gt;</th><th scope=col>&lt;chr&gt;</th><th scope=col>&lt;chr&gt;</th><th scope=col>&lt;chr&gt;</th></tr>\n",
              "</thead>\n",
              "<tbody>\n",
              "\t<tr><td>Perú          </td><td> South America</td><td>1500</td><td>1200000</td><td>500 </td><td>A </td></tr>\n",
              "\t<tr><td>USA           </td><td> North America</td><td>2500</td><td>1300000</td><td>1500</td><td>A </td></tr>\n",
              "\t<tr><td>Canada        </td><td> North America</td><td>3500</td><td>NA     </td><td>1.5 </td><td>Ba</td></tr>\n",
              "\t<tr><td>Côte D'Ivoire </td><td> Africa       </td><td>2500</td><td>       </td><td>NA  </td><td>Ba</td></tr>\n",
              "\t<tr><td>Israel        </td><td> Asia         </td><td>NA  </td><td>250000 </td><td>NA  </td><td>NA</td></tr>\n",
              "\t<tr><td>United Kingdom</td><td> Europe       </td><td>2550</td><td>310000 </td><td>330 </td><td>Ba</td></tr>\n",
              "</tbody>\n",
              "</table>\n"
            ],
            "text/markdown": "\nA data.frame: 6 × 6\n\n| identification &lt;chr&gt; | identification2 &lt;chr&gt; | var1 &lt;chr&gt; | var2 &lt;chr&gt; | var3 &lt;chr&gt; | category &lt;chr&gt; |\n|---|---|---|---|---|---|\n| Perú           |  South America | 1500 | 1200000 | 500  | A  |\n| USA            |  North America | 2500 | 1300000 | 1500 | A  |\n| Canada         |  North America | 3500 | NA      | 1.5  | Ba |\n| Côte D'Ivoire  |  Africa        | 2500 | <!----> | NA   | Ba |\n| Israel         |  Asia          | NA   | 250000  | NA   | NA |\n| United Kingdom |  Europe        | 2550 | 310000  | 330  | Ba |\n\n",
            "text/latex": "A data.frame: 6 × 6\n\\begin{tabular}{llllll}\n identification & identification2 & var1 & var2 & var3 & category\\\\\n <chr> & <chr> & <chr> & <chr> & <chr> & <chr>\\\\\n\\hline\n\t Perú           &  South America & 1500 & 1200000 & 500  & A \\\\\n\t USA            &  North America & 2500 & 1300000 & 1500 & A \\\\\n\t Canada         &  North America & 3500 & NA      & 1.5  & Ba\\\\\n\t Côte D'Ivoire  &  Africa        & 2500 &         & NA   & Ba\\\\\n\t Israel         &  Asia          & NA   & 250000  & NA   & NA\\\\\n\t United Kingdom &  Europe        & 2550 & 310000  & 330  & Ba\\\\\n\\end{tabular}\n",
            "text/plain": [
              "  identification identification2 var1 var2    var3 category\n",
              "1 Perú            South America  1500 1200000 500  A       \n",
              "2 USA             North America  2500 1300000 1500 A       \n",
              "3 Canada          North America  3500 NA      1.5  Ba      \n",
              "4 Côte D'Ivoire   Africa         2500         NA   Ba      \n",
              "5 Israel          Asia           NA   250000  NA   NA      \n",
              "6 United Kingdom  Europe         2550 310000  330  Ba      "
            ]
          },
          "metadata": {}
        }
      ]
    },
    {
      "cell_type": "code",
      "source": [
        "str(dirty)"
      ],
      "metadata": {
        "id": "W7BfGcVW9FY1",
        "colab": {
          "base_uri": "https://localhost:8080/"
        },
        "outputId": "8811576b-8f4b-4ca3-94e4-8029a0e87d33"
      },
      "execution_count": 57,
      "outputs": [
        {
          "output_type": "stream",
          "name": "stdout",
          "text": [
            "'data.frame':\t6 obs. of  6 variables:\n",
            " $ identification : chr  \"Perú\" \"USA\" \"Canada\" \"Côte D'Ivoire\" ...\n",
            " $ identification2: chr  \" South America\" \" North America\" \" North America\" \" Africa\" ...\n",
            " $ var1           : chr  \"1500\" \"2500\" \"3500\" \"2500\" ...\n",
            " $ var2           : chr  \"1200000\" \"1300000\" NA \"\" ...\n",
            " $ var3           : chr  \"500\" \"1500\" \"1.5\" NA ...\n",
            " $ category       : chr  \"A\" \"A\" \"Ba\" \"Ba\" ...\n"
          ]
        }
      ]
    },
    {
      "cell_type": "markdown",
      "source": [
        "Always be preventive with meading and trailing spaces!"
      ],
      "metadata": {
        "id": "bo2y1wJv9bT1"
      }
    },
    {
      "cell_type": "code",
      "source": [
        "dirty[,]=sapply(dirty[,],trimws)\n",
        "nowClean=dirty[,]\n",
        "str(nowClean)"
      ],
      "metadata": {
        "id": "mnlQwq6k9MTQ",
        "colab": {
          "base_uri": "https://localhost:8080/"
        },
        "outputId": "f9040ab0-8f13-4692-e465-e2aa30b2c22e"
      },
      "execution_count": 58,
      "outputs": [
        {
          "output_type": "stream",
          "name": "stdout",
          "text": [
            "'data.frame':\t6 obs. of  6 variables:\n",
            " $ identification : chr  \"Perú\" \"USA\" \"Canada\" \"Côte D'Ivoire\" ...\n",
            " $ identification2: chr  \"South America\" \"North America\" \"North America\" \"Africa\" ...\n",
            " $ var1           : chr  \"1500\" \"2500\" \"3500\" \"2500\" ...\n",
            " $ var2           : chr  \"1200000\" \"1300000\" NA \"\" ...\n",
            " $ var3           : chr  \"500\" \"1500\" \"1.5\" NA ...\n",
            " $ category       : chr  \"A\" \"A\" \"Ba\" \"Ba\" ...\n"
          ]
        }
      ]
    },
    {
      "cell_type": "code",
      "source": [
        "nowClean"
      ],
      "metadata": {
        "colab": {
          "base_uri": "https://localhost:8080/",
          "height": 286
        },
        "id": "ZeoBfZOfeJCl",
        "outputId": "4d31407e-6232-43f3-c2fe-7fb4a89ff778"
      },
      "execution_count": 59,
      "outputs": [
        {
          "output_type": "display_data",
          "data": {
            "text/html": [
              "<table class=\"dataframe\">\n",
              "<caption>A data.frame: 6 × 6</caption>\n",
              "<thead>\n",
              "\t<tr><th scope=col>identification</th><th scope=col>identification2</th><th scope=col>var1</th><th scope=col>var2</th><th scope=col>var3</th><th scope=col>category</th></tr>\n",
              "\t<tr><th scope=col>&lt;chr&gt;</th><th scope=col>&lt;chr&gt;</th><th scope=col>&lt;chr&gt;</th><th scope=col>&lt;chr&gt;</th><th scope=col>&lt;chr&gt;</th><th scope=col>&lt;chr&gt;</th></tr>\n",
              "</thead>\n",
              "<tbody>\n",
              "\t<tr><td>Perú          </td><td>South America</td><td>1500</td><td>1200000</td><td>500 </td><td>A </td></tr>\n",
              "\t<tr><td>USA           </td><td>North America</td><td>2500</td><td>1300000</td><td>1500</td><td>A </td></tr>\n",
              "\t<tr><td>Canada        </td><td>North America</td><td>3500</td><td>NA     </td><td>1.5 </td><td>Ba</td></tr>\n",
              "\t<tr><td>Côte D'Ivoire </td><td>Africa       </td><td>2500</td><td>       </td><td>NA  </td><td>Ba</td></tr>\n",
              "\t<tr><td>Israel        </td><td>Asia         </td><td>NA  </td><td>250000 </td><td>NA  </td><td>NA</td></tr>\n",
              "\t<tr><td>United Kingdom</td><td>Europe       </td><td>2550</td><td>310000 </td><td>330 </td><td>Ba</td></tr>\n",
              "</tbody>\n",
              "</table>\n"
            ],
            "text/markdown": "\nA data.frame: 6 × 6\n\n| identification &lt;chr&gt; | identification2 &lt;chr&gt; | var1 &lt;chr&gt; | var2 &lt;chr&gt; | var3 &lt;chr&gt; | category &lt;chr&gt; |\n|---|---|---|---|---|---|\n| Perú           | South America | 1500 | 1200000 | 500  | A  |\n| USA            | North America | 2500 | 1300000 | 1500 | A  |\n| Canada         | North America | 3500 | NA      | 1.5  | Ba |\n| Côte D'Ivoire  | Africa        | 2500 | <!----> | NA   | Ba |\n| Israel         | Asia          | NA   | 250000  | NA   | NA |\n| United Kingdom | Europe        | 2550 | 310000  | 330  | Ba |\n\n",
            "text/latex": "A data.frame: 6 × 6\n\\begin{tabular}{llllll}\n identification & identification2 & var1 & var2 & var3 & category\\\\\n <chr> & <chr> & <chr> & <chr> & <chr> & <chr>\\\\\n\\hline\n\t Perú           & South America & 1500 & 1200000 & 500  & A \\\\\n\t USA            & North America & 2500 & 1300000 & 1500 & A \\\\\n\t Canada         & North America & 3500 & NA      & 1.5  & Ba\\\\\n\t Côte D'Ivoire  & Africa        & 2500 &         & NA   & Ba\\\\\n\t Israel         & Asia          & NA   & 250000  & NA   & NA\\\\\n\t United Kingdom & Europe        & 2550 & 310000  & 330  & Ba\\\\\n\\end{tabular}\n",
            "text/plain": [
              "  identification identification2 var1 var2    var3 category\n",
              "1 Perú           South America   1500 1200000 500  A       \n",
              "2 USA            North America   2500 1300000 1500 A       \n",
              "3 Canada         North America   3500 NA      1.5  Ba      \n",
              "4 Côte D'Ivoire  Africa          2500         NA   Ba      \n",
              "5 Israel         Asia            NA   250000  NA   NA      \n",
              "6 United Kingdom Europe          2550 310000  330  Ba      "
            ]
          },
          "metadata": {}
        }
      ]
    },
    {
      "cell_type": "markdown",
      "source": [
        "## SAVING the CLEAN data"
      ],
      "metadata": {
        "id": "Czx5ZCdo95MV"
      }
    },
    {
      "cell_type": "code",
      "source": [
        "folder <- \"dataFormatted\"\n",
        "\n",
        "# Check if the folder exists\n",
        "if (!dir.exists(folder)) {\n",
        "  # Create the folder\n",
        "  dir.create(folder)\n",
        "  write.csv(nowClean,file.path(folder,\"nowClean.csv\"))\n",
        "\n",
        "} else {\n",
        "  write.csv(nowClean,file.path(folder,\"nowClean.csv\"))}"
      ],
      "metadata": {
        "id": "KlvJJMnv9yEk"
      },
      "execution_count": null,
      "outputs": []
    },
    {
      "cell_type": "code",
      "source": [],
      "metadata": {
        "id": "fKqcZNQv-mFR"
      },
      "execution_count": null,
      "outputs": []
    }
  ]
}