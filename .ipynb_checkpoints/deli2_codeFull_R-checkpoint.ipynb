{
  "nbformat": 4,
  "nbformat_minor": 0,
  "metadata": {
    "colab": {
      "provenance": []
    },
    "kernelspec": {
      "name": "ir",
      "display_name": "R"
    },
    "language_info": {
      "name": "R"
    }
  },
  "cells": [
    {
      "cell_type": "markdown",
      "source": [
        "# Cleaning and Formatting my data\n",
        "\n",
        "\n"
      ],
      "metadata": {
        "id": "wlbGBjqwKypy"
      }
    },
    {
      "cell_type": "markdown",
      "source": [
        "This is my data:"
      ],
      "metadata": {
        "id": "cg4rmYL1L7RR"
      }
    },
    {
      "cell_type": "code",
      "source": [
        "IRdisplay::display_html('<iframe width=\"700\" height=\"300\" src=\"https://docs.google.com/spreadsheets/d/e/2PACX-1vR-ubcCBaveg-58jcVmbErpO5kZswjFyHN5YlB8tB1a8B4fzU4sqZ08jkOKx4kBz1qtDNkJJWH8vBYF/pubhtml?gid=2024244899&single=true\"></iframe>')"
      ],
      "metadata": {
        "id": "1mt7eLQXLsZ0",
        "colab": {
          "base_uri": "https://localhost:8080/",
          "height": 325
        },
        "outputId": "ea1d11d1-ed7d-459a-bbb7-798dc6702666"
      },
      "execution_count": 1,
      "outputs": [
        {
          "output_type": "display_data",
          "data": {
            "text/html": [
              "<iframe width=\"700\" height=\"300\" src=\"https://docs.google.com/spreadsheets/d/e/2PACX-1vR-ubcCBaveg-58jcVmbErpO5kZswjFyHN5YlB8tB1a8B4fzU4sqZ08jkOKx4kBz1qtDNkJJWH8vBYF/pubhtml?gid=2024244899&single=true\"></iframe>"
            ]
          },
          "metadata": {}
        }
      ]
    },
    {
      "cell_type": "markdown",
      "source": [
        "You can find it [here](https://docs.google.com/spreadsheets/d/1e1Pll_MGF6dVi4KJTXTiLfRXzkjf7ZdBhd58yt3Vkl8/edit?usp=sharing) too, on GoogleDrive.\n",
        "\n",
        "**FOR this STEP, you should read from GitHub**.\n",
        "\n",
        "This is the link to my CSV:"
      ],
      "metadata": {
        "id": "MQQGVvxRMKp1"
      }
    },
    {
      "cell_type": "code",
      "source": [
        "# the link as CSV\n",
        "linkToData=\"https://docs.google.com/spreadsheets/d/e/2PACX-1vR-ubcCBaveg-58jcVmbErpO5kZswjFyHN5YlB8tB1a8B4fzU4sqZ08jkOKx4kBz1qtDNkJJWH8vBYF/pub?gid=0&single=true&output=csv\""
      ],
      "metadata": {
        "id": "yi6mdO0qE9Bh"
      },
      "execution_count": null,
      "outputs": []
    },
    {
      "cell_type": "markdown",
      "source": [
        "Read the data:"
      ],
      "metadata": {
        "id": "LCPBKFXjMvlC"
      }
    },
    {
      "cell_type": "code",
      "source": [
        "dirty=read.csv(linkToData,check.names=F)"
      ],
      "metadata": {
        "id": "vDesgoI8MuIC"
      },
      "execution_count": null,
      "outputs": []
    },
    {
      "cell_type": "markdown",
      "source": [
        "As usual, I check the data types:"
      ],
      "metadata": {
        "id": "yqClhkWnM6mF"
      }
    },
    {
      "cell_type": "code",
      "source": [
        "str(dirty)"
      ],
      "metadata": {
        "id": "F5Ao2B4dM2OS"
      },
      "execution_count": null,
      "outputs": []
    },
    {
      "cell_type": "markdown",
      "source": [
        "Now, I identify which are textual, numerical, or categorical.\n",
        "\n",
        "* Columns **identification1** and **identification2** are *textual*.\n",
        "* The columns from **var1** to **var@3** are all *numerical*. But if the type is _object_ the column should have some non numerical characters.\n",
        "* Column **category** is *categorical*. Keep in mind that categorical types will NEVER be recognised as such when read from a CSV. They will always be understood as text (_object_).\n",
        "\n",
        "The **column names** are always *textual*.\n",
        "\n"
      ],
      "metadata": {
        "id": "W-XVdq5pNIvM"
      }
    },
    {
      "cell_type": "markdown",
      "source": [
        "# PART 1. EXPLORATION"
      ],
      "metadata": {
        "id": "klvayVChRX-B"
      }
    },
    {
      "cell_type": "markdown",
      "source": [
        "\n",
        "\n",
        "### 1.1. **Exploring TEXT**\n",
        "\n",
        "\n",
        "When data is textual, you need to explore the cells to verify all the characters are part of the **alphabet**.\n",
        "\n",
        "Let me use R's **grep()** function:"
      ],
      "metadata": {
        "id": "_uE5Gq0svCMP"
      }
    },
    {
      "cell_type": "code",
      "source": [
        "# show me the cells that have a character outside the alphabet\n",
        "dirty$identification[grep(\"[^a-zA-Z]\",dirty$identification)]"
      ],
      "metadata": {
        "id": "p6MfTGHNO9pY"
      },
      "execution_count": null,
      "outputs": []
    },
    {
      "cell_type": "markdown",
      "source": [
        "United Kingdom is not dirty. But the space is outside the alphabet. What about:"
      ],
      "metadata": {
        "id": "XnxVoC-tQtRn"
      }
    },
    {
      "cell_type": "code",
      "source": [
        "dirty$identification[grep(\"\\\\W\",dirty$identification)]"
      ],
      "metadata": {
        "id": "64Ek8f1AQhyo"
      },
      "execution_count": null,
      "outputs": []
    },
    {
      "cell_type": "markdown",
      "source": [
        "or..."
      ],
      "metadata": {
        "id": "kKiv8YhpTu2r"
      }
    },
    {
      "cell_type": "code",
      "source": [
        "dirty$identification[grep(\"[^\\\\w\\\\s]\",dirty$identification,perl=T)]"
      ],
      "metadata": {
        "id": "azFOFPfTQ6a5"
      },
      "execution_count": null,
      "outputs": []
    },
    {
      "cell_type": "markdown",
      "source": [
        "\n",
        "Then the safe option is:"
      ],
      "metadata": {
        "id": "CNVtHTXKO5IB"
      }
    },
    {
      "cell_type": "code",
      "source": [
        "dirty$identification[grep(\"[^a-zA-Z\\\\s]\",dirty$identification,perl = T)]"
      ],
      "metadata": {
        "id": "I6XJAxeWsIGb"
      },
      "execution_count": null,
      "outputs": []
    },
    {
      "cell_type": "markdown",
      "source": [
        "A similar exploration should be done in the **column names**:"
      ],
      "metadata": {
        "id": "wZMsX-9isV4E"
      }
    },
    {
      "cell_type": "code",
      "source": [
        "# allowing numbers, not spaces\n",
        "names(dirty)[grep(\"[^0-9a-zA-Z]\",names(dirty),perl = T)]"
      ],
      "metadata": {
        "id": "PBhk9jgoO1Pt"
      },
      "execution_count": null,
      "outputs": []
    },
    {
      "cell_type": "markdown",
      "source": [
        "And in the case of the column with **categorical data**:"
      ],
      "metadata": {
        "id": "FLieVB59VnLy"
      }
    },
    {
      "cell_type": "code",
      "source": [
        "dirty$category[grep(\"[^a-zA-Z]\",dirty$category,perl = T)]"
      ],
      "metadata": {
        "id": "PmZvPFAOVb2j"
      },
      "execution_count": null,
      "outputs": []
    },
    {
      "cell_type": "markdown",
      "source": [
        "### 1.2. **Exploring NUMBERS**\n",
        "\n",
        "If numbers are recognised as so, there is no cleaning needed. But if not, it means it has been recognised as text, then we use the regex **\\d** (and its variations):"
      ],
      "metadata": {
        "id": "rZtluc7CV3cA"
      }
    },
    {
      "cell_type": "code",
      "source": [
        "dirty$var1[grep(\"\\\\D\",dirty$var1,perl = T)]"
      ],
      "metadata": {
        "id": "ccHsRJmGVsww"
      },
      "execution_count": null,
      "outputs": []
    },
    {
      "cell_type": "code",
      "source": [
        "dirty$'var 2'[grep(\"\\\\D\",dirty$'var 2',perl = T)]"
      ],
      "metadata": {
        "id": "yJ6yQY-uWMIt"
      },
      "execution_count": null,
      "outputs": []
    },
    {
      "cell_type": "code",
      "source": [
        "### Why the error?\n",
        "# dirty$var@3[grep(\"\\\\D\",dirty$var@3,perl = T)]"
      ],
      "metadata": {
        "id": "sZaGGk-zWZ6K"
      },
      "execution_count": null,
      "outputs": []
    },
    {
      "cell_type": "markdown",
      "source": [
        "Notice I need to use **\"\"** to access the variables with dirty names (space between words, and the **@** special character). That is why you clean the column names first:"
      ],
      "metadata": {
        "id": "dLMdQ1uaWjU0"
      }
    },
    {
      "cell_type": "code",
      "source": [
        "dirty$'var@3'[grep(\"\\\\D\",dirty$'var@3',perl=T)]"
      ],
      "metadata": {
        "id": "q2Iecxi_WUj7"
      },
      "execution_count": null,
      "outputs": []
    },
    {
      "cell_type": "markdown",
      "source": [
        "There are cells with good values, but other values can not be kept. Use **\\D** with care, numbers are complex. So I prefer something like this:"
      ],
      "metadata": {
        "id": "YBlSuvGcuLYN"
      }
    },
    {
      "cell_type": "code",
      "source": [
        "dirty$'var@3'[grep(\"[^\\\\d+\\\\.*\\\\d*]\", dirty$'var@3', perl=T,invert = F)]"
      ],
      "metadata": {
        "id": "uGvlJx57uZcW"
      },
      "execution_count": null,
      "outputs": []
    },
    {
      "cell_type": "markdown",
      "source": [
        "# PART 2. CLEANING\n",
        "\n",
        "As mentioned, cleaning may mean:\n",
        "\n",
        "a. Making bad characters disappear.\n",
        "\n",
        "b. Keeping good characters stay.\n",
        "\n",
        "\n",
        "Let's start with the _column names_:"
      ],
      "metadata": {
        "id": "gXqbdwHLWmY7"
      }
    },
    {
      "cell_type": "markdown",
      "source": [
        "## 2.1  The Column names"
      ],
      "metadata": {
        "id": "0RbmIvvGR-rJ"
      }
    },
    {
      "cell_type": "code",
      "source": [
        "names(dirty)[grep(\"[^0-9a-zA-Z]\",names(dirty),perl = T)]"
      ],
      "metadata": {
        "id": "08lZ2YJJWePM"
      },
      "execution_count": null,
      "outputs": []
    },
    {
      "cell_type": "markdown",
      "source": [
        "How can you say: if \"a space\" or a \"weird character\", disappear? (that is *replace* by \"\")"
      ],
      "metadata": {
        "id": "swjrz_7ia4p-"
      }
    },
    {
      "cell_type": "code",
      "source": [
        "# option 1\n",
        "gsub(\"\\\\W\",'',names(dirty), perl=T )\n"
      ],
      "metadata": {
        "id": "xBKjgb3Dar_V"
      },
      "execution_count": null,
      "outputs": []
    },
    {
      "cell_type": "code",
      "source": [
        "# option 2\n",
        "gsub(\"[^\\\\w]\",'',names(dirty), perl=T )"
      ],
      "metadata": {
        "id": "Yqb4_4FRbLKU"
      },
      "execution_count": null,
      "outputs": []
    },
    {
      "cell_type": "code",
      "source": [
        "# # option 3\n",
        "gsub(\"[^0-9a-zA-Z]\",'',names(dirty), perl=T )"
      ],
      "metadata": {
        "id": "gNQGMLeGbdcG"
      },
      "execution_count": null,
      "outputs": []
    },
    {
      "cell_type": "markdown",
      "source": [
        "Choose any and make the change:"
      ],
      "metadata": {
        "id": "qrCiL6PIcOB3"
      }
    },
    {
      "cell_type": "code",
      "source": [
        "names(dirty)=gsub(\"[^0-9a-zA-Z]\",'',names(dirty), perl=T )\n",
        "dirty"
      ],
      "metadata": {
        "id": "VJkm5i-0b0EN"
      },
      "execution_count": null,
      "outputs": []
    },
    {
      "cell_type": "markdown",
      "source": [
        "The column names were cleaned by **Making bad characters disappear** 🙂\n",
        "\n",
        "## 2.2  The dataframe contents\n",
        "\n",
        "The contents include:\n",
        "* The data columns. Generally numbers and categories.\n",
        "* The identifier column(s). Generally text.\n",
        "\n"
      ],
      "metadata": {
        "id": "agZwI0HPc_x3"
      }
    },
    {
      "cell_type": "markdown",
      "source": [
        "### 2.2.1 The idientifier column(s)\n",
        "\n",
        "We have two of those. Let's check the **identification** column:"
      ],
      "metadata": {
        "id": "e45D-e81SrEj"
      }
    },
    {
      "cell_type": "code",
      "source": [
        "dirty$identification[grep(\"[^a-zA-Z\\\\s]\",dirty$identification,perl = T)]"
      ],
      "metadata": {
        "id": "FHtLX5V3cYW3"
      },
      "execution_count": null,
      "outputs": []
    },
    {
      "cell_type": "markdown",
      "source": [
        "Not all characters detected are invalid. The **only** problem here is the brackets. Then:\n",
        "\n",
        "* Option 1: Whatever inside brackets (including the brackets) have to go!"
      ],
      "metadata": {
        "id": "Cz5flS9necoL"
      }
    },
    {
      "cell_type": "code",
      "source": [
        "gsub(\"\\\\[.*\\\\]\",'',dirty$identification,perl = T)"
      ],
      "metadata": {
        "id": "qdXe3HrjeMKC"
      },
      "execution_count": null,
      "outputs": []
    },
    {
      "cell_type": "markdown",
      "source": [
        "* Option 2: Splitting"
      ],
      "metadata": {
        "id": "yQdqE96uhlak"
      }
    },
    {
      "cell_type": "code",
      "source": [
        "strsplit(dirty$identification,split = '[',fixed=T)"
      ],
      "metadata": {
        "id": "qp1d-xVkfHPl"
      },
      "execution_count": null,
      "outputs": []
    },
    {
      "cell_type": "markdown",
      "source": [
        "You got a list. BUT you need a data frame column. Then:"
      ],
      "metadata": {
        "id": "atTpYtx6K4tE"
      }
    },
    {
      "cell_type": "code",
      "source": [
        "## saving result\n",
        "resultSplitIn2=strsplit(dirty$identification,split = '[',fixed=T)\n",
        "# as matrix\n",
        "goodColumn=c()\n",
        "for (elements in resultSplitIn2){\n",
        "  goodColumn=c(goodColumn,elements[1])\n",
        "\n",
        "}\n",
        "goodColumn"
      ],
      "metadata": {
        "id": "cl4MNOXyLEGB"
      },
      "execution_count": null,
      "outputs": []
    },
    {
      "cell_type": "markdown",
      "source": [
        "When you are happy, make the change:"
      ],
      "metadata": {
        "id": "_2kBZazbjhk1"
      }
    },
    {
      "cell_type": "code",
      "source": [
        "dirty$identification=goodColumn\n",
        "dirty"
      ],
      "metadata": {
        "id": "4aBjngydiiom"
      },
      "execution_count": null,
      "outputs": []
    },
    {
      "cell_type": "markdown",
      "source": [
        "The **splitting** option seems very convenient for **identification2**:"
      ],
      "metadata": {
        "id": "nKA-BIx8jt8S"
      }
    },
    {
      "cell_type": "code",
      "source": [
        "## you want to keep [2]:\n",
        "## saving result\n",
        "resultSplitIn2=strsplit(dirty$identification2,split = ',', fixed = T)\n",
        "# as matrix\n",
        "goodColumn=c()\n",
        "for (elements in resultSplitIn2){\n",
        "  goodColumn=c(goodColumn,elements[2]) #keepig the right part!\n",
        "\n",
        "}\n",
        "goodColumn"
      ],
      "metadata": {
        "id": "1F6gVTxEj6MS"
      },
      "execution_count": null,
      "outputs": []
    },
    {
      "cell_type": "markdown",
      "source": [
        "If this is OK, then:"
      ],
      "metadata": {
        "id": "EprMk2H1kCUi"
      }
    },
    {
      "cell_type": "code",
      "source": [
        "dirty$identification2=goodColumn\n",
        "dirty"
      ],
      "metadata": {
        "id": "Kma4R2vVkAUJ"
      },
      "execution_count": null,
      "outputs": []
    },
    {
      "cell_type": "markdown",
      "source": [
        "### 2.2.2 The Categorical columns"
      ],
      "metadata": {
        "id": "hhMKBXwmS1or"
      }
    },
    {
      "cell_type": "markdown",
      "source": [
        "The **category** requires a frequency table:"
      ],
      "metadata": {
        "id": "aXuEiiq-k3ZF"
      }
    },
    {
      "cell_type": "code",
      "source": [
        "table(dirty$category)"
      ],
      "metadata": {
        "id": "l8kG5BVykLOK"
      },
      "execution_count": null,
      "outputs": []
    },
    {
      "cell_type": "markdown",
      "source": [
        "You can conclude that the **a** is wrong, it should be **A**."
      ],
      "metadata": {
        "id": "S0_2UxwBlE15"
      }
    },
    {
      "cell_type": "code",
      "source": [
        "#what about:\n",
        "gsub('a','A', dirty$category,fixed=T) #fixed uses NO REGEX"
      ],
      "metadata": {
        "id": "Eq2akJqAlRxx"
      },
      "execution_count": null,
      "outputs": []
    },
    {
      "cell_type": "markdown",
      "source": [
        "That changed **Ba** to **BA**!"
      ],
      "metadata": {
        "id": "mpxv6ldOo21_"
      }
    },
    {
      "cell_type": "code",
      "source": [
        "## maybe\n",
        "## ^: start of string\n",
        "## $: end  of string\n",
        "gsub('^a$','A', dirty$category)"
      ],
      "metadata": {
        "id": "Sbt0sI9_mLqV"
      },
      "execution_count": null,
      "outputs": []
    },
    {
      "cell_type": "markdown",
      "source": [
        "The simpler way:"
      ],
      "metadata": {
        "id": "s4q-Far4pCPU"
      }
    },
    {
      "cell_type": "code",
      "source": [
        "dirty[dirty$category=='a','category']='A'\n",
        "\n",
        "dirty"
      ],
      "metadata": {
        "id": "H3G2J2xWlBEs"
      },
      "execution_count": null,
      "outputs": []
    },
    {
      "cell_type": "markdown",
      "source": [
        "\n",
        "As you seem there are some symbols for missing. We could change it now. Or later.\n",
        "\n",
        "Let me first check the **numeric columns**"
      ],
      "metadata": {
        "id": "QGf_qIBJopIh"
      }
    },
    {
      "cell_type": "markdown",
      "source": [
        "### 2.2.3. The numerical columns"
      ],
      "metadata": {
        "id": "EX4dAXpiTFhx"
      }
    },
    {
      "cell_type": "code",
      "source": [
        "gsub(',','',dirty$var1)\n"
      ],
      "metadata": {
        "id": "KoaKd7jlm9cN"
      },
      "execution_count": null,
      "outputs": []
    },
    {
      "cell_type": "markdown",
      "source": [
        "Then,"
      ],
      "metadata": {
        "id": "MPTeOLYfsf2H"
      }
    },
    {
      "cell_type": "code",
      "source": [
        "dirty$var1=gsub(',','',dirty$var1)\n",
        "dirty\n"
      ],
      "metadata": {
        "id": "CtPZW6z3sh0a"
      },
      "execution_count": null,
      "outputs": []
    },
    {
      "cell_type": "markdown",
      "source": [
        "The **var2** is more complicated."
      ],
      "metadata": {
        "id": "oIipm3TVqX1G"
      }
    },
    {
      "cell_type": "code",
      "source": [
        "# save where you have the issue\n",
        "dirty$var2_temp=grepl(\"\\\\'|k\",dirty$var2,fixed=F)\n",
        "dirty"
      ],
      "metadata": {
        "id": "6Tkgr57Hp9Nw"
      },
      "execution_count": null,
      "outputs": []
    },
    {
      "cell_type": "code",
      "source": [
        "## now replace\n",
        "dirty$var2=gsub(\"\\\\'|k\",'',dirty$var2)\n",
        "dirty"
      ],
      "metadata": {
        "id": "SWrmthe9pdRB"
      },
      "execution_count": null,
      "outputs": []
    },
    {
      "cell_type": "code",
      "source": [
        "# now the real value\n",
        "ifelse(dirty$var2_temp,paste0(dirty$var2,'000'),dirty$var2)"
      ],
      "metadata": {
        "id": "4oYE45wUrAE_"
      },
      "execution_count": null,
      "outputs": []
    },
    {
      "cell_type": "code",
      "source": [
        "# then\n",
        "dirty$var2=ifelse(dirty$var2_temp,paste0(dirty$var2,'000'),dirty$var2)\n",
        "dirty$var2_temp=NULL\n",
        "dirty"
      ],
      "metadata": {
        "id": "BvTllTaxrbDS"
      },
      "execution_count": null,
      "outputs": []
    },
    {
      "cell_type": "markdown",
      "source": [
        "The **var3** can be solved like this:"
      ],
      "metadata": {
        "id": "5umWO2Ffsqa_"
      }
    },
    {
      "cell_type": "code",
      "source": [
        "dirty['var3']=gsub(\"\\\\$|\\\\s\",'',dirty$var3)\n",
        "dirty"
      ],
      "metadata": {
        "id": "jqPoWWBSsXJf"
      },
      "execution_count": null,
      "outputs": []
    },
    {
      "cell_type": "markdown",
      "source": [
        "## 2.3. Detecting missing values:\n",
        "\n",
        "\n",
        "Wrong missing values representation should be replace with care. Do it according to the data type.\n",
        "\n",
        "Then, let's start with the **categorical** column:"
      ],
      "metadata": {
        "id": "_62chrRs3Pc_"
      }
    },
    {
      "cell_type": "code",
      "source": [
        "badSymbolCat=grep('\\\\W+',dirty$category,value = T)\n",
        "badSymbolCat"
      ],
      "metadata": {
        "id": "4IsFiRwAsy3E"
      },
      "execution_count": null,
      "outputs": []
    },
    {
      "cell_type": "markdown",
      "source": [
        "Once found:"
      ],
      "metadata": {
        "id": "7UoB_zvf6xbP"
      }
    },
    {
      "cell_type": "code",
      "source": [
        "dirty$category=gsub(badSymbolCat,NA,dirty$category,fixed = T)\n",
        "dirty"
      ],
      "metadata": {
        "id": "c9QHCqGX6zqO"
      },
      "execution_count": null,
      "outputs": []
    },
    {
      "cell_type": "markdown",
      "source": [
        "Let's go for the **numerical** cases:"
      ],
      "metadata": {
        "id": "1C04RJnc7L7X"
      }
    },
    {
      "cell_type": "code",
      "source": [
        "dirty$var1[grep(\"[^\\\\d+\\\\.*\\\\d*]\",dirty$var1,perl = T)]"
      ],
      "metadata": {
        "id": "ChdHDwPX1wbE"
      },
      "execution_count": null,
      "outputs": []
    },
    {
      "cell_type": "code",
      "source": [
        "dirty$var2[grep(\"[^\\\\d+\\\\.*\\\\d*]\",dirty$var2,perl = T)]"
      ],
      "metadata": {
        "id": "5Fgv5eCCQtgZ"
      },
      "execution_count": null,
      "outputs": []
    },
    {
      "cell_type": "code",
      "source": [
        "dirty$var3[grep(\"[^\\\\d+\\\\.*\\\\d*]\", dirty$var3, perl=T,invert = F)]"
      ],
      "metadata": {
        "id": "1PC1cAvx2fsw"
      },
      "execution_count": null,
      "outputs": []
    },
    {
      "cell_type": "markdown",
      "source": [
        "Here I apply a function to several columns, instead of one by one:"
      ],
      "metadata": {
        "id": "YCxykWkyQaSb"
      }
    },
    {
      "cell_type": "code",
      "source": [
        "sapply(dirty[, c('var1','var2','var3')], function(col){col[grep(\"[^\\\\d+\\\\.*\\\\d*]\", col, perl=T,invert = F)]})"
      ],
      "metadata": {
        "id": "vTSDc1F8tVZh"
      },
      "execution_count": null,
      "outputs": []
    },
    {
      "cell_type": "markdown",
      "source": [
        "Nice output:"
      ],
      "metadata": {
        "id": "5_Mtggm1Qjdw"
      }
    },
    {
      "cell_type": "code",
      "source": [
        "unlist(sapply(dirty[, c('var1','var2','var3')], function(col){col[grep(\"[^\\\\d+\\\\.*\\\\d*]\", col, perl=T,invert = F)]}))"
      ],
      "metadata": {
        "id": "tMXgcGddt2DX"
      },
      "execution_count": null,
      "outputs": []
    },
    {
      "cell_type": "code",
      "source": [
        "unique(unlist(sapply(dirty[, c('var1','var2','var3')], function(col){col[grep(\"[^\\\\d+\\\\.*\\\\d*]\", col, perl=T,invert = F)]})))"
      ],
      "metadata": {
        "id": "3KsiG0Yn3k2S"
      },
      "execution_count": null,
      "outputs": []
    },
    {
      "cell_type": "markdown",
      "source": [
        "Let's improve readability:"
      ],
      "metadata": {
        "id": "IatCR1Gk4oa0"
      }
    },
    {
      "cell_type": "code",
      "source": [
        "detectWrongNA= function(col){col[grep(\"[^\\\\d+\\\\.*\\\\d*]\", col, perl=T,invert = F)]}\n",
        "badSymbolNum=sapply(dirty[, c('var1','var2','var3')],detectWrongNA)\n",
        "badSymbolNum_unlist=unlist(badSymbolNum)\n",
        "badSymbolNum_vector=unique(badSymbolNum_unlist)\n",
        "badSymbolNum_vector"
      ],
      "metadata": {
        "id": "5em1bv4h4j3W"
      },
      "execution_count": null,
      "outputs": []
    },
    {
      "cell_type": "markdown",
      "source": [
        "Let's clean those columns:"
      ],
      "metadata": {
        "id": "0-5BEdm58nzG"
      }
    },
    {
      "cell_type": "code",
      "source": [
        "\n",
        "\n",
        "dirty[, c('var1','var2','var3')]=lapply(dirty[, c('var1','var2','var3')],function(col) ifelse((col %in% badSymbolNum_vector), NA, col))\n",
        "\n",
        "dirty\n"
      ],
      "metadata": {
        "id": "Sl9Mv_N85BsC"
      },
      "execution_count": null,
      "outputs": []
    },
    {
      "cell_type": "code",
      "source": [
        "str(dirty)"
      ],
      "metadata": {
        "id": "W7BfGcVW9FY1"
      },
      "execution_count": null,
      "outputs": []
    },
    {
      "cell_type": "markdown",
      "source": [
        "Always be preventive with leading and trailing spaces!"
      ],
      "metadata": {
        "id": "bo2y1wJv9bT1"
      }
    },
    {
      "cell_type": "code",
      "source": [
        "dirty[,]=sapply(dirty[,],trimws) #use it when all are CHR!\n",
        "nowClean=dirty[,]\n",
        "str(nowClean)"
      ],
      "metadata": {
        "id": "mnlQwq6k9MTQ"
      },
      "execution_count": null,
      "outputs": []
    },
    {
      "cell_type": "code",
      "source": [
        "nowClean"
      ],
      "metadata": {
        "id": "ZeoBfZOfeJCl"
      },
      "execution_count": null,
      "outputs": []
    },
    {
      "cell_type": "markdown",
      "source": [
        "## 2.4. Saving the cleaned data\n",
        "\n",
        "I will save the cleaned dataframe **locally**:"
      ],
      "metadata": {
        "id": "Czx5ZCdo95MV"
      }
    },
    {
      "cell_type": "code",
      "source": [
        "folder <- \"dataFormatted\"\n",
        "\n",
        "# Check if the folder exists\n",
        "if (!dir.exists(folder)) {\n",
        "  # Create the folder\n",
        "  dir.create(folder)\n",
        "  write.csv(nowClean,file.path(folder,\"nowClean.csv\"),row.names=F)\n",
        "\n",
        "} else {\n",
        "  write.csv(nowClean,file.path(folder,\"nowClean.csv\"),row.names=F)}"
      ],
      "metadata": {
        "id": "KlvJJMnv9yEk"
      },
      "execution_count": null,
      "outputs": []
    },
    {
      "cell_type": "markdown",
      "source": [
        "**The cleaned fill will be sent to Github**\n",
        "\n",
        "The formatting part will read this file from GitHub."
      ],
      "metadata": {
        "id": "ViLiR7F8Tr9U"
      }
    },
    {
      "cell_type": "markdown",
      "source": [
        "# PART 3. FORMATTING\n",
        "\n",
        "Let me read the cleaned data from **GITHUB**"
      ],
      "metadata": {
        "id": "AxXwB5s4U9u-"
      }
    },
    {
      "cell_type": "code",
      "execution_count": null,
      "metadata": {
        "id": "YpETWqYViCnu"
      },
      "outputs": [],
      "source": [
        "linkCleanData='https://github.com/MAGALLANESJoseManuel/deli2_test/raw/refs/heads/main/DataCleanAndFormatted/nowClean.csv'\n",
        "cleanData=read.csv(linkCleanData)\n",
        "str(cleanData)"
      ]
    },
    {
      "cell_type": "code",
      "source": [
        "cleanData"
      ],
      "metadata": {
        "id": "46-026_bYN4a"
      },
      "execution_count": null,
      "outputs": []
    },
    {
      "cell_type": "markdown",
      "source": [
        "## The numerical data\n",
        "\n",
        "Since the numeric data was clean, you need not format those columns."
      ],
      "metadata": {
        "id": "VkjQ7F0ihdJy"
      }
    },
    {
      "cell_type": "markdown",
      "source": [
        "## The categorical data\n",
        "\n",
        "We have one categorical column, currently as text."
      ],
      "metadata": {
        "id": "qAU_8FrfhhpV"
      }
    },
    {
      "cell_type": "code",
      "source": [
        "cleanData$category"
      ],
      "metadata": {
        "id": "xOwInEU-h1MC"
      },
      "execution_count": null,
      "outputs": []
    },
    {
      "cell_type": "markdown",
      "source": [
        "Create a column of labels as categorical. If the levels are NOT ordinal, just use letters (if you had ordinal levels, you should add numbers at the beginning)."
      ],
      "metadata": {
        "id": "4R1PQ0Rrh6qD"
      }
    },
    {
      "cell_type": "code",
      "source": [
        "# create and rename\n",
        "\n",
        "cleanData$category_label=factor(cleanData$category,\n",
        "                                levels = c('A','Ba'),\n",
        "                                labels = c('Not Allied', 'Allied'))\n",
        "\n",
        "# result\n",
        "cleanData"
      ],
      "metadata": {
        "id": "E-BJ3UoGjaj4"
      },
      "execution_count": null,
      "outputs": []
    },
    {
      "cell_type": "code",
      "source": [
        "# verifying\n",
        "str(cleanData)"
      ],
      "metadata": {
        "id": "UEn3inAIiTVs"
      },
      "execution_count": null,
      "outputs": []
    },
    {
      "cell_type": "markdown",
      "source": [
        "Now create a representation of the categories using numbers:"
      ],
      "metadata": {
        "id": "NE0J6NOikYgA"
      }
    },
    {
      "cell_type": "code",
      "source": [
        "RENAME_category <- c(\"Not Allied\"=0 ,\"Allied\"=1)\n",
        "cleanData$category_int=RENAME_category[cleanData$category_label]\n",
        "\n",
        "#result\n",
        "cleanData"
      ],
      "metadata": {
        "id": "HJvLJoZOlJ81"
      },
      "execution_count": null,
      "outputs": []
    },
    {
      "cell_type": "code",
      "source": [
        "# verifying\n",
        "str(cleanData)"
      ],
      "metadata": {
        "id": "ZZ7qpnHuE5iM"
      },
      "execution_count": null,
      "outputs": []
    },
    {
      "cell_type": "markdown",
      "source": [
        "## The TEXT data\n",
        "\n",
        "We have two columns of text data."
      ],
      "metadata": {
        "id": "ehnyVw8ylJVs"
      }
    },
    {
      "cell_type": "code",
      "source": [
        "cleanData[,1:2]"
      ],
      "metadata": {
        "id": "cpSjRlDwlJr3"
      },
      "execution_count": null,
      "outputs": []
    },
    {
      "cell_type": "markdown",
      "source": [
        "The text format should have all characters in lower or upper case. This will be needed during the **integration** stage. Let me choose upper case:"
      ],
      "metadata": {
        "id": "1PKyvraeln6u"
      }
    },
    {
      "cell_type": "code",
      "source": [
        "lapply(cleanData[,1:2],toupper)"
      ],
      "metadata": {
        "id": "AE2cWU7ylN-g"
      },
      "execution_count": null,
      "outputs": []
    },
    {
      "cell_type": "markdown",
      "source": [
        "We need to get rid of non-ASCII characters."
      ],
      "metadata": {
        "id": "eanbMiWLof-k"
      }
    },
    {
      "cell_type": "code",
      "source": [
        "lapply(lapply(cleanData[,1:2],toupper),iconv,from=\"UTF-8\",to=\"ASCII//TRANSLIT\")"
      ],
      "metadata": {
        "id": "6B8FmRaplsSd"
      },
      "execution_count": null,
      "outputs": []
    },
    {
      "cell_type": "markdown",
      "source": [
        "Let's create a function to improve readability:"
      ],
      "metadata": {
        "id": "sJjFs2fmomz2"
      }
    },
    {
      "cell_type": "code",
      "source": [
        "formatText=function(column){iconv(toupper(column),from=\"UTF-8\",to=\"ASCII//TRANSLIT\")}\n",
        "cleanData[,1:2]=lapply(cleanData[,1:2],formatText)\n",
        "\n",
        "# result\n",
        "cleanData"
      ],
      "metadata": {
        "id": "nsAPSlMYnSgY"
      },
      "execution_count": null,
      "outputs": []
    },
    {
      "cell_type": "markdown",
      "source": [
        "## Saving\n",
        "\n",
        "The data formatted **SHOULD NOT** be saved as CSV. In R, choose **RDS**:"
      ],
      "metadata": {
        "id": "Dt0sRGLnpBsZ"
      }
    },
    {
      "cell_type": "code",
      "source": [
        "folder = \"DataCleanAndFormatted\"\n",
        "\n",
        "# Check if the folder exists\n",
        "if (!dir.exists(folder)) {\n",
        "  # Create the folder\n",
        "  dir.create(folder)\n",
        "  saveRDS(cleanData,file.path(folder,\"formatted_Data.RDS\"))\n",
        "\n",
        "} else {\n",
        "  saveRDS(cleanData,file.path(folder,\"formatted_Data.RDS\"))\n",
        "\n",
        "}"
      ],
      "metadata": {
        "id": "5hX91Pdqmvcb"
      },
      "execution_count": null,
      "outputs": []
    },
    {
      "cell_type": "markdown",
      "source": [
        "Which can be read like this:"
      ],
      "metadata": {
        "id": "gBT_lfy4F8SR"
      }
    },
    {
      "cell_type": "code",
      "source": [
        "formatted_Data=readRDS(file.path(folder,\"formatted_Data.RDS\"))\n",
        "str(formatted_Data)"
      ],
      "metadata": {
        "id": "Vt_fRl85pXiv"
      },
      "execution_count": null,
      "outputs": []
    },
    {
      "cell_type": "code",
      "source": [
        "formatted_Data"
      ],
      "metadata": {
        "id": "8B0DSzAxFtAq"
      },
      "execution_count": null,
      "outputs": []
    }
  ]
}